{
  "cells": [
    {
      "cell_type": "markdown",
      "metadata": {
        "id": "HXUxxgx_wOry"
      },
      "source": [
        "## **Probabilidades** de estado estable de las cadenas de Markov\n",
        "\n",
        "Recordemos la siguiente notación:\n",
        "\n",
        "$$p_{ij} = \\mathbb{P} \\left[ X_{t+1}=j \\ | \\ X_t = i \\right]$$\n",
        "\n",
        "Si tenemos los estados $0,\\,1,\\,2,\\ldots, M$, entonces podemos construir la matriz de transición $\\mathbf{P}$, dada por:\n",
        "$$\n",
        "\\mathbf{P}=\n",
        "\\begin{pmatrix}\n",
        "p_{00} & p_{01} & \\cdots & p_{0M}\\\\\n",
        "p_{10} & p_{11} & \\cdots & p_{1M}\\\\\n",
        "\\vdots & \\vdots & \\ddots & \\vdots\\\\\n",
        "p_{M0} & p_{M1} & \\cdots & p_{MM}\n",
        "\\end{pmatrix}\n",
        "$$\n",
        "\n",
        "no olvidar que esta es la matriz de transición a un paso (el súper-índice (1)) no se escribe.\n",
        "\n",
        "Usando esta misma notación y usando el resultado dado por las ecuaciones de Chapman-Kolmogorov, podemos escribir la matriz de transición $\\mathbf{P}^{(n)}$ a $n$ pasos de la siguiente forma:\n",
        "\n",
        "$$\\mathbf{P}^{(n)} = \\underbrace{\\mathbf{P} \\cdot \\mathbf{P} \\cdots \\mathbf{P}}_{\\text{n veces}} = \\mathbf{P}^n$$\n",
        "\n",
        "donde $\\mathbf{P}^n$ en la última ecuación es la potencia n-ésima de la matriz de transición a un paso $\\mathbf{P}$.\n",
        "\n",
        "Si estamos interesados en encontrar las probabilidades de estado estable, es decir a qué probabilidades convergen nuestros $M$ estados en el largo plazo, debemos encontrar:\n",
        "\n",
        "$$\\lim_{n\\rightarrow\\infty}p^{(n)}_{ij} = \\pi_j > 0$$\n",
        "\n",
        "donde las $\\pi_j$ satisfacen de manera única las siguientes **ecuaciones de estado estable**\n",
        "$$\\pi_j = \\sum^M_{i=0}\\pi_i\\cdot p_{ij},   \\text{para}\\,j=0,1,\\ldots,M,$$\n",
        "junto con la siguiente ecuación\n",
        "$$\\pi_0 + \\pi_1 + \\cdots + \\pi_M = 1.$$\n",
        "De forma conveniente vamos a escribir las ecuaciones de estado estable de la siguiente forma\n",
        "$$\\boldsymbol{\\pi} = \\boldsymbol{\\pi} \\cdot \\mathbf{P}$$\n",
        "donde $\\boldsymbol{\\pi} = (\\pi_0,\\pi_1,\\ldots,\\pi_M)$. Ahora, re-escribimos la ecuación anterior\n",
        "$$\\boldsymbol{\\pi} = \\boldsymbol{\\pi} \\cdot \\mathbf{P} \\,\\leftrightarrow\\,\\boldsymbol{\\pi}(\\mathbf{P}-I)=0$$\n",
        "donde $I$ es la matriz identidad de orden $M$. Como la ecuación\n",
        "$$\\pi_0 + \\pi_1 + \\cdots + \\pi_M = 1.$$\n",
        "no estaba en el sistema anterior, la podemos agregar a la matriz $\\mathbf{P}-I$ como un vector columna de unos (un vector cuyo largo es M y tiene en cada entrada números 1). Esta nueva matriz tiene $M$ filas y $M+1$ columnas. Llamemos a esta nueva matriz $\\mathbf{Q}$ y ahora podemos escribir en el lado derecho un vector $\\mathbf{b}=(0,0,\\ldots,1)$ (repites los ceros M veces y el término M+1 es un 1). Con lo cual tenemos:\n",
        "$$\\boldsymbol{\\pi}\\mathbf{Q} = \\mathbf{b}$$\n",
        "multiplicamos ambos lados de esta ecuación por $\\mathbf{Q}^T$\n",
        "$$\\boldsymbol{\\pi}\\mathbf{Q}\\mathbf{Q}^T = \\mathbf{b}\\mathbf{Q}^T$$\n",
        "donde ahora podemos resolver:\n",
        "$$\\boldsymbol{\\pi} = \\mathbf{b}\\mathbf{Q}^T (\\mathbf{Q}\\mathbf{Q}^T)^{-1}$$\n",
        "Para que esta ecuación resulte en el formato usual de álgebra lineal tomamos la transpuesta de esta ecuación y en la práctica (en el computador), resolvemos:\n",
        "$$\\boldsymbol{\\pi}^T = (\\mathbf{Q}^T\\mathbf{Q})^{-1}(\\mathbf{Q}\\mathbf{b}^T)$$\n",
        "Por otro lado, no es necesario calcular $\\mathbf{Q}\\mathbf{b}^T$ ya que es un vector solo de unos.\n",
        "\n",
        "Finalmente, la función *estado_estacionario* a continuación estima las probabilidades de estado estacionario de una matriz de transición a un paso $\\mathbf{P}$."
      ]
    },
    {
      "cell_type": "code",
      "execution_count": null,
      "metadata": {
        "id": "5OkDveX4vcTL"
      },
      "outputs": [],
      "source": [
        "import numpy as np"
      ]
    },
    {
      "cell_type": "code",
      "execution_count": null,
      "metadata": {
        "id": "pXJi71m2a-lX"
      },
      "outputs": [],
      "source": [
        "def estado_estacionario(p):\n",
        "    dim = p.shape[0]\n",
        "    q = (p-np.eye(dim))\n",
        "    ones = np.ones(dim)\n",
        "    q = np.c_[q,ones]\n",
        "    QTQ = np.dot(q, q.T)\n",
        "    QbT = np.ones(dim)\n",
        "    return np.linalg.solve(QTQ,QbT)"
      ]
    },
    {
      "cell_type": "markdown",
      "metadata": {
        "id": "PfDHKBJ-a-lY"
      },
      "source": [
        "Supongamos que tenemos la siguiente matriz de transición:"
      ]
    },
    {
      "cell_type": "code",
      "execution_count": null,
      "metadata": {
        "id": "PtB0-QSRvhW2"
      },
      "outputs": [],
      "source": [
        "matriz_transicion1 = np.array([[0.1,0.3,0.2,0.2,0.2],\n",
        "                             [0.3,0.2,0.3,0,0.2],\n",
        "                             [0,0,1,0,0],\n",
        "                              [0,0,0,1,0],\n",
        "                               [0,0,0,0,1]])"
      ]
    },
    {
      "cell_type": "code",
      "execution_count": null,
      "metadata": {
        "id": "WJ7C3McWa-lY",
        "colab": {
          "base_uri": "https://localhost:8080/",
          "height": 333
        },
        "outputId": "1c785644-f564-4c52-a86d-20273fb65da2"
      },
      "outputs": [
        {
          "output_type": "error",
          "ename": "LinAlgError",
          "evalue": "ignored",
          "traceback": [
            "\u001b[0;31m---------------------------------------------------------------------------\u001b[0m",
            "\u001b[0;31mLinAlgError\u001b[0m                               Traceback (most recent call last)",
            "\u001b[0;32m<ipython-input-16-88716b251fe1>\u001b[0m in \u001b[0;36m<cell line: 1>\u001b[0;34m()\u001b[0m\n\u001b[0;32m----> 1\u001b[0;31m \u001b[0mestado_estacionario1\u001b[0m \u001b[0;34m=\u001b[0m \u001b[0mestado_estacionario\u001b[0m\u001b[0;34m(\u001b[0m\u001b[0mmatriz_transicion1\u001b[0m\u001b[0;34m)\u001b[0m\u001b[0;34m\u001b[0m\u001b[0;34m\u001b[0m\u001b[0m\n\u001b[0m\u001b[1;32m      2\u001b[0m \u001b[0mestado_estacionario1\u001b[0m\u001b[0;34m\u001b[0m\u001b[0;34m\u001b[0m\u001b[0m\n",
            "\u001b[0;32m<ipython-input-14-0e6884dc87c5>\u001b[0m in \u001b[0;36mestado_estacionario\u001b[0;34m(p)\u001b[0m\n\u001b[1;32m      6\u001b[0m     \u001b[0mQTQ\u001b[0m \u001b[0;34m=\u001b[0m \u001b[0mnp\u001b[0m\u001b[0;34m.\u001b[0m\u001b[0mdot\u001b[0m\u001b[0;34m(\u001b[0m\u001b[0mq\u001b[0m\u001b[0;34m,\u001b[0m \u001b[0mq\u001b[0m\u001b[0;34m.\u001b[0m\u001b[0mT\u001b[0m\u001b[0;34m)\u001b[0m\u001b[0;34m\u001b[0m\u001b[0;34m\u001b[0m\u001b[0m\n\u001b[1;32m      7\u001b[0m     \u001b[0mQbT\u001b[0m \u001b[0;34m=\u001b[0m \u001b[0mnp\u001b[0m\u001b[0;34m.\u001b[0m\u001b[0mones\u001b[0m\u001b[0;34m(\u001b[0m\u001b[0mdim\u001b[0m\u001b[0;34m)\u001b[0m\u001b[0;34m\u001b[0m\u001b[0;34m\u001b[0m\u001b[0m\n\u001b[0;32m----> 8\u001b[0;31m     \u001b[0;32mreturn\u001b[0m \u001b[0mnp\u001b[0m\u001b[0;34m.\u001b[0m\u001b[0mlinalg\u001b[0m\u001b[0;34m.\u001b[0m\u001b[0msolve\u001b[0m\u001b[0;34m(\u001b[0m\u001b[0mQTQ\u001b[0m\u001b[0;34m,\u001b[0m\u001b[0mQbT\u001b[0m\u001b[0;34m)\u001b[0m\u001b[0;34m\u001b[0m\u001b[0;34m\u001b[0m\u001b[0m\n\u001b[0m",
            "\u001b[0;32m/usr/local/lib/python3.10/dist-packages/numpy/core/overrides.py\u001b[0m in \u001b[0;36msolve\u001b[0;34m(*args, **kwargs)\u001b[0m\n",
            "\u001b[0;32m/usr/local/lib/python3.10/dist-packages/numpy/linalg/linalg.py\u001b[0m in \u001b[0;36msolve\u001b[0;34m(a, b)\u001b[0m\n\u001b[1;32m    391\u001b[0m     \u001b[0msignature\u001b[0m \u001b[0;34m=\u001b[0m \u001b[0;34m'DD->D'\u001b[0m \u001b[0;32mif\u001b[0m \u001b[0misComplexType\u001b[0m\u001b[0;34m(\u001b[0m\u001b[0mt\u001b[0m\u001b[0;34m)\u001b[0m \u001b[0;32melse\u001b[0m \u001b[0;34m'dd->d'\u001b[0m\u001b[0;34m\u001b[0m\u001b[0;34m\u001b[0m\u001b[0m\n\u001b[1;32m    392\u001b[0m     \u001b[0mextobj\u001b[0m \u001b[0;34m=\u001b[0m \u001b[0mget_linalg_error_extobj\u001b[0m\u001b[0;34m(\u001b[0m\u001b[0m_raise_linalgerror_singular\u001b[0m\u001b[0;34m)\u001b[0m\u001b[0;34m\u001b[0m\u001b[0;34m\u001b[0m\u001b[0m\n\u001b[0;32m--> 393\u001b[0;31m     \u001b[0mr\u001b[0m \u001b[0;34m=\u001b[0m \u001b[0mgufunc\u001b[0m\u001b[0;34m(\u001b[0m\u001b[0ma\u001b[0m\u001b[0;34m,\u001b[0m \u001b[0mb\u001b[0m\u001b[0;34m,\u001b[0m \u001b[0msignature\u001b[0m\u001b[0;34m=\u001b[0m\u001b[0msignature\u001b[0m\u001b[0;34m,\u001b[0m \u001b[0mextobj\u001b[0m\u001b[0;34m=\u001b[0m\u001b[0mextobj\u001b[0m\u001b[0;34m)\u001b[0m\u001b[0;34m\u001b[0m\u001b[0;34m\u001b[0m\u001b[0m\n\u001b[0m\u001b[1;32m    394\u001b[0m \u001b[0;34m\u001b[0m\u001b[0m\n\u001b[1;32m    395\u001b[0m     \u001b[0;32mreturn\u001b[0m \u001b[0mwrap\u001b[0m\u001b[0;34m(\u001b[0m\u001b[0mr\u001b[0m\u001b[0;34m.\u001b[0m\u001b[0mastype\u001b[0m\u001b[0;34m(\u001b[0m\u001b[0mresult_t\u001b[0m\u001b[0;34m,\u001b[0m \u001b[0mcopy\u001b[0m\u001b[0;34m=\u001b[0m\u001b[0;32mFalse\u001b[0m\u001b[0;34m)\u001b[0m\u001b[0;34m)\u001b[0m\u001b[0;34m\u001b[0m\u001b[0;34m\u001b[0m\u001b[0m\n",
            "\u001b[0;32m/usr/local/lib/python3.10/dist-packages/numpy/linalg/linalg.py\u001b[0m in \u001b[0;36m_raise_linalgerror_singular\u001b[0;34m(err, flag)\u001b[0m\n\u001b[1;32m     86\u001b[0m \u001b[0;34m\u001b[0m\u001b[0m\n\u001b[1;32m     87\u001b[0m \u001b[0;32mdef\u001b[0m \u001b[0m_raise_linalgerror_singular\u001b[0m\u001b[0;34m(\u001b[0m\u001b[0merr\u001b[0m\u001b[0;34m,\u001b[0m \u001b[0mflag\u001b[0m\u001b[0;34m)\u001b[0m\u001b[0;34m:\u001b[0m\u001b[0;34m\u001b[0m\u001b[0;34m\u001b[0m\u001b[0m\n\u001b[0;32m---> 88\u001b[0;31m     \u001b[0;32mraise\u001b[0m \u001b[0mLinAlgError\u001b[0m\u001b[0;34m(\u001b[0m\u001b[0;34m\"Singular matrix\"\u001b[0m\u001b[0;34m)\u001b[0m\u001b[0;34m\u001b[0m\u001b[0;34m\u001b[0m\u001b[0m\n\u001b[0m\u001b[1;32m     89\u001b[0m \u001b[0;34m\u001b[0m\u001b[0m\n\u001b[1;32m     90\u001b[0m \u001b[0;32mdef\u001b[0m \u001b[0m_raise_linalgerror_nonposdef\u001b[0m\u001b[0;34m(\u001b[0m\u001b[0merr\u001b[0m\u001b[0;34m,\u001b[0m \u001b[0mflag\u001b[0m\u001b[0;34m)\u001b[0m\u001b[0;34m:\u001b[0m\u001b[0;34m\u001b[0m\u001b[0;34m\u001b[0m\u001b[0m\n",
            "\u001b[0;31mLinAlgError\u001b[0m: Singular matrix"
          ]
        }
      ],
      "source": [
        "estado_estacionario1 = estado_estacionario(matriz_transicion1)\n",
        "estado_estacionario1"
      ]
    },
    {
      "cell_type": "markdown",
      "metadata": {
        "id": "UHC7fe0ga-lY"
      },
      "source": [
        "## ¿Y si queremos el grafo de nuestra matriz de transición?\n",
        "\n",
        "En Python hay varias formas de hacer gráficos, en particular me gustaron los que diseñó  https://github.com/NaysanSaran\n",
        "Solo debemos tener en nuestro directorio los archivos *node.py* y *markovchain.py* los cuales cargamos en las siguientes dos lineas de código"
      ]
    },
    {
      "cell_type": "code",
      "execution_count": null,
      "metadata": {
        "id": "n6m24CV8a-lY",
        "colab": {
          "base_uri": "https://localhost:8080/",
          "height": 110
        },
        "outputId": "5bab19d0-6183-45d1-8b22-8a8345ab0f09"
      },
      "outputs": [
        {
          "output_type": "display_data",
          "data": {
            "text/plain": [
              "<IPython.core.display.HTML object>"
            ],
            "text/html": [
              "\n",
              "     <input type=\"file\" id=\"files-d806c7e9-2fa2-4eac-ab93-c8614f445326\" name=\"files[]\" multiple disabled\n",
              "        style=\"border:none\" />\n",
              "     <output id=\"result-d806c7e9-2fa2-4eac-ab93-c8614f445326\">\n",
              "      Upload widget is only available when the cell has been executed in the\n",
              "      current browser session. Please rerun this cell to enable.\n",
              "      </output>\n",
              "      <script>// Copyright 2017 Google LLC\n",
              "//\n",
              "// Licensed under the Apache License, Version 2.0 (the \"License\");\n",
              "// you may not use this file except in compliance with the License.\n",
              "// You may obtain a copy of the License at\n",
              "//\n",
              "//      http://www.apache.org/licenses/LICENSE-2.0\n",
              "//\n",
              "// Unless required by applicable law or agreed to in writing, software\n",
              "// distributed under the License is distributed on an \"AS IS\" BASIS,\n",
              "// WITHOUT WARRANTIES OR CONDITIONS OF ANY KIND, either express or implied.\n",
              "// See the License for the specific language governing permissions and\n",
              "// limitations under the License.\n",
              "\n",
              "/**\n",
              " * @fileoverview Helpers for google.colab Python module.\n",
              " */\n",
              "(function(scope) {\n",
              "function span(text, styleAttributes = {}) {\n",
              "  const element = document.createElement('span');\n",
              "  element.textContent = text;\n",
              "  for (const key of Object.keys(styleAttributes)) {\n",
              "    element.style[key] = styleAttributes[key];\n",
              "  }\n",
              "  return element;\n",
              "}\n",
              "\n",
              "// Max number of bytes which will be uploaded at a time.\n",
              "const MAX_PAYLOAD_SIZE = 100 * 1024;\n",
              "\n",
              "function _uploadFiles(inputId, outputId) {\n",
              "  const steps = uploadFilesStep(inputId, outputId);\n",
              "  const outputElement = document.getElementById(outputId);\n",
              "  // Cache steps on the outputElement to make it available for the next call\n",
              "  // to uploadFilesContinue from Python.\n",
              "  outputElement.steps = steps;\n",
              "\n",
              "  return _uploadFilesContinue(outputId);\n",
              "}\n",
              "\n",
              "// This is roughly an async generator (not supported in the browser yet),\n",
              "// where there are multiple asynchronous steps and the Python side is going\n",
              "// to poll for completion of each step.\n",
              "// This uses a Promise to block the python side on completion of each step,\n",
              "// then passes the result of the previous step as the input to the next step.\n",
              "function _uploadFilesContinue(outputId) {\n",
              "  const outputElement = document.getElementById(outputId);\n",
              "  const steps = outputElement.steps;\n",
              "\n",
              "  const next = steps.next(outputElement.lastPromiseValue);\n",
              "  return Promise.resolve(next.value.promise).then((value) => {\n",
              "    // Cache the last promise value to make it available to the next\n",
              "    // step of the generator.\n",
              "    outputElement.lastPromiseValue = value;\n",
              "    return next.value.response;\n",
              "  });\n",
              "}\n",
              "\n",
              "/**\n",
              " * Generator function which is called between each async step of the upload\n",
              " * process.\n",
              " * @param {string} inputId Element ID of the input file picker element.\n",
              " * @param {string} outputId Element ID of the output display.\n",
              " * @return {!Iterable<!Object>} Iterable of next steps.\n",
              " */\n",
              "function* uploadFilesStep(inputId, outputId) {\n",
              "  const inputElement = document.getElementById(inputId);\n",
              "  inputElement.disabled = false;\n",
              "\n",
              "  const outputElement = document.getElementById(outputId);\n",
              "  outputElement.innerHTML = '';\n",
              "\n",
              "  const pickedPromise = new Promise((resolve) => {\n",
              "    inputElement.addEventListener('change', (e) => {\n",
              "      resolve(e.target.files);\n",
              "    });\n",
              "  });\n",
              "\n",
              "  const cancel = document.createElement('button');\n",
              "  inputElement.parentElement.appendChild(cancel);\n",
              "  cancel.textContent = 'Cancel upload';\n",
              "  const cancelPromise = new Promise((resolve) => {\n",
              "    cancel.onclick = () => {\n",
              "      resolve(null);\n",
              "    };\n",
              "  });\n",
              "\n",
              "  // Wait for the user to pick the files.\n",
              "  const files = yield {\n",
              "    promise: Promise.race([pickedPromise, cancelPromise]),\n",
              "    response: {\n",
              "      action: 'starting',\n",
              "    }\n",
              "  };\n",
              "\n",
              "  cancel.remove();\n",
              "\n",
              "  // Disable the input element since further picks are not allowed.\n",
              "  inputElement.disabled = true;\n",
              "\n",
              "  if (!files) {\n",
              "    return {\n",
              "      response: {\n",
              "        action: 'complete',\n",
              "      }\n",
              "    };\n",
              "  }\n",
              "\n",
              "  for (const file of files) {\n",
              "    const li = document.createElement('li');\n",
              "    li.append(span(file.name, {fontWeight: 'bold'}));\n",
              "    li.append(span(\n",
              "        `(${file.type || 'n/a'}) - ${file.size} bytes, ` +\n",
              "        `last modified: ${\n",
              "            file.lastModifiedDate ? file.lastModifiedDate.toLocaleDateString() :\n",
              "                                    'n/a'} - `));\n",
              "    const percent = span('0% done');\n",
              "    li.appendChild(percent);\n",
              "\n",
              "    outputElement.appendChild(li);\n",
              "\n",
              "    const fileDataPromise = new Promise((resolve) => {\n",
              "      const reader = new FileReader();\n",
              "      reader.onload = (e) => {\n",
              "        resolve(e.target.result);\n",
              "      };\n",
              "      reader.readAsArrayBuffer(file);\n",
              "    });\n",
              "    // Wait for the data to be ready.\n",
              "    let fileData = yield {\n",
              "      promise: fileDataPromise,\n",
              "      response: {\n",
              "        action: 'continue',\n",
              "      }\n",
              "    };\n",
              "\n",
              "    // Use a chunked sending to avoid message size limits. See b/62115660.\n",
              "    let position = 0;\n",
              "    do {\n",
              "      const length = Math.min(fileData.byteLength - position, MAX_PAYLOAD_SIZE);\n",
              "      const chunk = new Uint8Array(fileData, position, length);\n",
              "      position += length;\n",
              "\n",
              "      const base64 = btoa(String.fromCharCode.apply(null, chunk));\n",
              "      yield {\n",
              "        response: {\n",
              "          action: 'append',\n",
              "          file: file.name,\n",
              "          data: base64,\n",
              "        },\n",
              "      };\n",
              "\n",
              "      let percentDone = fileData.byteLength === 0 ?\n",
              "          100 :\n",
              "          Math.round((position / fileData.byteLength) * 100);\n",
              "      percent.textContent = `${percentDone}% done`;\n",
              "\n",
              "    } while (position < fileData.byteLength);\n",
              "  }\n",
              "\n",
              "  // All done.\n",
              "  yield {\n",
              "    response: {\n",
              "      action: 'complete',\n",
              "    }\n",
              "  };\n",
              "}\n",
              "\n",
              "scope.google = scope.google || {};\n",
              "scope.google.colab = scope.google.colab || {};\n",
              "scope.google.colab._files = {\n",
              "  _uploadFiles,\n",
              "  _uploadFilesContinue,\n",
              "};\n",
              "})(self);\n",
              "</script> "
            ]
          },
          "metadata": {}
        },
        {
          "output_type": "stream",
          "name": "stdout",
          "text": [
            "Saving node.py to node.py\n",
            "Saving markovchain.py to markovchain.py\n"
          ]
        }
      ],
      "source": [
        "from google.colab import files\n",
        "src = list(files.upload().values())[0]"
      ]
    },
    {
      "cell_type": "code",
      "execution_count": null,
      "metadata": {
        "id": "pNmxUcZNa-lY"
      },
      "outputs": [],
      "source": [
        "run node.py"
      ]
    },
    {
      "cell_type": "code",
      "execution_count": null,
      "metadata": {
        "id": "zk2muWTTa-lZ"
      },
      "outputs": [],
      "source": [
        "run markovchain.py"
      ]
    },
    {
      "cell_type": "markdown",
      "metadata": {
        "id": "YhLtDDBPa-lZ"
      },
      "source": [
        "Luego, creamos nuestro objeto a dibujar, que llamaremos *mc*, esta función tiene como argumentos la matriz de transición y un vector con los nombres de nuestros estados. En el caso de nuestra matriz de ejemplo de tres estados ponemos 0,1 y 2 en formato string, ya que este nombre podría ser cualquier caracter."
      ]
    },
    {
      "cell_type": "code",
      "execution_count": null,
      "metadata": {
        "id": "Agy1aaF9a-lZ",
        "colab": {
          "base_uri": "https://localhost:8080/",
          "height": 309
        },
        "outputId": "13bcfe7e-2829-4a49-f66e-f8feb25634f6"
      },
      "outputs": [
        {
          "output_type": "error",
          "ename": "Exception",
          "evalue": "ignored",
          "traceback": [
            "\u001b[0;31m---------------------------------------------------------------------------\u001b[0m",
            "\u001b[0;31mException\u001b[0m                                 Traceback (most recent call last)",
            "\u001b[0;32m<ipython-input-19-e569c19bcf9e>\u001b[0m in \u001b[0;36m<cell line: 1>\u001b[0;34m()\u001b[0m\n\u001b[0;32m----> 1\u001b[0;31m \u001b[0mmc\u001b[0m \u001b[0;34m=\u001b[0m \u001b[0mMarkovChain\u001b[0m\u001b[0;34m(\u001b[0m\u001b[0mmatriz_transicion1\u001b[0m\u001b[0;34m,\u001b[0m \u001b[0;34m[\u001b[0m\u001b[0;34m'1'\u001b[0m\u001b[0;34m,\u001b[0m \u001b[0;34m'2'\u001b[0m\u001b[0;34m,\u001b[0m \u001b[0;34m'3'\u001b[0m\u001b[0;34m,\u001b[0m\u001b[0;34m'4'\u001b[0m\u001b[0;34m,\u001b[0m \u001b[0;34m'5'\u001b[0m\u001b[0;34m]\u001b[0m\u001b[0;34m)\u001b[0m\u001b[0;34m\u001b[0m\u001b[0;34m\u001b[0m\u001b[0m\n\u001b[0m\u001b[1;32m      2\u001b[0m \u001b[0mmc\u001b[0m\u001b[0;34m.\u001b[0m\u001b[0mdraw\u001b[0m\u001b[0;34m(\u001b[0m\u001b[0;34m)\u001b[0m\u001b[0;34m\u001b[0m\u001b[0;34m\u001b[0m\u001b[0m\n",
            "\u001b[0;32m/content/markovchain.py\u001b[0m in \u001b[0;36m__init__\u001b[0;34m(self, M, labels)\u001b[0m\n\u001b[1;32m     20\u001b[0m             \u001b[0;32mraise\u001b[0m \u001b[0mException\u001b[0m\u001b[0;34m(\u001b[0m\u001b[0;34m\"There should be at least 2 states\"\u001b[0m\u001b[0;34m)\u001b[0m\u001b[0;34m\u001b[0m\u001b[0;34m\u001b[0m\u001b[0m\n\u001b[1;32m     21\u001b[0m         \u001b[0;32mif\u001b[0m \u001b[0mM\u001b[0m\u001b[0;34m.\u001b[0m\u001b[0mshape\u001b[0m\u001b[0;34m[\u001b[0m\u001b[0;36m0\u001b[0m\u001b[0;34m]\u001b[0m \u001b[0;34m>\u001b[0m \u001b[0;36m4\u001b[0m\u001b[0;34m:\u001b[0m\u001b[0;34m\u001b[0m\u001b[0;34m\u001b[0m\u001b[0m\n\u001b[0;32m---> 22\u001b[0;31m             \u001b[0;32mraise\u001b[0m \u001b[0mException\u001b[0m\u001b[0;34m(\u001b[0m\u001b[0;34m\"Only works with 4 states max for now\"\u001b[0m\u001b[0;34m)\u001b[0m\u001b[0;34m\u001b[0m\u001b[0;34m\u001b[0m\u001b[0m\n\u001b[0m\u001b[1;32m     23\u001b[0m         \u001b[0;32mif\u001b[0m \u001b[0mM\u001b[0m\u001b[0;34m.\u001b[0m\u001b[0mshape\u001b[0m\u001b[0;34m[\u001b[0m\u001b[0;36m0\u001b[0m\u001b[0;34m]\u001b[0m \u001b[0;34m!=\u001b[0m \u001b[0mM\u001b[0m\u001b[0;34m.\u001b[0m\u001b[0mshape\u001b[0m\u001b[0;34m[\u001b[0m\u001b[0;36m1\u001b[0m\u001b[0;34m]\u001b[0m\u001b[0;34m:\u001b[0m\u001b[0;34m\u001b[0m\u001b[0;34m\u001b[0m\u001b[0m\n\u001b[1;32m     24\u001b[0m             \u001b[0;32mraise\u001b[0m \u001b[0mException\u001b[0m\u001b[0;34m(\u001b[0m\u001b[0;34m\"Transition matrix should be square\"\u001b[0m\u001b[0;34m)\u001b[0m\u001b[0;34m\u001b[0m\u001b[0;34m\u001b[0m\u001b[0m\n",
            "\u001b[0;31mException\u001b[0m: Only works with 4 states max for now"
          ]
        }
      ],
      "source": [
        "mc = MarkovChain(matriz_transicion1, ['1', '2', '3','4', '5'])\n",
        "mc.draw()"
      ]
    },
    {
      "cell_type": "markdown",
      "metadata": {
        "id": "PfcYAuPja-lZ"
      },
      "source": [
        "### Otro Ejemplo:"
      ]
    },
    {
      "cell_type": "code",
      "execution_count": null,
      "metadata": {
        "id": "YEc-mvrEa-lZ"
      },
      "outputs": [],
      "source": [
        "matriz_transicion = np.array([[0.5,0.5,0.0,0.0],\n",
        "                              [0.4,0.6,0.0,0.0],\n",
        "                              [round(1/7,2),round(2/7,2),round(3/7,2),round(1/7,2)],\n",
        "                              [round(1/8,2),round(2/7,2),round(3/7,2),round(1/7,2)]])\n",
        "matriz_transicion = np.array([[0.1,0.3,0.2,0.2,0.2],\n",
        "                             [0.3,0.2,0.3,0,0.2],\n",
        "                             [0.0,0.0,1.0,0.0,0.0],\n",
        "                              [0.0,0.0,0.0,1.0,0.0],\n",
        "                               [0.0,0.0,0.0,0.0,1.0]])"
      ]
    },
    {
      "cell_type": "code",
      "execution_count": null,
      "metadata": {
        "id": "uXFz0u5Ta-lZ",
        "colab": {
          "base_uri": "https://localhost:8080/",
          "height": 309
        },
        "outputId": "58b7866e-34d9-437b-f25f-eb5cc9ff1c17"
      },
      "outputs": [
        {
          "output_type": "error",
          "ename": "Exception",
          "evalue": "ignored",
          "traceback": [
            "\u001b[0;31m---------------------------------------------------------------------------\u001b[0m",
            "\u001b[0;31mException\u001b[0m                                 Traceback (most recent call last)",
            "\u001b[0;32m<ipython-input-40-bab2d8b68ba6>\u001b[0m in \u001b[0;36m<cell line: 1>\u001b[0;34m()\u001b[0m\n\u001b[0;32m----> 1\u001b[0;31m \u001b[0mmc\u001b[0m \u001b[0;34m=\u001b[0m \u001b[0mMarkovChain\u001b[0m\u001b[0;34m(\u001b[0m\u001b[0mmatriz_transicion\u001b[0m\u001b[0;34m,\u001b[0m \u001b[0;34m[\u001b[0m\u001b[0;34m'0'\u001b[0m\u001b[0;34m,\u001b[0m \u001b[0;34m'1'\u001b[0m\u001b[0;34m,\u001b[0m \u001b[0;34m'2'\u001b[0m\u001b[0;34m,\u001b[0m \u001b[0;34m'3'\u001b[0m\u001b[0;34m,\u001b[0m \u001b[0;34m'4'\u001b[0m\u001b[0;34m]\u001b[0m\u001b[0;34m)\u001b[0m\u001b[0;34m\u001b[0m\u001b[0;34m\u001b[0m\u001b[0m\n\u001b[0m\u001b[1;32m      2\u001b[0m \u001b[0mmc\u001b[0m\u001b[0;34m.\u001b[0m\u001b[0mdraw\u001b[0m\u001b[0;34m(\u001b[0m\u001b[0;34m)\u001b[0m\u001b[0;34m\u001b[0m\u001b[0;34m\u001b[0m\u001b[0m\n",
            "\u001b[0;32m/content/markovchain.py\u001b[0m in \u001b[0;36m__init__\u001b[0;34m(self, M, labels)\u001b[0m\n\u001b[1;32m     20\u001b[0m             \u001b[0;32mraise\u001b[0m \u001b[0mException\u001b[0m\u001b[0;34m(\u001b[0m\u001b[0;34m\"There should be at least 2 states\"\u001b[0m\u001b[0;34m)\u001b[0m\u001b[0;34m\u001b[0m\u001b[0;34m\u001b[0m\u001b[0m\n\u001b[1;32m     21\u001b[0m         \u001b[0;32mif\u001b[0m \u001b[0mM\u001b[0m\u001b[0;34m.\u001b[0m\u001b[0mshape\u001b[0m\u001b[0;34m[\u001b[0m\u001b[0;36m0\u001b[0m\u001b[0;34m]\u001b[0m \u001b[0;34m>\u001b[0m \u001b[0;36m4\u001b[0m\u001b[0;34m:\u001b[0m\u001b[0;34m\u001b[0m\u001b[0;34m\u001b[0m\u001b[0m\n\u001b[0;32m---> 22\u001b[0;31m             \u001b[0;32mraise\u001b[0m \u001b[0mException\u001b[0m\u001b[0;34m(\u001b[0m\u001b[0;34m\"Only works with 4 states max for now\"\u001b[0m\u001b[0;34m)\u001b[0m\u001b[0;34m\u001b[0m\u001b[0;34m\u001b[0m\u001b[0m\n\u001b[0m\u001b[1;32m     23\u001b[0m         \u001b[0;32mif\u001b[0m \u001b[0mM\u001b[0m\u001b[0;34m.\u001b[0m\u001b[0mshape\u001b[0m\u001b[0;34m[\u001b[0m\u001b[0;36m0\u001b[0m\u001b[0;34m]\u001b[0m \u001b[0;34m!=\u001b[0m \u001b[0mM\u001b[0m\u001b[0;34m.\u001b[0m\u001b[0mshape\u001b[0m\u001b[0;34m[\u001b[0m\u001b[0;36m1\u001b[0m\u001b[0;34m]\u001b[0m\u001b[0;34m:\u001b[0m\u001b[0;34m\u001b[0m\u001b[0;34m\u001b[0m\u001b[0m\n\u001b[1;32m     24\u001b[0m             \u001b[0;32mraise\u001b[0m \u001b[0mException\u001b[0m\u001b[0;34m(\u001b[0m\u001b[0;34m\"Transition matrix should be square\"\u001b[0m\u001b[0;34m)\u001b[0m\u001b[0;34m\u001b[0m\u001b[0;34m\u001b[0m\u001b[0m\n",
            "\u001b[0;31mException\u001b[0m: Only works with 4 states max for now"
          ]
        }
      ],
      "source": [
        "mc = MarkovChain(matriz_transicion, ['0', '1', '2', '3', '4'])\n",
        "mc.draw()"
      ]
    },
    {
      "cell_type": "markdown",
      "metadata": {
        "id": "c6TZC-f-a-la"
      },
      "source": [
        "**Observación**: Esta librería solo permite hasta 4 estados para nuestra matriz de transición, de querer dibujar una matriz más grande hay otras formas, pero no son tan sencillas de utilizar como esta función."
      ]
    },
    {
      "cell_type": "markdown",
      "metadata": {
        "id": "Vx-ROwEka-la"
      },
      "source": [
        "## Grafos más grandes\n",
        "\n",
        "para esto necesitamos utilizar la librería networkx"
      ]
    },
    {
      "cell_type": "code",
      "execution_count": null,
      "metadata": {
        "id": "_hk6fRtza-la"
      },
      "outputs": [],
      "source": [
        "import pandas as pd\n",
        "import networkx as nx\n",
        "from pprint import pprint\n",
        "\n",
        "def _get_markov_edges(Q):\n",
        "    edges = {}\n",
        "    for col in Q.columns:\n",
        "        for idx in Q.index:\n",
        "            edges[(idx,col)] = Q.loc[idx,col]\n",
        "    return edges"
      ]
    },
    {
      "cell_type": "code",
      "execution_count": null,
      "metadata": {
        "id": "WVFz8yuFa-la",
        "colab": {
          "base_uri": "https://localhost:8080/",
          "height": 585
        },
        "outputId": "e2056ee9-f8db-48b4-ec26-d9cea3a9533a"
      },
      "outputs": [
        {
          "output_type": "stream",
          "name": "stdout",
          "text": [
            "Nodes:\n",
            "['C', 'G', 'DA', 'DB', 'DC']\n",
            "\n",
            "Edges:\n",
            "OutMultiEdgeDataView([('C', 'C', {'weight': 0.1, 'label': 0.1}), ('C', 'G', {'weight': 0.3, 'label': 0.3}), ('C', 'DA', {'weight': 0.2, 'label': 0.2}), ('C', 'DB', {'weight': 0.2, 'label': 0.2}), ('C', 'DC', {'weight': 0.2, 'label': 0.2}), ('G', 'C', {'weight': 0.3, 'label': 0.3}), ('G', 'G', {'weight': 0.2, 'label': 0.2}), ('G', 'DA', {'weight': 0.3, 'label': 0.3}), ('G', 'DB', {'weight': 0.0, 'label': 0.0}), ('G', 'DC', {'weight': 0.2, 'label': 0.2}), ('DA', 'C', {'weight': 0.0, 'label': 0.0}), ('DA', 'G', {'weight': 0.0, 'label': 0.0}), ('DA', 'DA', {'weight': 1.0, 'label': 1.0}), ('DA', 'DB', {'weight': 0.0, 'label': 0.0}), ('DA', 'DC', {'weight': 0.0, 'label': 0.0}), ('DB', 'C', {'weight': 0.0, 'label': 0.0}), ('DB', 'G', {'weight': 0.0, 'label': 0.0}), ('DB', 'DA', {'weight': 0.0, 'label': 0.0}), ('DB', 'DB', {'weight': 1.0, 'label': 1.0}), ('DB', 'DC', {'weight': 0.0, 'label': 0.0}), ('DC', 'C', {'weight': 0.0, 'label': 0.0}), ('DC', 'G', {'weight': 0.0, 'label': 0.0}), ('DC', 'DA', {'weight': 0.0, 'label': 0.0}), ('DC', 'DB', {'weight': 0.0, 'label': 0.0}), ('DC', 'DC', {'weight': 1.0, 'label': 1.0})])\n"
          ]
        },
        {
          "output_type": "stream",
          "name": "stderr",
          "text": [
            "<ipython-input-47-a0619fcba202>:23: DeprecationWarning: nx.nx_pydot.graphviz_layout depends on the pydot package, which hasknown issues and is not actively maintained. Consider usingnx.nx_agraph.graphviz_layout instead.\n",
            "\n",
            "See https://github.com/networkx/networkx/issues/5723\n",
            "  pos = nx.drawing.nx_pydot.graphviz_layout(G, prog='dot')\n"
          ]
        },
        {
          "output_type": "display_data",
          "data": {
            "text/plain": [
              "<Figure size 640x480 with 1 Axes>"
            ],
            "image/png": "[encoded data removed]"
          },
          "metadata": {}
        }
      ],
      "source": [
        "estados = ['C', 'G', 'DA', 'DB', 'DC']\n",
        "Pmat_df = pd.DataFrame(columns=estados,index=estados)\n",
        "for indx, estado in enumerate(estados):\n",
        "    Pmat_df.loc[estados[indx]] = list(matriz_transicion[indx,:])\n",
        "#Pmat = Pmat_df.values\n",
        "\n",
        "edges_wts = _get_markov_edges(Pmat_df)\n",
        "\n",
        "# create graph object\n",
        "G = nx.MultiDiGraph()\n",
        "\n",
        "# nodes correspond to states\n",
        "G.add_nodes_from(estados)\n",
        "print(f'Nodes:\\n{G.nodes()}\\n')\n",
        "\n",
        "# edges represent transition probabilities\n",
        "for k, v in edges_wts.items():\n",
        "    tmp_origin, tmp_destination = k[0], k[1]\n",
        "    G.add_edge(tmp_origin, tmp_destination, weight=v, label=v)\n",
        "print(f'Edges:')\n",
        "pprint(G.edges(data=True))\n",
        "\n",
        "pos = nx.drawing.nx_pydot.graphviz_layout(G, prog='dot')\n",
        "nx.draw_networkx(G, pos)\n",
        "\n",
        "## create edge labels for jupyter plot but is not necessary\n",
        "edge_labels = {(n1,n2):d['label'] for n1,n2,d in G.edges(data=True)}\n",
        "nx.draw_networkx_edge_labels(G , pos, edge_labels=edge_labels)\n",
        "nx.drawing.nx_pydot.write_dot(G, 'grafo_4estados.dot')"
      ]
    },
    {
      "cell_type": "markdown",
      "metadata": {
        "id": "iyUmQjhka-la"
      },
      "source": [
        "Como pueden ver el grafo no representa realmente lo que es nuestra matriz de transición, en resumen, hay que realizar este grafo de otra forma. Lo que hace networkx es útil ya que nos representa cada nodo del grafo junto con todos los posibles cambios de estado y sus respectivos pesos."
      ]
    },
    {
      "cell_type": "markdown",
      "metadata": {
        "id": "3ugzyV89a-la"
      },
      "source": [
        "## Grafo de 6 estados:"
      ]
    },
    {
      "cell_type": "code",
      "execution_count": null,
      "metadata": {
        "id": "oOpR4Nbva-la"
      },
      "outputs": [],
      "source": [
        "matriz_transicion_G02 = np.array([[0.0,0.0,round(1/3,2),round(2/3,2),0.0,0.0],\n",
        "                                  [0.0,0.0,round(3/4,2),round(1/4,2),0.0,0.0],\n",
        "                                  [0.0,0.0,0.0,0.0,round(4/7,2),round(3/7,2)],\n",
        "                                  [0.0,0.0,0.0,0.0,round(2/3,2),round(1/3,2)],\n",
        "                                  [round(2/5,2),round(3/5,2),0.0,0.0,0.0,0.0],\n",
        "                                  [round(5/8,2),round(3/8,2),0.0,0.0,0.0,0.0]])\n",
        "estados = ['A','B','C','D','E','F']"
      ]
    },
    {
      "cell_type": "code",
      "execution_count": null,
      "metadata": {
        "id": "G7Ezi4Aba-la",
        "colab": {
          "base_uri": "https://localhost:8080/",
          "height": 585
        },
        "outputId": "623e8f4b-6094-4cbf-f3dd-b5a5c91722e3"
      },
      "outputs": [
        {
          "output_type": "stream",
          "name": "stdout",
          "text": [
            "Nodes:\n",
            "['C', 'G', 'A', 'B', 'z']\n",
            "\n",
            "Edges:\n",
            "OutMultiEdgeDataView([('C', 'C', {'weight': 0.1, 'label': 0.1}), ('C', 'G', {'weight': 0.3, 'label': 0.3}), ('C', 'A', {'weight': 0.2, 'label': 0.2}), ('C', 'B', {'weight': 0.2, 'label': 0.2}), ('C', 'z', {'weight': 0.2, 'label': 0.2}), ('G', 'C', {'weight': 0.3, 'label': 0.3}), ('G', 'G', {'weight': 0.2, 'label': 0.2}), ('G', 'A', {'weight': 0.3, 'label': 0.3}), ('G', 'B', {'weight': 0.0, 'label': 0.0}), ('G', 'z', {'weight': 0.2, 'label': 0.2}), ('A', 'C', {'weight': 0.0, 'label': 0.0}), ('A', 'G', {'weight': 0.0, 'label': 0.0}), ('A', 'A', {'weight': 1.0, 'label': 1.0}), ('A', 'B', {'weight': 0.0, 'label': 0.0}), ('A', 'z', {'weight': 0.0, 'label': 0.0}), ('B', 'C', {'weight': 0.0, 'label': 0.0}), ('B', 'G', {'weight': 0.0, 'label': 0.0}), ('B', 'A', {'weight': 0.0, 'label': 0.0}), ('B', 'B', {'weight': 1.0, 'label': 1.0}), ('B', 'z', {'weight': 0.0, 'label': 0.0}), ('z', 'C', {'weight': 0.0, 'label': 0.0}), ('z', 'G', {'weight': 0.0, 'label': 0.0}), ('z', 'A', {'weight': 0.0, 'label': 0.0}), ('z', 'B', {'weight': 0.0, 'label': 0.0}), ('z', 'z', {'weight': 1.0, 'label': 1.0})])\n"
          ]
        },
        {
          "output_type": "stream",
          "name": "stderr",
          "text": [
            "<ipython-input-41-a36c5a74b1ee>:22: DeprecationWarning: nx.nx_pydot.graphviz_layout depends on the pydot package, which hasknown issues and is not actively maintained. Consider usingnx.nx_agraph.graphviz_layout instead.\n",
            "\n",
            "See https://github.com/networkx/networkx/issues/5723\n",
            "  pos = nx.drawing.nx_pydot.graphviz_layout(G, prog='dot')\n"
          ]
        },
        {
          "output_type": "display_data",
          "data": {
            "text/plain": [
              "<Figure size 640x480 with 1 Axes>"
            ],
            "image/png": "[encoded data removed]"
          },
          "metadata": {}
        }
      ],
      "source": [
        "Pmat_df = pd.DataFrame(columns=estados,index=estados)\n",
        "for indx, estado in enumerate(estados):\n",
        "    Pmat_df.loc[estados[indx]] = list(matriz_transicion[indx,:])\n",
        "#Pmat = Pmat_df.values\n",
        "\n",
        "edges_wts = _get_markov_edges(Pmat_df)\n",
        "\n",
        "# create graph object\n",
        "G = nx.MultiDiGraph()\n",
        "\n",
        "# nodes correspond to states\n",
        "G.add_nodes_from(estados)\n",
        "print(f'Nodes:\\n{G.nodes()}\\n')\n",
        "\n",
        "# edges represent transition probabilities\n",
        "for k, v in edges_wts.items():\n",
        "    tmp_origin, tmp_destination = k[0], k[1]\n",
        "    G.add_edge(tmp_origin, tmp_destination, weight=v, label=v)\n",
        "print(f'Edges:')\n",
        "pprint(G.edges(data=True))\n",
        "\n",
        "pos = nx.drawing.nx_pydot.graphviz_layout(G, prog='dot')\n",
        "nx.draw_networkx(G, pos)\n",
        "\n",
        "## create edge labels for jupyter plot but is not necessary\n",
        "edge_labels = {(n1,n2):d['label'] for n1,n2,d in G.edges(data=True)}\n",
        "nx.draw_networkx_edge_labels(G , pos, edge_labels=edge_labels)\n",
        "nx.drawing.nx_pydot.write_dot(G, 'grafo_6estados.dot')"
      ]
    }
  ],
  "metadata": {
    "colab": {
      "provenance": []
    },
    "kernelspec": {
      "display_name": "Python 3",
      "language": "python",
      "name": "python3"
    },
    "language_info": {
      "codemirror_mode": {
        "name": "ipython",
        "version": 3
      },
      "file_extension": ".py",
      "mimetype": "text/x-python",
      "name": "python",
      "nbconvert_exporter": "python",
      "pygments_lexer": "ipython3",
      "version": "3.6.9"
    }
  },
  "nbformat": 4,
  "nbformat_minor": 0
}