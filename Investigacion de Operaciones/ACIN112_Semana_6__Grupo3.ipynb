{
  "nbformat": 4,
  "nbformat_minor": 0,
  "metadata": {
    "colab": {
      "provenance": []
    },
    "kernelspec": {
      "name": "python3",
      "display_name": "Python 3"
    },
    "language_info": {
      "name": "python"
    }
  },
  "cells": [
    {
      "cell_type": "markdown",
      "source": [
        "ACIN112<br>\n",
        "Semana 6 - Evaluación Sumativa Grupal <br>\n",
        "Una fábrica produce cuatro tipos de bloques de cemento. El proceso de fabricación está compuesto de tres etapas: mezclado, vibrado e inspección. Dentro del próximo mes se dispone de 800 horas de máquina para mezclado, 1000 horas de máquina para vibrado y 340 horas-hombre para inspección. La fábrica desea maximizar las utilidades dentro de este período, y para ello ha formulado el modelo de programación lineal siguiente:\n",
        "<pre>\n",
        "MAX\t Z=8X1 + 14X2 + 30X3 + 50X4\n",
        "s.a.\tX1+ 2X2 + 10X3 + 16X4 <= 800 \t (horas máquina mezclado)\n",
        "\t\t1.5X1 + 2X2 + 4X3 + 5X4 <= 1000   (horas máquina vibrado)\n",
        "\t\t0.5X1 + 0.6X2 + X3 + 2X4 <= 340   (horas- hombre inspección)\n",
        "\t\tXI >= 0\n",
        "  </pre>\n",
        "Resuelva el modelo de programación lineal y obtenga el informe de sensibilidad utilizando Phyton.\n",
        "v\n",
        "En base a lo anterior responda las siguientes preguntas:\n",
        "\n",
        "1.\t¿Cuál es la solución óptima?\n",
        "2.\t¿Cuánto debería aumentar como mínimo la utilidad del producto 3 para que fuera conveniente producirlo?\n",
        "3.\t¿Hasta cuanto podría disminuir la utilidad del producto 2 sin que cambiara la base óptima?\n",
        "4.\t¿Dentro de que rango podría variar la cantidad de horas de máquina para mezclado sin que cambie la base óptima?\n",
        "5.\t¿Cuánto estaría dispuesto a pagar por una hora-hombre de inspección adicional?\n",
        "6.\tUn competidor le ofrece arrendarle capacidad adicional para mezclado a 4 unidades monetarias por hora. ¿Aceptaría la oferta?\n",
        "7.\t¿A qué precio estaría dispuesto a arrendar a su competidor una hora de vibrado adicional? ¿Hasta cuántas horas (sin que cambie la solución óptima)?\n",
        "8.\t¿Cuánto puede disminuir el tiempo de inspección sin que cambie la solución óptima?\n",
        "9.\t¿Cuál es la nueva solución y el nuevo valor de la función objetivo si las horas de vibrado aumentan a 1020?\n",
        "10.\t¿Aceptaría la producción de un ladrillo del tipo 5, si requiere 2 horas de cada actividad y su utilidad es de 30?\n"
      ],
      "metadata": {
        "id": "27bzYl6eVkT1"
      }
    },
    {
      "cell_type": "code",
      "source": [
        "#la libreria se llama gurobi para optimizacion matematica\n",
        "!pip install gurobipy\n"
      ],
      "metadata": {
        "colab": {
          "base_uri": "https://localhost:8080/"
        },
        "id": "DYCu-UTPPTBo",
        "outputId": "60d2ff5e-d356-4a75-a796-8714ebf09582"
      },
      "execution_count": null,
      "outputs": [
        {
          "output_type": "stream",
          "name": "stdout",
          "text": [
            "Looking in indexes: https://pypi.org/simple, https://us-python.pkg.dev/colab-wheels/public/simple/\n",
            "Collecting gurobipy\n",
            "  Downloading gurobipy-10.0.0-cp37-cp37m-manylinux2014_x86_64.whl (12.9 MB)\n",
            "\u001b[K     |████████████████████████████████| 12.9 MB 7.3 MB/s \n",
            "\u001b[?25hInstalling collected packages: gurobipy\n",
            "Successfully installed gurobipy-10.0.0\n"
          ]
        }
      ]
    },
    {
      "cell_type": "code",
      "execution_count": null,
      "metadata": {
        "colab": {
          "base_uri": "https://localhost:8080/"
        },
        "id": "_cJEIRN-VhS2",
        "outputId": "602dfd0e-445e-4dec-9bb0-d7281e3920fb"
      },
      "outputs": [
        {
          "output_type": "stream",
          "name": "stdout",
          "text": [
            "Gurobi Optimizer version 10.0.0 build v10.0.0rc2 (linux64)\n",
            "\n",
            "CPU model: Intel(R) Xeon(R) CPU @ 2.20GHz, instruction set [SSE2|AVX|AVX2]\n",
            "Thread count: 1 physical cores, 2 logical processors, using up to 2 threads\n",
            "\n",
            "Optimize a model with 7 rows, 4 columns and 16 nonzeros\n",
            "Model fingerprint: 0x85ec24e7\n",
            "Coefficient statistics:\n",
            "  Matrix range     [5e-01, 2e+01]\n",
            "  Objective range  [8e+00, 5e+01]\n",
            "  Bounds range     [0e+00, 0e+00]\n",
            "  RHS range        [3e+02, 1e+03]\n",
            "Presolve removed 4 rows and 0 columns\n",
            "Presolve time: 0.01s\n",
            "Presolved: 3 rows, 4 columns, 12 nonzeros\n",
            "\n",
            "Iteration    Objective       Primal Inf.    Dual Inf.      Time\n",
            "       0    6.4000000e+03   7.316642e+01   0.000000e+00      0s\n",
            "       2    6.0000000e+03   0.000000e+00   0.000000e+00      0s\n",
            "\n",
            "Solved in 2 iterations and 0.02 seconds (0.00 work units)\n",
            "Optimal objective  6.000000000e+03\n"
          ]
        }
      ],
      "source": [
        "import gurobipy as gp\n",
        "from gurobipy import GRB\n",
        "import numpy as np\n",
        "\n",
        "'''\n",
        "MAX     Z=8X1 + 14X2 + 30X3 + 50X4\n",
        "s.a.    X1+ 2X2 + 10X3 + 16X4 <= 800      (horas máquina mezclado)\n",
        "        1.5X1 + 2X2 + 4X3 + 5X4 <= 1000   (horas máquina vibrado)\n",
        "        0.5X1 + 0.6X2 + X3 + 2X4 <= 340   (horas- hombre inspección)\n",
        "        XI >= 0\n",
        "'''\n",
        "try:\n",
        "\n",
        "    # Create a new model\n",
        "    m = gp.Model(\"g3\")\n",
        "\n",
        "    # Create variables\n",
        "    X1 = m.addVar(vtype=GRB.CONTINUOUS, name=\"X1\")\n",
        "    X2 = m.addVar(vtype=GRB.CONTINUOUS, name=\"X2\")\n",
        "    X3 = m.addVar(vtype=GRB.CONTINUOUS, name=\"X3\")\n",
        "    X4 = m.addVar(vtype=GRB.CONTINUOUS, name=\"X4\")\n",
        "\n",
        "    # Set objective\n",
        "    m.setObjective(8*X1 + 14*X2 + 30*X3 + 50*X4, GRB.MAXIMIZE)\n",
        "\n",
        "    m.addConstr(X1+ 2*X2 + 10*X3 + 16*X4 <= 800, \"c1\")\n",
        "    m.addConstr(1.5*X1 + 2*X2 + 4*X3 + 5*X4 <= 1000, \"c2\")\n",
        "    m.addConstr(0.5*X1 + 0.6*X2 + X3 + 2*X4 <= 340, \"c3\")\n",
        "\n",
        "    m.addConstr(X1 >= 0, \"c4\")\n",
        "    m.addConstr(X2 >= 0, \"c5\")\n",
        "    m.addConstr(X3 >= 0, \"c6\")\n",
        "    m.addConstr(X4 >= 0, \"c7\")\n",
        "\n",
        "    m.optimize()\n",
        "    constr = {}\n",
        "    for c in m.getConstrs():\n",
        "      constr[c.ConstrName] = {'SARHSLow' : c.SARHSLow, 'SARHSUp' : c.SARHSUp,  \"Shadow_Price\": c.Pi , \"RHS\" : c.RHS,  \"LHS\" : c.RHS - c.Slack}\n",
        "\n",
        "    res = {}\n",
        "    for v in m.getVars():\n",
        "        res[v.VarName] =  {'X' : v.X, 'SAObjUp' : v.SAObjUp, 'SAObjLow' : v.SAObjLow}\n",
        "\n",
        "    z = m.ObjVal\n",
        "\n",
        "\n",
        "\n",
        "except gp.GurobiError as e:\n",
        "    print('Error code ' + str(e.errno) + ': ' + str(e))\n",
        "\n",
        "except AttributeError:\n",
        "    print('Encountered an attribute error')\n",
        "\n",
        "except:\n",
        "  pass\n"
      ]
    },
    {
      "cell_type": "code",
      "source": [
        "#Ejercicio 1\n",
        "\n",
        "print('X1 :'+str(res['X1']['X']))\n",
        "print('X2 :'+str(res['X2']['X']))\n",
        "print('X3 :'+str(res['X3']['X']))\n",
        "print('X4 :'+str(res['X4']['X']))\n",
        "print(\"Z: \"+str(z))"
      ],
      "metadata": {
        "colab": {
          "base_uri": "https://localhost:8080/"
        },
        "id": "o97LUDgLGk0d",
        "outputId": "058157aa-ef10-4dec-95b6-d92de6c97d42"
      },
      "execution_count": null,
      "outputs": [
        {
          "output_type": "stream",
          "name": "stdout",
          "text": [
            "X1 :400.0\n",
            "X2 :200.0\n",
            "X3 :0.0\n",
            "X4 :0.0\n",
            "Z: 6000.0\n"
          ]
        }
      ]
    },
    {
      "cell_type": "code",
      "source": [
        "#Ejercicio 2\n",
        "print(\"Máximo permitido: \"+str(res['X3']['SAObjUp']))\n"
      ],
      "metadata": {
        "colab": {
          "base_uri": "https://localhost:8080/"
        },
        "id": "TfFlUdLvOr1v",
        "outputId": "e33ad42d-66a9-44b7-92ac-0ce9b76839a9"
      },
      "execution_count": null,
      "outputs": [
        {
          "output_type": "stream",
          "name": "stdout",
          "text": [
            "Máximo permitido: 58.0\n"
          ]
        }
      ]
    },
    {
      "cell_type": "code",
      "source": [
        "#Ejercicio3\n",
        "print(\"Minimo: \" +str(round(res['X2']['SAObjLow'], 5)))\n"
      ],
      "metadata": {
        "colab": {
          "base_uri": "https://localhost:8080/"
        },
        "id": "AvlGaQcZQY6G",
        "outputId": "f97f3838-e2c1-49b8-ce0b-b6fde4a55db0"
      },
      "execution_count": null,
      "outputs": [
        {
          "output_type": "stream",
          "name": "stdout",
          "text": [
            "Minimo : 11.89474\n"
          ]
        }
      ]
    },
    {
      "cell_type": "code",
      "source": [
        "#Ejercicio4\n",
        "print( \"Rango: \"+str(round(constr['c1']['SARHSLow'], 4))+ \" - \"+ str(constr['c1']['SARHSUp']))"
      ],
      "metadata": {
        "colab": {
          "base_uri": "https://localhost:8080/"
        },
        "id": "ZR2zQBVOVQyO",
        "outputId": "5dc13e7f-012a-4c60-a225-a09e0eae7424"
      },
      "execution_count": null,
      "outputs": [
        {
          "output_type": "stream",
          "name": "stdout",
          "text": [
            "Rango: 666.6667 - 1000.0\n"
          ]
        }
      ]
    },
    {
      "cell_type": "code",
      "source": [
        "#Ejercicio 5\n",
        "#Al rehacer la proyeccion dentro del modelo, no hay ningun cambio dentro de la proyeccion, por lo tanto al no generar utilidad, tampoco es viable aumentar las horas hombre\n"
      ],
      "metadata": {
        "id": "LHqlS5n5XHhz"
      },
      "execution_count": null,
      "outputs": []
    },
    {
      "cell_type": "code",
      "source": [
        "#Ejercicio6\n",
        "print(\"Beneficio Unidades Monetarias:\" +str(constr['c1']['Shadow_Price']))\n"
      ],
      "metadata": {
        "colab": {
          "base_uri": "https://localhost:8080/"
        },
        "id": "K1JbGcX4X_WK",
        "outputId": "d6a13b59-4945-4962-8c0f-a454d79f60ea"
      },
      "execution_count": null,
      "outputs": [
        {
          "output_type": "stream",
          "name": "stdout",
          "text": [
            "Beneficio Unidades Monetarias:5.0\n"
          ]
        }
      ]
    },
    {
      "cell_type": "code",
      "source": [
        "#Ejercicio7\n",
        "print(\"Beneficio Unidades Monetarias:\" +str(constr['c2']['Shadow_Price']))\n"
      ],
      "metadata": {
        "colab": {
          "base_uri": "https://localhost:8080/"
        },
        "id": "J6iTnyJAYgWr",
        "outputId": "b66602d9-b130-4a03-fe23-469b959012ce"
      },
      "execution_count": null,
      "outputs": [
        {
          "output_type": "stream",
          "name": "stdout",
          "text": [
            "Beneficio Unidades Monetarias:2.0\n"
          ]
        }
      ]
    },
    {
      "cell_type": "code",
      "source": [
        "#Ejercicio 8\n",
        "print(\"Left Hand / Right Hand: \"+ str(constr['c3']['LHS'])+\" / \"+ str( constr['c3']['RHS'] ))\n"
      ],
      "metadata": {
        "colab": {
          "base_uri": "https://localhost:8080/"
        },
        "id": "iW68zf2NZOLq",
        "outputId": "708697ab-11b0-4e75-b80e-b8858bccb196"
      },
      "execution_count": null,
      "outputs": [
        {
          "output_type": "stream",
          "name": "stdout",
          "text": [
            "Left Hand / Right Hand: 320.0 / 340.0\n"
          ]
        }
      ]
    },
    {
      "cell_type": "code",
      "source": [
        "#Ejercicio 9\n",
        "\n",
        "m2 = gp.Model(\"g3\")\n",
        "X1 = m2.addVar(vtype=GRB.CONTINUOUS, name=\"X1\")\n",
        "X2 = m2.addVar(vtype=GRB.CONTINUOUS, name=\"X2\")\n",
        "X3 = m2.addVar(vtype=GRB.CONTINUOUS, name=\"X3\")\n",
        "X4 = m2.addVar(vtype=GRB.CONTINUOUS, name=\"X4\")\n",
        "\n",
        "m2.setObjective(8*X1 + 14*X2 + 30*X3 + 50*X4, GRB.MAXIMIZE)\n",
        "m2.addConstr(X1+ 2*X2 + 10*X3 + 16*X4 <= 800, \"c1\")\n",
        "m2.addConstr(1.5*X1 + 2*X2 + 4*X3 + 5*X4 <= 1020, \"c2\")\n",
        "m2.addConstr(0.5*X1 + 0.6*X2 + X3 + 2*X4 <= 340, \"c3\")\n",
        "\n",
        "m2.addConstr(X1 >= 0, \"c4\")\n",
        "m2.addConstr(X2 >= 0, \"c5\")\n",
        "m2.addConstr(X3 >= 0, \"c6\")\n",
        "m2.addConstr(X4 >= 0, \"c7\")\n",
        "\n",
        "m2.optimize()\n",
        "res2 = {}\n",
        "for v in m2.getVars():\n",
        "     res2[v.VarName] =  {'X' : v.X}\n",
        "z_2 = m2.ObjVal\n",
        "\n",
        "print('X1 :'+str(res2['X1']['X']))\n",
        "print('X2 :'+str(res2['X2']['X']))\n",
        "print('X3 :'+str(res2['X3']['X']))\n",
        "print('X4 :'+str(res2['X4']['X']))\n",
        "print(\"Z: \"+str(z_2))\n",
        "\n"
      ],
      "metadata": {
        "colab": {
          "base_uri": "https://localhost:8080/"
        },
        "id": "LwsGma8-Z4rS",
        "outputId": "7f09bf9f-b7de-41de-bcb4-1e2a4a11bfbe"
      },
      "execution_count": null,
      "outputs": [
        {
          "output_type": "stream",
          "name": "stdout",
          "text": [
            "Gurobi Optimizer version 10.0.0 build v10.0.0rc2 (linux64)\n",
            "\n",
            "CPU model: Intel(R) Xeon(R) CPU @ 2.20GHz, instruction set [SSE2|AVX|AVX2]\n",
            "Thread count: 1 physical cores, 2 logical processors, using up to 2 threads\n",
            "\n",
            "Optimize a model with 7 rows, 4 columns and 16 nonzeros\n",
            "Model fingerprint: 0xb9494547\n",
            "Coefficient statistics:\n",
            "  Matrix range     [5e-01, 2e+01]\n",
            "  Objective range  [8e+00, 5e+01]\n",
            "  Bounds range     [0e+00, 0e+00]\n",
            "  RHS range        [3e+02, 1e+03]\n",
            "Presolve removed 4 rows and 0 columns\n",
            "Presolve time: 0.02s\n",
            "Presolved: 3 rows, 4 columns, 12 nonzeros\n",
            "\n",
            "Iteration    Objective       Primal Inf.    Dual Inf.      Time\n",
            "       0    6.4000000e+03   6.732975e+01   0.000000e+00      0s\n",
            "       2    6.0400000e+03   0.000000e+00   0.000000e+00      0s\n",
            "\n",
            "Solved in 2 iterations and 0.03 seconds (0.00 work units)\n",
            "Optimal objective  6.040000000e+03\n",
            "X1 :440.0\n",
            "X2 :180.0\n",
            "X3 :0.0\n",
            "X4 :0.0\n",
            "Z: 6040.0\n"
          ]
        }
      ]
    },
    {
      "cell_type": "code",
      "source": [
        "#Ejercicio 10\n",
        "\n",
        "m3 = gp.Model(\"g3\")\n",
        "X1 = m3.addVar(vtype=GRB.CONTINUOUS, name=\"X1\")\n",
        "X2 = m3.addVar(vtype=GRB.CONTINUOUS, name=\"X2\")\n",
        "X3 = m3.addVar(vtype=GRB.CONTINUOUS, name=\"X3\")\n",
        "X4 = m3.addVar(vtype=GRB.CONTINUOUS, name=\"X4\")\n",
        "X5 = m3.addVar(vtype=GRB.CONTINUOUS, name=\"X5\")\n",
        "\n",
        "m3.setObjective(8*X1 + 14*X2 + 30*X3 + 50*X4 + 30*X5, GRB.MAXIMIZE)\n",
        "\n",
        "m3.addConstr(X1+ 2*X2 + 10*X3 + 16*X4 + 2*X5 <= 800, \"c1\")\n",
        "m3.addConstr(1.5*X1 + 2*X2 + 4*X3 + 5*X4 + 2*X5 <= 1000, \"c2\")\n",
        "m3.addConstr(0.5*X1 + 0.6*X2 + X3 + 2*X4 + 2*X5 <= 340, \"c3\")\n",
        "\n",
        "m3.addConstr(X1 >= 0, \"c4\")\n",
        "m3.addConstr(X2 >= 0, \"c5\")\n",
        "m3.addConstr(X3 >= 0, \"c6\")\n",
        "m3.addConstr(X4 >= 0, \"c7\")\n",
        "m3.addConstr(X5 >= 0, \"c8\")\n",
        "\n",
        "m3.optimize()\n",
        "res3 = {}\n",
        "for v in m3.getVars():\n",
        "     res3[v.VarName] =  {'X' : v.X}\n",
        "z_3 = m3.ObjVal\n",
        "\n",
        "print('X1 :'+str(res3['X1']['X']))\n",
        "print('X2 :'+str(res3['X2']['X']))\n",
        "print('X3 :'+str(res3['X3']['X']))\n",
        "print('X4 :'+str(res3['X4']['X']))\n",
        "print('X5 :'+str(res3['X5']['X']))\n",
        "print(\"Z3: \"+str(z_3))\n",
        "print(\"Z1: \"+str(z))\n"
      ],
      "metadata": {
        "colab": {
          "base_uri": "https://localhost:8080/"
        },
        "id": "GcJbtbOtfP3o",
        "outputId": "0cc01be5-ecd0-4c71-9f8f-a29507987bce"
      },
      "execution_count": null,
      "outputs": [
        {
          "output_type": "stream",
          "name": "stdout",
          "text": [
            "Gurobi Optimizer version 10.0.0 build v10.0.0rc2 (linux64)\n",
            "\n",
            "CPU model: Intel(R) Xeon(R) CPU @ 2.20GHz, instruction set [SSE2|AVX|AVX2]\n",
            "Thread count: 1 physical cores, 2 logical processors, using up to 2 threads\n",
            "\n",
            "Optimize a model with 8 rows, 5 columns and 20 nonzeros\n",
            "Model fingerprint: 0x1fb4fd73\n",
            "Coefficient statistics:\n",
            "  Matrix range     [5e-01, 2e+01]\n",
            "  Objective range  [8e+00, 5e+01]\n",
            "  Bounds range     [0e+00, 0e+00]\n",
            "  RHS range        [3e+02, 1e+03]\n",
            "Presolve removed 5 rows and 0 columns\n",
            "Presolve time: 0.02s\n",
            "Presolved: 3 rows, 5 columns, 15 nonzeros\n",
            "\n",
            "Iteration    Objective       Primal Inf.    Dual Inf.      Time\n",
            "       0    1.2000000e+04   1.149573e+02   0.000000e+00      0s\n",
            "       4    6.7428571e+03   0.000000e+00   0.000000e+00      0s\n",
            "\n",
            "Solved in 4 iterations and 0.02 seconds (0.00 work units)\n",
            "Optimal objective  6.742857143e+03\n",
            "X1 :0.0\n",
            "X2 :328.5714285714286\n",
            "X3 :0.0\n",
            "X4 :0.0\n",
            "X5 :71.42857142857142\n",
            "Z3: 6742.857142857143\n",
            "Z1: 6000.0\n"
          ]
        }
      ]
    },
    {
      "cell_type": "code",
      "source": [],
      "metadata": {
        "id": "mQo2DXZriGN_"
      },
      "execution_count": null,
      "outputs": []
    }
  ]
}