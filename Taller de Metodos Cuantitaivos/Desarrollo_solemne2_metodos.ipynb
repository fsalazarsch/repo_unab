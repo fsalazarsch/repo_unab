{
  "nbformat": 4,
  "nbformat_minor": 0,
  "metadata": {
    "colab": {
      "provenance": []
    },
    "kernelspec": {
      "name": "python3",
      "display_name": "Python 3"
    },
    "language_info": {
      "name": "python"
    }
  },
  "cells": [
    {
      "cell_type": "code",
      "execution_count": null,
      "metadata": {
        "colab": {
          "base_uri": "https://localhost:8080/"
        },
        "id": "XnH3_DP6hvAe",
        "outputId": "79b0fda4-448c-4c57-cd6b-a69c210365ae"
      },
      "outputs": [
        {
          "output_type": "stream",
          "name": "stdout",
          "text": [
            "9.21034037197618\n"
          ]
        }
      ],
      "source": [
        "Prengunta 1\n"
      ]
    },
    {
      "cell_type": "code",
      "source": [
        "import pandas as pd\n",
        "import numpy as np\n",
        "import scipy.stats as stats\n",
        "import math\n",
        "\n",
        "df = pd.DataFrame({'inf':[6, 7.5, 9, 10.5, 12], 'sup':[ 7.5, 9, 10.5, 12, 13.5],'frec':[ 15, 8, 32, 19, 27] })\n",
        "\n",
        "df['mclase'] = df.apply(lambda row: (row.sup + row.inf)/2, axis=1)\n",
        "\n",
        "df['m'] = df.apply(lambda row: (row.mclase * row.frec), axis=1)\n",
        "\n",
        "\n",
        "X = np.round(df['m'].sum()/df['frec'].sum(), 2)\n",
        "\n",
        "\n",
        "print(X)\n",
        "\n",
        "df['sigma'] = df.apply(lambda row: ((row.mclase - X) * row.frec), axis=1)\n",
        "print(df['sigma'].sum())\n",
        "print(df)"
      ],
      "metadata": {
        "colab": {
          "base_uri": "https://localhost:8080/"
        },
        "outputId": "7cd36543-c5e8-4304-fefc-e85feb69022c",
        "id": "RebhIAj1blfY"
      },
      "execution_count": null,
      "outputs": [
        {
          "output_type": "stream",
          "name": "stdout",
          "text": [
            "10.27\n",
            "-0.0199999999999676\n",
            "    inf   sup  frec  mclase       m  sigma\n",
            "0   6.0   7.5    15    6.75  101.25 -52.80\n",
            "1   7.5   9.0     8    8.25   66.00 -16.16\n",
            "2   9.0  10.5    32    9.75  312.00 -16.64\n",
            "3  10.5  12.0    19   11.25  213.75  18.62\n",
            "4  12.0  13.5    27   12.75  344.25  66.96\n"
          ]
        }
      ]
    },
    {
      "cell_type": "code",
      "source": [
        "import pandas as pd\n",
        "import numpy as np\n",
        "import scipy.stats as stats\n",
        "import seaborn as sns\n",
        "\n",
        "print(stats.t.cdf(-2.69, 110))\n",
        "print(stats.t.cdf(2.69, 110))\n",
        "print(stats.t.cdf(-1.99, 110))\n",
        "print(stats.t.cdf(1.99, 110))\n",
        "\n",
        "\n",
        "df = pd.DataFrame({'inf':[5,20, 35, 50, 65], 'sup':[20,35, 50, 65, 80],'frec':[7,25, 34, 28, 17] }) # esto crea un __DataFrame__ para el ejemplo!\n",
        "print(df['frec'].sum())\n",
        "print(df.describe())\n"
      ],
      "metadata": {
        "colab": {
          "base_uri": "https://localhost:8080/"
        },
        "id": "eL6yVv7brnu_",
        "outputId": "24151a96-dcb3-4ade-fe84-4944d2ba2644"
      },
      "execution_count": null,
      "outputs": [
        {
          "output_type": "stream",
          "name": "stdout",
          "text": [
            "0.004129509139729538\n",
            "0.9958704908602705\n",
            "0.02453596544779289\n",
            "0.9754640345522071\n",
            "111\n",
            "             inf        sup       frec\n",
            "count   5.000000   5.000000   5.000000\n",
            "mean   35.000000  50.000000  22.200000\n",
            "std    23.717082  23.717082  10.473777\n",
            "min     5.000000  20.000000   7.000000\n",
            "25%    20.000000  35.000000  17.000000\n",
            "50%    35.000000  50.000000  25.000000\n",
            "75%    50.000000  65.000000  28.000000\n",
            "max    65.000000  80.000000  34.000000\n"
          ]
        }
      ]
    },
    {
      "cell_type": "code",
      "source": [],
      "metadata": {
        "id": "j1pALXLCsuCb"
      },
      "execution_count": null,
      "outputs": []
    },
    {
      "cell_type": "code",
      "source": [
        "z = 1.96\n",
        "N = 2000\n",
        "\n",
        "e = 0.05\n",
        "((e/z)**2)*2000"
      ],
      "metadata": {
        "colab": {
          "base_uri": "https://localhost:8080/"
        },
        "id": "F13wzqY7Q-Pg",
        "outputId": "cbd30a9f-4424-4907-ca77-e47efc61c210"
      },
      "execution_count": null,
      "outputs": [
        {
          "output_type": "execute_result",
          "data": {
            "text/plain": [
              "1.3015410245730947"
            ]
          },
          "metadata": {},
          "execution_count": 8
        }
      ]
    }
  ]
}