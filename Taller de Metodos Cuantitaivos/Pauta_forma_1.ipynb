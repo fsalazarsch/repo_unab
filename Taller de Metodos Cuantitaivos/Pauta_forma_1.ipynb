{
  "nbformat": 4,
  "nbformat_minor": 0,
  "metadata": {
    "colab": {
      "provenance": []
    },
    "kernelspec": {
      "name": "python3",
      "display_name": "Python 3"
    }
  },
  "cells": [
    {
      "cell_type": "markdown",
      "metadata": {
        "id": "AYeNHOtNIVNi"
      },
      "source": [
        "# Instrucciones\n",
        "\n",
        "1. Determine el modelo de regresión lineal que le permita entender la relación entre la variable PIB_per_cápita y las variables regresoras Mortalidad_Infantil,\tTasa_Alfabetismo_Femenino\ty\tTasa_fecundidad.\n",
        "2. ¿Qué puede concluir respecto de los estadísticos globales del modelo?\n",
        "3. ¿Qué puede concluir respecto de los estadísticos individuales del modelo?"
      ]
    },
    {
      "cell_type": "code",
      "metadata": {
        "id": "GaPGR1cKGYuZ",
        "colab": {
          "base_uri": "https://localhost:8080/"
        },
        "outputId": "0a226cd3-35be-40c8-a193-27dfdfad9efb"
      },
      "source": [
        "import pandas as pd\n",
        "import numpy as np\n",
        "import scipy.stats as ss\n",
        "import statsmodels.formula.api as smf # Nos permite ajustar el modelo de regresión"
      ],
      "execution_count": null,
      "outputs": [
        {
          "output_type": "stream",
          "text": [
            "/usr/local/lib/python3.7/dist-packages/statsmodels/tools/_testing.py:19: FutureWarning: pandas.util.testing is deprecated. Use the functions in the public API at pandas.testing instead.\n",
            "  import pandas.util.testing as tm\n"
          ],
          "name": "stderr"
        }
      ]
    },
    {
      "cell_type": "code",
      "metadata": {
        "id": "HJHVbPpYGjr1"
      },
      "source": [
        "# Importamos la base de datos y la denominamos df por \"data frame\"\n",
        "df = pd.read_csv('solemne_forma_1.csv', sep=';', decimal=\",\")"
      ],
      "execution_count": null,
      "outputs": []
    },
    {
      "cell_type": "code",
      "metadata": {
        "colab": {
          "base_uri": "https://localhost:8080/",
          "height": 404
        },
        "id": "dgjob6vnGrEk",
        "outputId": "0c842019-54cf-49a2-8d89-5c4f739b881e"
      },
      "source": [
        "df"
      ],
      "execution_count": null,
      "outputs": [
        {
          "output_type": "execute_result",
          "data": {
            "text/html": [
              "<div>\n",
              "<style scoped>\n",
              "    .dataframe tbody tr th:only-of-type {\n",
              "        vertical-align: middle;\n",
              "    }\n",
              "\n",
              "    .dataframe tbody tr th {\n",
              "        vertical-align: top;\n",
              "    }\n",
              "\n",
              "    .dataframe thead th {\n",
              "        text-align: right;\n",
              "    }\n",
              "</style>\n",
              "<table border=\"1\" class=\"dataframe\">\n",
              "  <thead>\n",
              "    <tr style=\"text-align: right;\">\n",
              "      <th></th>\n",
              "      <th>Mortalidad_Infantil</th>\n",
              "      <th>Tasa_Alfabetismo_Femenino</th>\n",
              "      <th>PIB_per_cápita</th>\n",
              "      <th>Tasa_fecundidad</th>\n",
              "    </tr>\n",
              "  </thead>\n",
              "  <tbody>\n",
              "    <tr>\n",
              "      <th>0</th>\n",
              "      <td>128</td>\n",
              "      <td>37</td>\n",
              "      <td>1870</td>\n",
              "      <td>6.66</td>\n",
              "    </tr>\n",
              "    <tr>\n",
              "      <th>1</th>\n",
              "      <td>204</td>\n",
              "      <td>22</td>\n",
              "      <td>130</td>\n",
              "      <td>6.15</td>\n",
              "    </tr>\n",
              "    <tr>\n",
              "      <th>2</th>\n",
              "      <td>202</td>\n",
              "      <td>16</td>\n",
              "      <td>310</td>\n",
              "      <td>7.00</td>\n",
              "    </tr>\n",
              "    <tr>\n",
              "      <th>3</th>\n",
              "      <td>197</td>\n",
              "      <td>65</td>\n",
              "      <td>570</td>\n",
              "      <td>7.25</td>\n",
              "    </tr>\n",
              "    <tr>\n",
              "      <th>4</th>\n",
              "      <td>96</td>\n",
              "      <td>76</td>\n",
              "      <td>2050</td>\n",
              "      <td>3.81</td>\n",
              "    </tr>\n",
              "    <tr>\n",
              "      <th>...</th>\n",
              "      <td>...</td>\n",
              "      <td>...</td>\n",
              "      <td>...</td>\n",
              "      <td>...</td>\n",
              "    </tr>\n",
              "    <tr>\n",
              "      <th>59</th>\n",
              "      <td>115</td>\n",
              "      <td>62</td>\n",
              "      <td>1470</td>\n",
              "      <td>3.89</td>\n",
              "    </tr>\n",
              "    <tr>\n",
              "      <th>60</th>\n",
              "      <td>186</td>\n",
              "      <td>45</td>\n",
              "      <td>300</td>\n",
              "      <td>6.90</td>\n",
              "    </tr>\n",
              "    <tr>\n",
              "      <th>61</th>\n",
              "      <td>47</td>\n",
              "      <td>85</td>\n",
              "      <td>3630</td>\n",
              "      <td>4.10</td>\n",
              "    </tr>\n",
              "    <tr>\n",
              "      <th>62</th>\n",
              "      <td>178</td>\n",
              "      <td>45</td>\n",
              "      <td>220</td>\n",
              "      <td>6.09</td>\n",
              "    </tr>\n",
              "    <tr>\n",
              "      <th>63</th>\n",
              "      <td>142</td>\n",
              "      <td>67</td>\n",
              "      <td>560</td>\n",
              "      <td>7.20</td>\n",
              "    </tr>\n",
              "  </tbody>\n",
              "</table>\n",
              "<p>64 rows × 4 columns</p>\n",
              "</div>"
            ],
            "text/plain": [
              "    Mortalidad_Infantil  ...  Tasa_fecundidad\n",
              "0                   128  ...             6.66\n",
              "1                   204  ...             6.15\n",
              "2                   202  ...             7.00\n",
              "3                   197  ...             7.25\n",
              "4                    96  ...             3.81\n",
              "..                  ...  ...              ...\n",
              "59                  115  ...             3.89\n",
              "60                  186  ...             6.90\n",
              "61                   47  ...             4.10\n",
              "62                  178  ...             6.09\n",
              "63                  142  ...             7.20\n",
              "\n",
              "[64 rows x 4 columns]"
            ]
          },
          "metadata": {
            "tags": []
          },
          "execution_count": 8
        }
      ]
    },
    {
      "cell_type": "code",
      "metadata": {
        "colab": {
          "base_uri": "https://localhost:8080/",
          "height": 286
        },
        "id": "6FzEGNpnHQo4",
        "outputId": "a758249d-f94b-4d6d-8540-8b8cdb6c6f13"
      },
      "source": [
        "df.describe()"
      ],
      "execution_count": null,
      "outputs": [
        {
          "output_type": "execute_result",
          "data": {
            "text/html": [
              "<div>\n",
              "<style scoped>\n",
              "    .dataframe tbody tr th:only-of-type {\n",
              "        vertical-align: middle;\n",
              "    }\n",
              "\n",
              "    .dataframe tbody tr th {\n",
              "        vertical-align: top;\n",
              "    }\n",
              "\n",
              "    .dataframe thead th {\n",
              "        text-align: right;\n",
              "    }\n",
              "</style>\n",
              "<table border=\"1\" class=\"dataframe\">\n",
              "  <thead>\n",
              "    <tr style=\"text-align: right;\">\n",
              "      <th></th>\n",
              "      <th>Mortalidad_Infantil</th>\n",
              "      <th>Tasa_Alfabetismo_Femenino</th>\n",
              "      <th>PIB_per_cápita</th>\n",
              "      <th>Tasa_fecundidad</th>\n",
              "    </tr>\n",
              "  </thead>\n",
              "  <tbody>\n",
              "    <tr>\n",
              "      <th>count</th>\n",
              "      <td>64.000000</td>\n",
              "      <td>64.000000</td>\n",
              "      <td>64.000000</td>\n",
              "      <td>64.000000</td>\n",
              "    </tr>\n",
              "    <tr>\n",
              "      <th>mean</th>\n",
              "      <td>139.921875</td>\n",
              "      <td>51.187500</td>\n",
              "      <td>1399.687500</td>\n",
              "      <td>5.565469</td>\n",
              "    </tr>\n",
              "    <tr>\n",
              "      <th>std</th>\n",
              "      <td>77.260291</td>\n",
              "      <td>26.007859</td>\n",
              "      <td>2726.156064</td>\n",
              "      <td>1.521400</td>\n",
              "    </tr>\n",
              "    <tr>\n",
              "      <th>min</th>\n",
              "      <td>12.000000</td>\n",
              "      <td>9.000000</td>\n",
              "      <td>120.000000</td>\n",
              "      <td>1.690000</td>\n",
              "    </tr>\n",
              "    <tr>\n",
              "      <th>25%</th>\n",
              "      <td>78.500000</td>\n",
              "      <td>29.000000</td>\n",
              "      <td>300.000000</td>\n",
              "      <td>4.615000</td>\n",
              "    </tr>\n",
              "    <tr>\n",
              "      <th>50%</th>\n",
              "      <td>138.500000</td>\n",
              "      <td>48.000000</td>\n",
              "      <td>575.000000</td>\n",
              "      <td>6.040000</td>\n",
              "    </tr>\n",
              "    <tr>\n",
              "      <th>75%</th>\n",
              "      <td>192.500000</td>\n",
              "      <td>77.250000</td>\n",
              "      <td>1317.500000</td>\n",
              "      <td>6.660000</td>\n",
              "    </tr>\n",
              "    <tr>\n",
              "      <th>max</th>\n",
              "      <td>312.000000</td>\n",
              "      <td>95.000000</td>\n",
              "      <td>19830.000000</td>\n",
              "      <td>8.490000</td>\n",
              "    </tr>\n",
              "  </tbody>\n",
              "</table>\n",
              "</div>"
            ],
            "text/plain": [
              "       Mortalidad_Infantil  ...  Tasa_fecundidad\n",
              "count            64.000000  ...        64.000000\n",
              "mean            139.921875  ...         5.565469\n",
              "std              77.260291  ...         1.521400\n",
              "min              12.000000  ...         1.690000\n",
              "25%              78.500000  ...         4.615000\n",
              "50%             138.500000  ...         6.040000\n",
              "75%             192.500000  ...         6.660000\n",
              "max             312.000000  ...         8.490000\n",
              "\n",
              "[8 rows x 4 columns]"
            ]
          },
          "metadata": {
            "tags": []
          },
          "execution_count": 9
        }
      ]
    },
    {
      "cell_type": "markdown",
      "metadata": {
        "id": "KAo3IAUzJ8FX"
      },
      "source": [
        "# Solución\n",
        "\n",
        "1."
      ]
    },
    {
      "cell_type": "code",
      "metadata": {
        "id": "dB0qaJlAHRQi",
        "colab": {
          "base_uri": "https://localhost:8080/",
          "height": 492
        },
        "outputId": "3cce9965-3c85-4900-9aa4-ca8febac2890"
      },
      "source": [
        "# Usamos el método de los mínimos cuadrados para ajustar la regresión lineal multiple\n",
        "Modelo = smf.ols('PIB_per_cápita ~ Mortalidad_Infantil+\tTasa_Alfabetismo_Femenino+Tasa_fecundidad', df).fit() #Ajustamos el modelo\n",
        "# Usamos summary para pedir el resultado del modelo\n",
        "Modelo.summary()"
      ],
      "execution_count": null,
      "outputs": [
        {
          "output_type": "execute_result",
          "data": {
            "text/html": [
              "<table class=\"simpletable\">\n",
              "<caption>OLS Regression Results</caption>\n",
              "<tr>\n",
              "  <th>Dep. Variable:</th>     <td>PIB_per_cápita</td>  <th>  R-squared:         </th> <td>   0.164</td>\n",
              "</tr>\n",
              "<tr>\n",
              "  <th>Model:</th>                   <td>OLS</td>       <th>  Adj. R-squared:    </th> <td>   0.122</td>\n",
              "</tr>\n",
              "<tr>\n",
              "  <th>Method:</th>             <td>Least Squares</td>  <th>  F-statistic:       </th> <td>   3.931</td>\n",
              "</tr>\n",
              "<tr>\n",
              "  <th>Date:</th>             <td>Thu, 18 Mar 2021</td> <th>  Prob (F-statistic):</th>  <td>0.0125</td> \n",
              "</tr>\n",
              "<tr>\n",
              "  <th>Time:</th>                 <td>02:25:54</td>     <th>  Log-Likelihood:    </th> <td> -590.85</td>\n",
              "</tr>\n",
              "<tr>\n",
              "  <th>No. Observations:</th>      <td>    64</td>      <th>  AIC:               </th> <td>   1190.</td>\n",
              "</tr>\n",
              "<tr>\n",
              "  <th>Df Residuals:</th>          <td>    60</td>      <th>  BIC:               </th> <td>   1198.</td>\n",
              "</tr>\n",
              "<tr>\n",
              "  <th>Df Model:</th>              <td>     3</td>      <th>                     </th>     <td> </td>   \n",
              "</tr>\n",
              "<tr>\n",
              "  <th>Covariance Type:</th>      <td>nonrobust</td>    <th>                     </th>     <td> </td>   \n",
              "</tr>\n",
              "</table>\n",
              "<table class=\"simpletable\">\n",
              "<tr>\n",
              "              <td></td>                 <th>coef</th>     <th>std err</th>      <th>t</th>      <th>P>|t|</th>  <th>[0.025</th>    <th>0.975]</th>  \n",
              "</tr>\n",
              "<tr>\n",
              "  <th>Intercept</th>                 <td> 3825.5536</td> <td> 2489.125</td> <td>    1.537</td> <td> 0.130</td> <td>-1153.439</td> <td> 8804.546</td>\n",
              "</tr>\n",
              "<tr>\n",
              "  <th>Mortalidad_Infantil</th>       <td>  -18.6792</td> <td>    7.284</td> <td>   -2.565</td> <td> 0.013</td> <td>  -33.249</td> <td>   -4.110</td>\n",
              "</tr>\n",
              "<tr>\n",
              "  <th>Tasa_Alfabetismo_Femenino</th> <td>  -11.4455</td> <td>   21.377</td> <td>   -0.535</td> <td> 0.594</td> <td>  -54.206</td> <td>   31.315</td>\n",
              "</tr>\n",
              "<tr>\n",
              "  <th>Tasa_fecundidad</th>           <td>  139.0045</td> <td>  279.714</td> <td>    0.497</td> <td> 0.621</td> <td> -420.507</td> <td>  698.516</td>\n",
              "</tr>\n",
              "</table>\n",
              "<table class=\"simpletable\">\n",
              "<tr>\n",
              "  <th>Omnibus:</th>       <td>103.449</td> <th>  Durbin-Watson:     </th> <td>   2.335</td>\n",
              "</tr>\n",
              "<tr>\n",
              "  <th>Prob(Omnibus):</th> <td> 0.000</td>  <th>  Jarque-Bera (JB):  </th> <td>2524.104</td>\n",
              "</tr>\n",
              "<tr>\n",
              "  <th>Skew:</th>          <td> 4.931</td>  <th>  Prob(JB):          </th> <td>    0.00</td>\n",
              "</tr>\n",
              "<tr>\n",
              "  <th>Kurtosis:</th>      <td>32.142</td>  <th>  Cond. No.          </th> <td>1.28e+03</td>\n",
              "</tr>\n",
              "</table><br/><br/>Warnings:<br/>[1] Standard Errors assume that the covariance matrix of the errors is correctly specified.<br/>[2] The condition number is large, 1.28e+03. This might indicate that there are<br/>strong multicollinearity or other numerical problems."
            ],
            "text/plain": [
              "<class 'statsmodels.iolib.summary.Summary'>\n",
              "\"\"\"\n",
              "                            OLS Regression Results                            \n",
              "==============================================================================\n",
              "Dep. Variable:         PIB_per_cápita   R-squared:                       0.164\n",
              "Model:                            OLS   Adj. R-squared:                  0.122\n",
              "Method:                 Least Squares   F-statistic:                     3.931\n",
              "Date:                Thu, 18 Mar 2021   Prob (F-statistic):             0.0125\n",
              "Time:                        02:25:54   Log-Likelihood:                -590.85\n",
              "No. Observations:                  64   AIC:                             1190.\n",
              "Df Residuals:                      60   BIC:                             1198.\n",
              "Df Model:                           3                                         \n",
              "Covariance Type:            nonrobust                                         \n",
              "=============================================================================================\n",
              "                                coef    std err          t      P>|t|      [0.025      0.975]\n",
              "---------------------------------------------------------------------------------------------\n",
              "Intercept                  3825.5536   2489.125      1.537      0.130   -1153.439    8804.546\n",
              "Mortalidad_Infantil         -18.6792      7.284     -2.565      0.013     -33.249      -4.110\n",
              "Tasa_Alfabetismo_Femenino   -11.4455     21.377     -0.535      0.594     -54.206      31.315\n",
              "Tasa_fecundidad             139.0045    279.714      0.497      0.621    -420.507     698.516\n",
              "==============================================================================\n",
              "Omnibus:                      103.449   Durbin-Watson:                   2.335\n",
              "Prob(Omnibus):                  0.000   Jarque-Bera (JB):             2524.104\n",
              "Skew:                           4.931   Prob(JB):                         0.00\n",
              "Kurtosis:                      32.142   Cond. No.                     1.28e+03\n",
              "==============================================================================\n",
              "\n",
              "Warnings:\n",
              "[1] Standard Errors assume that the covariance matrix of the errors is correctly specified.\n",
              "[2] The condition number is large, 1.28e+03. This might indicate that there are\n",
              "strong multicollinearity or other numerical problems.\n",
              "\"\"\""
            ]
          },
          "metadata": {
            "tags": []
          },
          "execution_count": 10
        }
      ]
    },
    {
      "cell_type": "markdown",
      "metadata": {
        "id": "KXecSjutJ3IV"
      },
      "source": [
        "1. El modelo obtenido es $PIB\\_per\\_cápita=3825.5536-18.6792* Mortalidad\\_Infantil-11.4455*Tasa\\_Alfabetismo\\_Femenino+139.0045*Tasa\\_fecundidad$\n",
        "\n",
        "2. Análisis estadísticos globales. A partir de los valores de F, R2 y R2 Adj podemos concluir que el modelo es capaz de explicar cerca del 12% de la varianza. F es significativo ($F_{est} < pvalor$). Luego, se rechaza la hipótesis nula de que los coeficientes de regresiones son iguales a cero, por lo que al menos un coeficiente debe ser distinto de cero.\n",
        "\n",
        "3. Los coeficientes asociados a la variable Mortalidad_Infantil mantienen un test-t estadísticamente significativo ($ t_{est} < pvalor$), por lo que se rechaza la hipótesis nula para estas variables. Para la variable Tasa_Alfabetismo_Femenino y Tasa_fecundidad se acepta la hipótesis nula por lo que su coe\n",
        "ciente de regresión es igual a cero.\n"
      ]
    }
  ]
}