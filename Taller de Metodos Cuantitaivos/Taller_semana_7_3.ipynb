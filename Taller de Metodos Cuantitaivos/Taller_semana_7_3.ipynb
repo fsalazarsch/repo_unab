{
  "nbformat": 4,
  "nbformat_minor": 0,
  "metadata": {
    "colab": {
      "provenance": []
    },
    "kernelspec": {
      "name": "python3",
      "display_name": "Python 3"
    }
  },
  "cells": [
    {
      "cell_type": "markdown",
      "metadata": {
        "id": "hKXLPSe7Jdm8"
      },
      "source": [
        "#Taller Semana 7\n",
        "\n",
        "A continuación se presentan el promedio de los últimos años del coeficiente de gini, un indicador que mide la desigualdad en la distribución de la riqueza de un país (entre más cercano a cero la sociedad será más igualitaria, entre más cercano a 100 la sociedad será más desigual).\n",
        "\n",
        "|País|Media|Desviación Estándar | Tamaño de Muestra |\n",
        "| :-------: | :------: | :------: | :------: |\n",
        "|Honduras|54.86|2.60|25|\n",
        "|Colombia|54.59|2.29|17|\n",
        "\n",
        "1. Existe evidencia suficiente para indicar que la varianza de Honduras es igual a la de Colombia.\n",
        "2. Existe evidencia suficiente para indicar que Honduras es un país más igualitario que Colombia.\n",
        "\n",
        "Considere $\\alpha=5\\%$"
      ]
    },
    {
      "cell_type": "code",
      "metadata": {
        "id": "UhFmpLieWle8",
        "colab": {
          "base_uri": "https://localhost:8080/"
        },
        "outputId": "bb0fd262-cffb-4d4a-ce22-927275d9debc"
      },
      "source": [
        "import numpy as np\n",
        "import scipy.stats as stats\n",
        "\n",
        "\n",
        "#ponemos los datos\n",
        "\n",
        "med_hon = 54.86\n",
        "med_col = 54.59\n",
        "\n",
        "desv_hon = 2.6\n",
        "desv_col = 2.29\n",
        "\n",
        "muestra_hon = 25\n",
        "muestra_col = 17\n",
        "\n",
        "alpha = 0.05;\n",
        "\n",
        "\n",
        "#plantenamos la hipotesis que\n",
        "#H0 : varianzas son distintas\n",
        "#H1 : varianzas son iguales\n",
        "\n",
        "numerador = med_hon - med_col -1\n",
        "denominador = (desv_hon **2/muestra_hon) + (desv_col**2/muestra_col)\n",
        "denominador = (denominador)**0.5\n",
        "\n",
        "\n",
        "EST =  numerador / denominador\n",
        "print(EST)\n",
        "\n",
        "gr_lib = ((desv_hon**2/muestra_hon)+(desv_col**2/muestra_col))**2 / (((desv_hon**2/muestra_hon)**2 / (muestra_hon - 1)) + ((desv_col**2/muestra_col)**2 /(muestra_col - 1)))\n",
        "gr_lib = np.ceil(gr_lib)\n",
        "\n",
        "print(gr_lib)\n",
        "\n",
        "nc = 1 - alpha/2\n",
        "#print(alpha/2)\n",
        "#print(nc)\n",
        "\n",
        "#limites de aceptacion\n",
        "\n",
        "lim_inf = stats.t.ppf(alpha/2, gr_lib)\n",
        "lim_sup = stats.t.ppf(nc, gr_lib)\n",
        "print(lim_inf, lim_sup)\n",
        "\n"
      ],
      "execution_count": null,
      "outputs": [
        {
          "output_type": "stream",
          "name": "stdout",
          "text": [
            "-0.9594667112763553\n",
            "38.0\n",
            "-2.0243941645751367 2.024394164575136\n"
          ]
        }
      ]
    },
    {
      "cell_type": "markdown",
      "source": [
        "El estadistico está fuera de la region de aceptaciòn, por lo tanto,  H0 es correcta (las varianzas son distintas)"
      ],
      "metadata": {
        "id": "F1qYPtXTxBMR"
      }
    },
    {
      "cell_type": "code",
      "source": [
        "#planteo hipotesis\n",
        "#H0 :  media honduras >= media colombia --> menos o igualmente desigual\n",
        "#H1 :  media colombia < media homnduras --> mas desigual ....\n",
        "\n",
        "## Utilizaremos los valores del caso nulo para obtener un Estadístico\n",
        "T2 = (med_hon - med_col ) / (((desv_hon**2/muestra_hon)+(desv_col**2/muestra_col))**0.5)\n",
        "print(T2)\n",
        "\n",
        "if ( lim_inf < T2) and ( T2 < lim_sup):\n",
        "  #se cumple H0, si está dentro de la región de aceptación\n",
        "  print(\"Honduras es menos o igualmente desigual que Colombia\")\n",
        "else:\n",
        "  print(\"Se cumple H1 los paises son más desiguales\")\n",
        "  pass\n"
      ],
      "metadata": {
        "colab": {
          "base_uri": "https://localhost:8080/"
        },
        "id": "3p2816b7xUg3",
        "outputId": "3e521d99-15df-44bf-ddd3-e1933a276293"
      },
      "execution_count": null,
      "outputs": [
        {
          "output_type": "stream",
          "name": "stdout",
          "text": [
            "0.35487124937617903\n",
            "Honduras es menos o igualmente desigual que Colombia\n"
          ]
        }
      ]
    }
  ]
}