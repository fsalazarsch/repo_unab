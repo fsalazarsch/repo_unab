{
  "nbformat": 4,
  "nbformat_minor": 0,
  "metadata": {
    "colab": {
      "provenance": []
    },
    "kernelspec": {
      "name": "python3",
      "display_name": "Python 3"
    },
    "language_info": {
      "name": "python"
    }
  },
  "cells": [
    {
      "cell_type": "code",
      "execution_count": null,
      "metadata": {
        "id": "wfRj7aVbenfL"
      },
      "outputs": [],
      "source": [
        "import numpy as np\n",
        "import pandas as pd\n",
        "# Gráficos\n",
        "import matplotlib.pyplot as plt\n",
        "from matplotlib import style\n",
        "import seaborn as sns\n",
        "#Analisis\n",
        "import statsmodels.api as sm\n",
        "from scipy import stats\n",
        "from scipy.stats import pearsonr\n"
      ]
    },
    {
      "cell_type": "code",
      "source": [
        "#datos\n",
        "Puntaje_parcial = [60 , 74 , 66 , 34 , 60 , 66 , 57 , 71 , 39 , 57]\n",
        "PP = np.array(Puntaje_parcial)\n",
        "PP"
      ],
      "metadata": {
        "colab": {
          "base_uri": "https://localhost:8080/"
        },
        "id": "w3btNcq3ezIj",
        "outputId": "954f7d2e-e33e-4bce-fc8e-0cba38a53bb0"
      },
      "execution_count": null,
      "outputs": [
        {
          "output_type": "execute_result",
          "data": {
            "text/plain": [
              "array([60, 74, 66, 34, 60, 66, 57, 71, 39, 57])"
            ]
          },
          "metadata": {},
          "execution_count": 2
        }
      ]
    },
    {
      "cell_type": "code",
      "source": [
        "Puntaje_final = [72 , 82 , 75 , 46 , 73 , 74 , 70 , 82 , 60 , 61]\n",
        "PF = np.array(Puntaje_final)\n",
        "PF"
      ],
      "metadata": {
        "colab": {
          "base_uri": "https://localhost:8080/"
        },
        "id": "uNGUqj9Bfu2y",
        "outputId": "a0b20851-e441-4a42-c8d2-ff3ac0ff4c61"
      },
      "execution_count": null,
      "outputs": [
        {
          "output_type": "execute_result",
          "data": {
            "text/plain": [
              "array([72, 82, 75, 46, 73, 74, 70, 82, 60, 61])"
            ]
          },
          "metadata": {},
          "execution_count": 3
        }
      ]
    },
    {
      "cell_type": "code",
      "source": [
        "#grafico de dispersión\n",
        "plt.scatter(PP,PF)\n",
        "plt.title(\"Relación del puntaje obtenido en la prueba 1\")\n",
        "plt.xlabel(\"Puntaje parcial\")\n",
        "plt.ylabel(\"Puntaje final\")\n",
        "plt.show()"
      ],
      "metadata": {
        "colab": {
          "base_uri": "https://localhost:8080/",
          "height": 295
        },
        "id": "2Lfu4Oyog3Ni",
        "outputId": "b3797d48-1068-4e69-be5a-d7058a2a0379"
      },
      "execution_count": null,
      "outputs": [
        {
          "output_type": "display_data",
          "data": {
            "text/plain": [
              "<Figure size 432x288 with 1 Axes>"
            ],
            "image/png": "[encoded data removed]"
          },
          "metadata": {
            "needs_background": "light"
          }
        }
      ]
    },
    {
      "cell_type": "code",
      "source": [
        "stats.pearsonr(PP, PF)\n",
        "# primer dato valor del coeficiente de correlación, segundo dato valor P para probar la no correlación"
      ],
      "metadata": {
        "colab": {
          "base_uri": "https://localhost:8080/"
        },
        "id": "Gd5EIzVQh1Qx",
        "outputId": "46b8c855-8898-439b-e8f2-7cc47a724d02"
      },
      "execution_count": null,
      "outputs": [
        {
          "output_type": "execute_result",
          "data": {
            "text/plain": [
              "(0.9416490441739458, 4.725314347618984e-05)"
            ]
          },
          "metadata": {},
          "execution_count": 5
        }
      ]
    },
    {
      "cell_type": "code",
      "source": [
        "#parámetros del módelo de regresión\n",
        "prom_X = np.mean(PP)\n",
        "prom_Y = np.mean(PF)\n",
        "n = len(PP)\n",
        "cov = np.sum(PP*PF)-(np.sum(PP)*np.sum(PF)/n)\n",
        "SCXX = np.sum(PP**2)-(np.sum(PP)**2/n)\n",
        "b1 = cov/SCXX\n",
        "b0 = prom_Y-b1*prom_X\n",
        "print(round(b1,3))\n",
        "print(round(b0,3))\n",
        "print(cov)\n",
        "print(SCXX)\n"
      ],
      "metadata": {
        "colab": {
          "base_uri": "https://localhost:8080/"
        },
        "id": "5lw2HKk3jkuz",
        "outputId": "9483d7bf-5bef-4cdc-d175-eefe883dbb2b"
      },
      "execution_count": null,
      "outputs": [
        {
          "output_type": "stream",
          "name": "stdout",
          "text": [
            "0.806\n",
            "22.457\n",
            "1207.0\n",
            "1498.4000000000015\n"
          ]
        }
      ]
    },
    {
      "cell_type": "code",
      "source": [
        "#gráfica de la función lineal.\n",
        "def lin_reg(PP):\n",
        "    y_hat = (b1 * PP) + b0 #Aplicamos la forma de la regresión lineal\n",
        "    return y_hat"
      ],
      "metadata": {
        "id": "e-ldOckWtoAO"
      },
      "execution_count": null,
      "outputs": []
    },
    {
      "cell_type": "code",
      "source": [
        "plt.scatter(PP,PF,label=\"PUNTAJE\") # Vamos a gráficar nuestros datos originales\n",
        "plt.plot(PP,lin_reg(PP), color=\"black\", label=\"Linear Regression\") #Luego graficamos la curva ajustada\n",
        "plt.title(\"Relación del puntaje obtenido en la prueba 1\")\n",
        "plt.xlabel(\"Puntaje parcial\")\n",
        "plt.ylabel(\"Puntaje final\")\n",
        "plt.legend()\n",
        "plt.show()"
      ],
      "metadata": {
        "colab": {
          "base_uri": "https://localhost:8080/",
          "height": 295
        },
        "id": "0MFO9CTeuINR",
        "outputId": "6e83cd2d-4728-4d0f-84eb-2376e7ab8ebc"
      },
      "execution_count": null,
      "outputs": [
        {
          "output_type": "display_data",
          "data": {
            "text/plain": [
              "<Figure size 432x288 with 1 Axes>"
            ],
            "image/png": "[encoded data removed]"
          },
          "metadata": {
            "needs_background": "light"
          }
        }
      ]
    },
    {
      "cell_type": "code",
      "source": [
        "#GRAFICAR LOS ERRORES\n",
        "print(PF)\n",
        "print(lin_reg(PP))"
      ],
      "metadata": {
        "colab": {
          "base_uri": "https://localhost:8080/"
        },
        "id": "SNVa5eXzu2sP",
        "outputId": "5e0cdac2-28bb-4348-dc4a-869adbab55d2"
      },
      "execution_count": null,
      "outputs": [
        {
          "output_type": "stream",
          "name": "stdout",
          "text": [
            "[72 82 75 46 73 74 70 82 60 61]\n",
            "[70.78884143 82.06620395 75.6219968  49.84516818 70.78884143 75.6219968\n",
            " 68.37226375 79.64962627 53.87279765 68.37226375]\n"
          ]
        }
      ]
    },
    {
      "cell_type": "code",
      "source": [
        "E = PF-lin_reg(PP)\n",
        "print(E)"
      ],
      "metadata": {
        "colab": {
          "base_uri": "https://localhost:8080/"
        },
        "id": "TRMfgchTvQNs",
        "outputId": "bc214265-431c-48c6-ae5d-e6405cc48ffe"
      },
      "execution_count": null,
      "outputs": [
        {
          "output_type": "stream",
          "name": "stdout",
          "text": [
            "[ 1.21115857 -0.06620395 -0.6219968  -3.84516818  2.21115857 -1.6219968\n",
            "  1.62773625  2.35037373  6.12720235 -7.37226375]\n"
          ]
        }
      ]
    },
    {
      "cell_type": "code",
      "source": [
        "fig, ax = plt.subplots(1,1)\n",
        "ax.plot(PP,lin_reg(PP), color=\"black\", label=\"Linear Regressión\")\n",
        "ax.scatter(PP,PF, label=\"Ground Truth\")\n",
        "\n",
        "ax.vlines(PP, PF, lin_reg(PP), color=\"red\", label=\"Error (Residuos)\") #Gráficamos los Errores en cada punto.\n",
        "\n",
        "plt.legend()\n",
        "plt.show()"
      ],
      "metadata": {
        "colab": {
          "base_uri": "https://localhost:8080/",
          "height": 265
        },
        "id": "AkprTnJkvkQd",
        "outputId": "6e168a92-818f-478f-ba34-7b904c613c50"
      },
      "execution_count": null,
      "outputs": [
        {
          "output_type": "display_data",
          "data": {
            "text/plain": [
              "<Figure size 432x288 with 1 Axes>"
            ],
            "image/png": "[encoded data removed]"
          },
          "metadata": {
            "needs_background": "light"
          }
        }
      ]
    },
    {
      "cell_type": "code",
      "source": [
        "COEF_DET=0.94**2 *100\n",
        "COEF_DET\n"
      ],
      "metadata": {
        "colab": {
          "base_uri": "https://localhost:8080/"
        },
        "id": "RTJf7oivJjc4",
        "outputId": "75a58896-85f9-4358-ba65-65b70f133d3d"
      },
      "execution_count": null,
      "outputs": [
        {
          "output_type": "execute_result",
          "data": {
            "text/plain": [
              "88.36"
            ]
          },
          "metadata": {},
          "execution_count": 12
        }
      ]
    },
    {
      "cell_type": "markdown",
      "source": [
        "#Hipótesis para la significancia de la regresión"
      ],
      "metadata": {
        "id": "1dks4uYlME2L"
      }
    },
    {
      "cell_type": "code",
      "source": [
        "from sklearn import linear_model\n",
        "from sklearn.linear_model import LinearRegression\n",
        "import statsmodels.formula.api as sm\n",
        "import scipy.stats as st\n",
        "\n"
      ],
      "metadata": {
        "id": "xtX8LM7-MEAc"
      },
      "execution_count": null,
      "outputs": []
    },
    {
      "cell_type": "code",
      "source": [
        "#cargar base\n",
        "con_cer = pd.read_csv(\"Consumo_cerveja.csv\")"
      ],
      "metadata": {
        "id": "1k0ZjUggUeBR"
      },
      "execution_count": null,
      "outputs": []
    },
    {
      "cell_type": "code",
      "source": [
        "con_cer"
      ],
      "metadata": {
        "colab": {
          "base_uri": "https://localhost:8080/",
          "height": 659
        },
        "id": "i0dgF0I5KDZ9",
        "outputId": "ddf88f66-0a20-45ef-ebb5-9d7b6b5e66b6"
      },
      "execution_count": null,
      "outputs": [
        {
          "output_type": "execute_result",
          "data": {
            "text/plain": [
              "           Data  Temperatura Media (C)  Temperatura Minima (C)  \\\n",
              "0    2015-01-01                  27.30                    23.9   \n",
              "1    2015-01-02                  27.02                    24.5   \n",
              "2    2015-01-03                  24.82                    22.4   \n",
              "3    2015-01-04                  23.98                    21.5   \n",
              "4    2015-01-05                  23.82                    21.0   \n",
              "..          ...                    ...                     ...   \n",
              "360  2015-12-27                  24.00                    21.1   \n",
              "361  2015-12-28                  22.64                    21.1   \n",
              "362  2015-12-29                  21.68                    20.3   \n",
              "363  2015-12-30                  21.38                    19.3   \n",
              "364  2015-12-31                  24.76                    20.2   \n",
              "\n",
              "     Temperatura Maxima (C)  Precipitacao (mm)  Final de Semana  \\\n",
              "0                      32.5                0.0                0   \n",
              "1                      33.5                0.0                0   \n",
              "2                      29.9                0.0                1   \n",
              "3                      28.6                1.2                1   \n",
              "4                      28.3                0.0                0   \n",
              "..                      ...                ...              ...   \n",
              "360                    28.2               13.6                1   \n",
              "361                    26.7                0.0                0   \n",
              "362                    24.1               10.3                0   \n",
              "363                    22.4                6.3                0   \n",
              "364                    29.0                0.0                0   \n",
              "\n",
              "     Consumo de cerveja (litros)  \n",
              "0                         25.461  \n",
              "1                         28.972  \n",
              "2                         30.814  \n",
              "3                         29.799  \n",
              "4                         28.900  \n",
              "..                           ...  \n",
              "360                       32.307  \n",
              "361                       26.095  \n",
              "362                       22.309  \n",
              "363                       20.467  \n",
              "364                       22.446  \n",
              "\n",
              "[365 rows x 7 columns]"
            ],
            "text/html": [
              "\n",
              "  <div id=\"df-786a2d38-eeb7-420a-bb96-add184a8dd27\">\n",
              "    <div class=\"colab-df-container\">\n",
              "      <div>\n",
              "<style scoped>\n",
              "    .dataframe tbody tr th:only-of-type {\n",
              "        vertical-align: middle;\n",
              "    }\n",
              "\n",
              "    .dataframe tbody tr th {\n",
              "        vertical-align: top;\n",
              "    }\n",
              "\n",
              "    .dataframe thead th {\n",
              "        text-align: right;\n",
              "    }\n",
              "</style>\n",
              "<table border=\"1\" class=\"dataframe\">\n",
              "  <thead>\n",
              "    <tr style=\"text-align: right;\">\n",
              "      <th></th>\n",
              "      <th>Data</th>\n",
              "      <th>Temperatura Media (C)</th>\n",
              "      <th>Temperatura Minima (C)</th>\n",
              "      <th>Temperatura Maxima (C)</th>\n",
              "      <th>Precipitacao (mm)</th>\n",
              "      <th>Final de Semana</th>\n",
              "      <th>Consumo de cerveja (litros)</th>\n",
              "    </tr>\n",
              "  </thead>\n",
              "  <tbody>\n",
              "    <tr>\n",
              "      <th>0</th>\n",
              "      <td>2015-01-01</td>\n",
              "      <td>27.30</td>\n",
              "      <td>23.9</td>\n",
              "      <td>32.5</td>\n",
              "      <td>0.0</td>\n",
              "      <td>0</td>\n",
              "      <td>25.461</td>\n",
              "    </tr>\n",
              "    <tr>\n",
              "      <th>1</th>\n",
              "      <td>2015-01-02</td>\n",
              "      <td>27.02</td>\n",
              "      <td>24.5</td>\n",
              "      <td>33.5</td>\n",
              "      <td>0.0</td>\n",
              "      <td>0</td>\n",
              "      <td>28.972</td>\n",
              "    </tr>\n",
              "    <tr>\n",
              "      <th>2</th>\n",
              "      <td>2015-01-03</td>\n",
              "      <td>24.82</td>\n",
              "      <td>22.4</td>\n",
              "      <td>29.9</td>\n",
              "      <td>0.0</td>\n",
              "      <td>1</td>\n",
              "      <td>30.814</td>\n",
              "    </tr>\n",
              "    <tr>\n",
              "      <th>3</th>\n",
              "      <td>2015-01-04</td>\n",
              "      <td>23.98</td>\n",
              "      <td>21.5</td>\n",
              "      <td>28.6</td>\n",
              "      <td>1.2</td>\n",
              "      <td>1</td>\n",
              "      <td>29.799</td>\n",
              "    </tr>\n",
              "    <tr>\n",
              "      <th>4</th>\n",
              "      <td>2015-01-05</td>\n",
              "      <td>23.82</td>\n",
              "      <td>21.0</td>\n",
              "      <td>28.3</td>\n",
              "      <td>0.0</td>\n",
              "      <td>0</td>\n",
              "      <td>28.900</td>\n",
              "    </tr>\n",
              "    <tr>\n",
              "      <th>...</th>\n",
              "      <td>...</td>\n",
              "      <td>...</td>\n",
              "      <td>...</td>\n",
              "      <td>...</td>\n",
              "      <td>...</td>\n",
              "      <td>...</td>\n",
              "      <td>...</td>\n",
              "    </tr>\n",
              "    <tr>\n",
              "      <th>360</th>\n",
              "      <td>2015-12-27</td>\n",
              "      <td>24.00</td>\n",
              "      <td>21.1</td>\n",
              "      <td>28.2</td>\n",
              "      <td>13.6</td>\n",
              "      <td>1</td>\n",
              "      <td>32.307</td>\n",
              "    </tr>\n",
              "    <tr>\n",
              "      <th>361</th>\n",
              "      <td>2015-12-28</td>\n",
              "      <td>22.64</td>\n",
              "      <td>21.1</td>\n",
              "      <td>26.7</td>\n",
              "      <td>0.0</td>\n",
              "      <td>0</td>\n",
              "      <td>26.095</td>\n",
              "    </tr>\n",
              "    <tr>\n",
              "      <th>362</th>\n",
              "      <td>2015-12-29</td>\n",
              "      <td>21.68</td>\n",
              "      <td>20.3</td>\n",
              "      <td>24.1</td>\n",
              "      <td>10.3</td>\n",
              "      <td>0</td>\n",
              "      <td>22.309</td>\n",
              "    </tr>\n",
              "    <tr>\n",
              "      <th>363</th>\n",
              "      <td>2015-12-30</td>\n",
              "      <td>21.38</td>\n",
              "      <td>19.3</td>\n",
              "      <td>22.4</td>\n",
              "      <td>6.3</td>\n",
              "      <td>0</td>\n",
              "      <td>20.467</td>\n",
              "    </tr>\n",
              "    <tr>\n",
              "      <th>364</th>\n",
              "      <td>2015-12-31</td>\n",
              "      <td>24.76</td>\n",
              "      <td>20.2</td>\n",
              "      <td>29.0</td>\n",
              "      <td>0.0</td>\n",
              "      <td>0</td>\n",
              "      <td>22.446</td>\n",
              "    </tr>\n",
              "  </tbody>\n",
              "</table>\n",
              "<p>365 rows × 7 columns</p>\n",
              "</div>\n",
              "      <button class=\"colab-df-convert\" onclick=\"convertToInteractive('df-786a2d38-eeb7-420a-bb96-add184a8dd27')\"\n",
              "              title=\"Convert this dataframe to an interactive table.\"\n",
              "              style=\"display:none;\">\n",
              "        \n",
              "  <svg xmlns=\"http://www.w3.org/2000/svg\" height=\"24px\"viewBox=\"0 0 24 24\"\n",
              "       width=\"24px\">\n",
              "    <path d=\"M0 0h24v24H0V0z\" fill=\"none\"/>\n",
              "    <path d=\"M18.56 5.44l.94 2.06.94-2.06 2.06-.94-2.06-.94-.94-2.06-.94 2.06-2.06.94zm-11 1L8.5 8.5l.94-2.06 2.06-.94-2.06-.94L8.5 2.5l-.94 2.06-2.06.94zm10 10l.94 2.06.94-2.06 2.06-.94-2.06-.94-.94-2.06-.94 2.06-2.06.94z\"/><path d=\"M17.41 7.96l-1.37-1.37c-.4-.4-.92-.59-1.43-.59-.52 0-1.04.2-1.43.59L10.3 9.45l-7.72 7.72c-.78.78-.78 2.05 0 2.83L4 21.41c.39.39.9.59 1.41.59.51 0 1.02-.2 1.41-.59l7.78-7.78 2.81-2.81c.8-.78.8-2.07 0-2.86zM5.41 20L4 18.59l7.72-7.72 1.47 1.35L5.41 20z\"/>\n",
              "  </svg>\n",
              "      </button>\n",
              "      \n",
              "  <style>\n",
              "    .colab-df-container {\n",
              "      display:flex;\n",
              "      flex-wrap:wrap;\n",
              "      gap: 12px;\n",
              "    }\n",
              "\n",
              "    .colab-df-convert {\n",
              "      background-color: #E8F0FE;\n",
              "      border: none;\n",
              "      border-radius: 50%;\n",
              "      cursor: pointer;\n",
              "      display: none;\n",
              "      fill: #1967D2;\n",
              "      height: 32px;\n",
              "      padding: 0 0 0 0;\n",
              "      width: 32px;\n",
              "    }\n",
              "\n",
              "    .colab-df-convert:hover {\n",
              "      background-color: #E2EBFA;\n",
              "      box-shadow: 0px 1px 2px rgba(60, 64, 67, 0.3), 0px 1px 3px 1px rgba(60, 64, 67, 0.15);\n",
              "      fill: #174EA6;\n",
              "    }\n",
              "\n",
              "    [theme=dark] .colab-df-convert {\n",
              "      background-color: #3B4455;\n",
              "      fill: #D2E3FC;\n",
              "    }\n",
              "\n",
              "    [theme=dark] .colab-df-convert:hover {\n",
              "      background-color: #434B5C;\n",
              "      box-shadow: 0px 1px 3px 1px rgba(0, 0, 0, 0.15);\n",
              "      filter: drop-shadow(0px 1px 2px rgba(0, 0, 0, 0.3));\n",
              "      fill: #FFFFFF;\n",
              "    }\n",
              "  </style>\n",
              "\n",
              "      <script>\n",
              "        const buttonEl =\n",
              "          document.querySelector('#df-786a2d38-eeb7-420a-bb96-add184a8dd27 button.colab-df-convert');\n",
              "        buttonEl.style.display =\n",
              "          google.colab.kernel.accessAllowed ? 'block' : 'none';\n",
              "\n",
              "        async function convertToInteractive(key) {\n",
              "          const element = document.querySelector('#df-786a2d38-eeb7-420a-bb96-add184a8dd27');\n",
              "          const dataTable =\n",
              "            await google.colab.kernel.invokeFunction('convertToInteractive',\n",
              "                                                     [key], {});\n",
              "          if (!dataTable) return;\n",
              "\n",
              "          const docLinkHtml = 'Like what you see? Visit the ' +\n",
              "            '<a target=\"_blank\" href=https://colab.research.google.com/notebooks/data_table.ipynb>data table notebook</a>'\n",
              "            + ' to learn more about interactive tables.';\n",
              "          element.innerHTML = '';\n",
              "          dataTable['output_type'] = 'display_data';\n",
              "          await google.colab.output.renderOutput(dataTable, element);\n",
              "          const docLink = document.createElement('div');\n",
              "          docLink.innerHTML = docLinkHtml;\n",
              "          element.appendChild(docLink);\n",
              "        }\n",
              "      </script>\n",
              "    </div>\n",
              "  </div>\n",
              "  "
            ]
          },
          "metadata": {},
          "execution_count": 44
        }
      ]
    },
    {
      "cell_type": "code",
      "source": [
        "con_cer.info()"
      ],
      "metadata": {
        "colab": {
          "base_uri": "https://localhost:8080/"
        },
        "id": "4xBpDLNoU921",
        "outputId": "f6855e7e-9ec9-420b-e8bc-374f9facbdf6"
      },
      "execution_count": null,
      "outputs": [
        {
          "output_type": "stream",
          "name": "stdout",
          "text": [
            "<class 'pandas.core.frame.DataFrame'>\n",
            "RangeIndex: 365 entries, 0 to 364\n",
            "Data columns (total 7 columns):\n",
            " #   Column                       Non-Null Count  Dtype  \n",
            "---  ------                       --------------  -----  \n",
            " 0   Data                         365 non-null    object \n",
            " 1   Temperatura Media (C)        365 non-null    float64\n",
            " 2   Temperatura Minima (C)       365 non-null    float64\n",
            " 3   Temperatura Maxima (C)       365 non-null    float64\n",
            " 4   Precipitacao (mm)            365 non-null    float64\n",
            " 5   Final de Semana              365 non-null    int64  \n",
            " 6   Consumo de cerveja (litros)  365 non-null    float64\n",
            "dtypes: float64(5), int64(1), object(1)\n",
            "memory usage: 20.1+ KB\n"
          ]
        }
      ]
    },
    {
      "cell_type": "code",
      "source": [
        "plt.scatter(con_cer['Temperatura Minima (C)'],con_cer['Consumo de cerveja (litros)'])\n",
        "plt.xlabel(\"Temperatura mínima(C°)\")\n",
        "plt.ylabel(\"Consumo de cerveza(litros)\")\n",
        "\n",
        "plt.show()"
      ],
      "metadata": {
        "colab": {
          "base_uri": "https://localhost:8080/",
          "height": 280
        },
        "id": "senu_nccVNM7",
        "outputId": "c831699d-33ca-462d-9b29-becddf63d181"
      },
      "execution_count": null,
      "outputs": [
        {
          "output_type": "display_data",
          "data": {
            "text/plain": [
              "<Figure size 432x288 with 1 Axes>"
            ],
            "image/png": "[encoded data removed]"
          },
          "metadata": {
            "needs_background": "light"
          }
        }
      ]
    },
    {
      "cell_type": "code",
      "source": [
        "X1 = con_cer['Temperatura Minima (C)']\n",
        "y = con_cer['Consumo de cerveja (litros)'] # Variable dependiente."
      ],
      "metadata": {
        "id": "K77UBuBHqZF2"
      },
      "execution_count": null,
      "outputs": []
    },
    {
      "cell_type": "code",
      "source": [
        "import statsmodels.formula.api as sfm\n",
        "lm = sfm.ols(formula=\"y~X1\",data=con_cer).fit()\n",
        "#ols = \"mínimos cuadrados ordinarios\"\n",
        "lm.params #parametros de la ecuación"
      ],
      "metadata": {
        "colab": {
          "base_uri": "https://localhost:8080/"
        },
        "id": "_wMF2esaqfZv",
        "outputId": "4052691f-6d90-41a9-d51d-228fd3d77f8b"
      },
      "execution_count": null,
      "outputs": [
        {
          "output_type": "execute_result",
          "data": {
            "text/plain": [
              "Intercept    14.733070\n",
              "X1            0.610966\n",
              "dtype: float64"
            ]
          },
          "metadata": {},
          "execution_count": 42
        }
      ]
    },
    {
      "cell_type": "code",
      "source": [
        "lm.summary()"
      ],
      "metadata": {
        "colab": {
          "base_uri": "https://localhost:8080/",
          "height": 450
        },
        "id": "4_XPZCkyqkmy",
        "outputId": "764d2b3a-9c9a-4fef-a22b-1df981af8881"
      },
      "execution_count": null,
      "outputs": [
        {
          "output_type": "execute_result",
          "data": {
            "text/plain": [
              "<class 'statsmodels.iolib.summary.Summary'>\n",
              "\"\"\"\n",
              "                            OLS Regression Results                            \n",
              "==============================================================================\n",
              "Dep. Variable:                      y   R-squared:                       0.154\n",
              "Model:                            OLS   Adj. R-squared:                  0.152\n",
              "Method:                 Least Squares   F-statistic:                     66.11\n",
              "Date:                Thu, 08 Dec 2022   Prob (F-statistic):           6.81e-15\n",
              "Time:                        00:05:29   Log-Likelihood:                -1027.6\n",
              "No. Observations:                 365   AIC:                             2059.\n",
              "Df Residuals:                     363   BIC:                             2067.\n",
              "Df Model:                           1                                         \n",
              "Covariance Type:            nonrobust                                         \n",
              "==============================================================================\n",
              "                 coef    std err          t      P>|t|      [0.025      0.975]\n",
              "------------------------------------------------------------------------------\n",
              "Intercept     14.7331      1.329     11.085      0.000      12.119      17.347\n",
              "X1             0.6110      0.075      8.131      0.000       0.463       0.759\n",
              "==============================================================================\n",
              "Omnibus:                       10.785   Durbin-Watson:                   1.467\n",
              "Prob(Omnibus):                  0.005   Jarque-Bera (JB):                9.809\n",
              "Skew:                           0.342   Prob(JB):                      0.00741\n",
              "Kurtosis:                       2.578   Cond. No.                         111.\n",
              "==============================================================================\n",
              "\n",
              "Notes:\n",
              "[1] Standard Errors assume that the covariance matrix of the errors is correctly specified.\n",
              "\"\"\""
            ],
            "text/html": [
              "<table class=\"simpletable\">\n",
              "<caption>OLS Regression Results</caption>\n",
              "<tr>\n",
              "  <th>Dep. Variable:</th>            <td>y</td>        <th>  R-squared:         </th> <td>   0.154</td>\n",
              "</tr>\n",
              "<tr>\n",
              "  <th>Model:</th>                   <td>OLS</td>       <th>  Adj. R-squared:    </th> <td>   0.152</td>\n",
              "</tr>\n",
              "<tr>\n",
              "  <th>Method:</th>             <td>Least Squares</td>  <th>  F-statistic:       </th> <td>   66.11</td>\n",
              "</tr>\n",
              "<tr>\n",
              "  <th>Date:</th>             <td>Thu, 08 Dec 2022</td> <th>  Prob (F-statistic):</th> <td>6.81e-15</td>\n",
              "</tr>\n",
              "<tr>\n",
              "  <th>Time:</th>                 <td>00:05:29</td>     <th>  Log-Likelihood:    </th> <td> -1027.6</td>\n",
              "</tr>\n",
              "<tr>\n",
              "  <th>No. Observations:</th>      <td>   365</td>      <th>  AIC:               </th> <td>   2059.</td>\n",
              "</tr>\n",
              "<tr>\n",
              "  <th>Df Residuals:</th>          <td>   363</td>      <th>  BIC:               </th> <td>   2067.</td>\n",
              "</tr>\n",
              "<tr>\n",
              "  <th>Df Model:</th>              <td>     1</td>      <th>                     </th>     <td> </td>   \n",
              "</tr>\n",
              "<tr>\n",
              "  <th>Covariance Type:</th>      <td>nonrobust</td>    <th>                     </th>     <td> </td>   \n",
              "</tr>\n",
              "</table>\n",
              "<table class=\"simpletable\">\n",
              "<tr>\n",
              "      <td></td>         <th>coef</th>     <th>std err</th>      <th>t</th>      <th>P>|t|</th>  <th>[0.025</th>    <th>0.975]</th>  \n",
              "</tr>\n",
              "<tr>\n",
              "  <th>Intercept</th> <td>   14.7331</td> <td>    1.329</td> <td>   11.085</td> <td> 0.000</td> <td>   12.119</td> <td>   17.347</td>\n",
              "</tr>\n",
              "<tr>\n",
              "  <th>X1</th>        <td>    0.6110</td> <td>    0.075</td> <td>    8.131</td> <td> 0.000</td> <td>    0.463</td> <td>    0.759</td>\n",
              "</tr>\n",
              "</table>\n",
              "<table class=\"simpletable\">\n",
              "<tr>\n",
              "  <th>Omnibus:</th>       <td>10.785</td> <th>  Durbin-Watson:     </th> <td>   1.467</td>\n",
              "</tr>\n",
              "<tr>\n",
              "  <th>Prob(Omnibus):</th> <td> 0.005</td> <th>  Jarque-Bera (JB):  </th> <td>   9.809</td>\n",
              "</tr>\n",
              "<tr>\n",
              "  <th>Skew:</th>          <td> 0.342</td> <th>  Prob(JB):          </th> <td> 0.00741</td>\n",
              "</tr>\n",
              "<tr>\n",
              "  <th>Kurtosis:</th>      <td> 2.578</td> <th>  Cond. No.          </th> <td>    111.</td>\n",
              "</tr>\n",
              "</table><br/><br/>Notes:<br/>[1] Standard Errors assume that the covariance matrix of the errors is correctly specified."
            ]
          },
          "metadata": {},
          "execution_count": 43
        }
      ]
    },
    {
      "cell_type": "code",
      "source": [
        "#gráfica de la función lineal.\n",
        "def lin_reg(X1):\n",
        "    y_hat = (0.7949 * X1) + 8.5289 #Aplicamos la forma de la regresión lineal\n",
        "    return y_hat\n",
        "plt.scatter(con_cer['Temperatura Minima (C)'],con_cer['Consumo de cerveja (litros)'])\n",
        "plt.xlabel(\"Temperatura mínima(C°)\")\n",
        "plt.ylabel(\"Consumo de cerveza(litros)\")\n",
        "plt.plot(X1,lin_reg(X1), color=\"black\", label=\"Linear Regression\") #Luego graficamos la curva ajustada\n",
        "plt.legend()\n",
        "plt.show()"
      ],
      "metadata": {
        "colab": {
          "base_uri": "https://localhost:8080/",
          "height": 280
        },
        "id": "gcGClOZYq-1i",
        "outputId": "1c32c4eb-d05a-4809-b279-02b7e6e08ae0"
      },
      "execution_count": null,
      "outputs": [
        {
          "output_type": "display_data",
          "data": {
            "text/plain": [
              "<Figure size 432x288 with 1 Axes>"
            ],
            "image/png": "[encoded data removed]"
          },
          "metadata": {
            "needs_background": "light"
          }
        }
      ]
    },
    {
      "cell_type": "markdown",
      "source": [
        "# regresión múltiple"
      ],
      "metadata": {
        "id": "NNcR7elu2V2y"
      }
    },
    {
      "cell_type": "code",
      "source": [
        "X1 = con_cer['Temperatura Media (C)']\n",
        "X2 = con_cer['Temperatura Minima (C)']\n",
        "X3 = con_cer['Temperatura Maxima (C)']\n",
        "X4 = con_cer['Precipitacao (mm)']\n",
        "X5 = con_cer['Final de Semana'] #si era fin de semana o no, variable categorica\n",
        "y = con_cer['Consumo de cerveja (litros)'] # Variable dependiente."
      ],
      "metadata": {
        "id": "RWfhbfW9h0pV"
      },
      "execution_count": null,
      "outputs": []
    },
    {
      "cell_type": "code",
      "source": [
        "import statsmodels.formula.api as sfm\n",
        "lm1 = sfm.ols(formula=\"y~X1+X2+X3+X4+X5\",data=con_cer).fit()\n",
        "#ols = \"mínimos cuadrados ordinarios\"\n",
        "lm1.params #parametros de la ecuación"
      ],
      "metadata": {
        "id": "fSE39yVjqgAP",
        "colab": {
          "base_uri": "https://localhost:8080/"
        },
        "outputId": "ccf039d1-b1d6-471e-c425-cdd2386859a8"
      },
      "execution_count": null,
      "outputs": [
        {
          "output_type": "execute_result",
          "data": {
            "text/plain": [
              "Intercept    6.444696\n",
              "X1           0.030796\n",
              "X2          -0.019035\n",
              "X3           0.656001\n",
              "X4          -0.057469\n",
              "X5           5.183181\n",
              "dtype: float64"
            ]
          },
          "metadata": {},
          "execution_count": 46
        }
      ]
    },
    {
      "cell_type": "code",
      "source": [
        "lm1.summary()"
      ],
      "metadata": {
        "id": "d2zoNCcKuPCa",
        "colab": {
          "base_uri": "https://localhost:8080/",
          "height": 535
        },
        "outputId": "adaee42c-e505-4afb-9938-ffa595394528"
      },
      "execution_count": null,
      "outputs": [
        {
          "output_type": "execute_result",
          "data": {
            "text/plain": [
              "<class 'statsmodels.iolib.summary.Summary'>\n",
              "\"\"\"\n",
              "                            OLS Regression Results                            \n",
              "==============================================================================\n",
              "Dep. Variable:                      y   R-squared:                       0.723\n",
              "Model:                            OLS   Adj. R-squared:                  0.719\n",
              "Method:                 Least Squares   F-statistic:                     187.1\n",
              "Date:                Wed, 07 Dec 2022   Prob (F-statistic):           1.19e-97\n",
              "Time:                        22:01:29   Log-Likelihood:                -824.07\n",
              "No. Observations:                 365   AIC:                             1660.\n",
              "Df Residuals:                     359   BIC:                             1684.\n",
              "Df Model:                           5                                         \n",
              "Covariance Type:            nonrobust                                         \n",
              "==============================================================================\n",
              "                 coef    std err          t      P>|t|      [0.025      0.975]\n",
              "------------------------------------------------------------------------------\n",
              "Intercept      6.4447      0.845      7.627      0.000       4.783       8.107\n",
              "X1             0.0308      0.188      0.164      0.870      -0.339       0.401\n",
              "X2            -0.0190      0.110     -0.172      0.863      -0.236       0.198\n",
              "X3             0.6560      0.095      6.895      0.000       0.469       0.843\n",
              "X4            -0.0575      0.010     -5.726      0.000      -0.077      -0.038\n",
              "X5             5.1832      0.271     19.126      0.000       4.650       5.716\n",
              "==============================================================================\n",
              "Omnibus:                       39.362   Durbin-Watson:                   1.930\n",
              "Prob(Omnibus):                  0.000   Jarque-Bera (JB):               12.936\n",
              "Skew:                           0.153   Prob(JB):                      0.00155\n",
              "Kurtosis:                       2.130   Cond. No.                         271.\n",
              "==============================================================================\n",
              "\n",
              "Notes:\n",
              "[1] Standard Errors assume that the covariance matrix of the errors is correctly specified.\n",
              "\"\"\""
            ],
            "text/html": [
              "<table class=\"simpletable\">\n",
              "<caption>OLS Regression Results</caption>\n",
              "<tr>\n",
              "  <th>Dep. Variable:</th>            <td>y</td>        <th>  R-squared:         </th> <td>   0.723</td>\n",
              "</tr>\n",
              "<tr>\n",
              "  <th>Model:</th>                   <td>OLS</td>       <th>  Adj. R-squared:    </th> <td>   0.719</td>\n",
              "</tr>\n",
              "<tr>\n",
              "  <th>Method:</th>             <td>Least Squares</td>  <th>  F-statistic:       </th> <td>   187.1</td>\n",
              "</tr>\n",
              "<tr>\n",
              "  <th>Date:</th>             <td>Wed, 07 Dec 2022</td> <th>  Prob (F-statistic):</th> <td>1.19e-97</td>\n",
              "</tr>\n",
              "<tr>\n",
              "  <th>Time:</th>                 <td>22:01:29</td>     <th>  Log-Likelihood:    </th> <td> -824.07</td>\n",
              "</tr>\n",
              "<tr>\n",
              "  <th>No. Observations:</th>      <td>   365</td>      <th>  AIC:               </th> <td>   1660.</td>\n",
              "</tr>\n",
              "<tr>\n",
              "  <th>Df Residuals:</th>          <td>   359</td>      <th>  BIC:               </th> <td>   1684.</td>\n",
              "</tr>\n",
              "<tr>\n",
              "  <th>Df Model:</th>              <td>     5</td>      <th>                     </th>     <td> </td>   \n",
              "</tr>\n",
              "<tr>\n",
              "  <th>Covariance Type:</th>      <td>nonrobust</td>    <th>                     </th>     <td> </td>   \n",
              "</tr>\n",
              "</table>\n",
              "<table class=\"simpletable\">\n",
              "<tr>\n",
              "      <td></td>         <th>coef</th>     <th>std err</th>      <th>t</th>      <th>P>|t|</th>  <th>[0.025</th>    <th>0.975]</th>  \n",
              "</tr>\n",
              "<tr>\n",
              "  <th>Intercept</th> <td>    6.4447</td> <td>    0.845</td> <td>    7.627</td> <td> 0.000</td> <td>    4.783</td> <td>    8.107</td>\n",
              "</tr>\n",
              "<tr>\n",
              "  <th>X1</th>        <td>    0.0308</td> <td>    0.188</td> <td>    0.164</td> <td> 0.870</td> <td>   -0.339</td> <td>    0.401</td>\n",
              "</tr>\n",
              "<tr>\n",
              "  <th>X2</th>        <td>   -0.0190</td> <td>    0.110</td> <td>   -0.172</td> <td> 0.863</td> <td>   -0.236</td> <td>    0.198</td>\n",
              "</tr>\n",
              "<tr>\n",
              "  <th>X3</th>        <td>    0.6560</td> <td>    0.095</td> <td>    6.895</td> <td> 0.000</td> <td>    0.469</td> <td>    0.843</td>\n",
              "</tr>\n",
              "<tr>\n",
              "  <th>X4</th>        <td>   -0.0575</td> <td>    0.010</td> <td>   -5.726</td> <td> 0.000</td> <td>   -0.077</td> <td>   -0.038</td>\n",
              "</tr>\n",
              "<tr>\n",
              "  <th>X5</th>        <td>    5.1832</td> <td>    0.271</td> <td>   19.126</td> <td> 0.000</td> <td>    4.650</td> <td>    5.716</td>\n",
              "</tr>\n",
              "</table>\n",
              "<table class=\"simpletable\">\n",
              "<tr>\n",
              "  <th>Omnibus:</th>       <td>39.362</td> <th>  Durbin-Watson:     </th> <td>   1.930</td>\n",
              "</tr>\n",
              "<tr>\n",
              "  <th>Prob(Omnibus):</th> <td> 0.000</td> <th>  Jarque-Bera (JB):  </th> <td>  12.936</td>\n",
              "</tr>\n",
              "<tr>\n",
              "  <th>Skew:</th>          <td> 0.153</td> <th>  Prob(JB):          </th> <td> 0.00155</td>\n",
              "</tr>\n",
              "<tr>\n",
              "  <th>Kurtosis:</th>      <td> 2.130</td> <th>  Cond. No.          </th> <td>    271.</td>\n",
              "</tr>\n",
              "</table><br/><br/>Notes:<br/>[1] Standard Errors assume that the covariance matrix of the errors is correctly specified."
            ]
          },
          "metadata": {},
          "execution_count": 23
        }
      ]
    },
    {
      "cell_type": "markdown",
      "source": [
        "PLANTEAR HIPÓTESIS INDIVIDUALES"
      ],
      "metadata": {
        "id": "gb9bJADyvBgv"
      }
    },
    {
      "cell_type": "code",
      "source": [
        "#valores p para saber cual o cuales variables independientes son o no significativas para estimar Y\n",
        "lm1.pvalues"
      ],
      "metadata": {
        "id": "Yk0hkGyduAeR",
        "colab": {
          "base_uri": "https://localhost:8080/"
        },
        "outputId": "e3a8a55a-0c59-4b6d-b50e-23daae2e24c6"
      },
      "execution_count": null,
      "outputs": [
        {
          "output_type": "execute_result",
          "data": {
            "text/plain": [
              "Intercept    2.183417e-13\n",
              "X1           8.699759e-01\n",
              "X2           8.631543e-01\n",
              "X3           2.443274e-11\n",
              "X4           2.173492e-08\n",
              "X5           1.006454e-56\n",
              "dtype: float64"
            ]
          },
          "metadata": {},
          "execution_count": 24
        }
      ]
    },
    {
      "cell_type": "code",
      "source": [
        "#nuevo modelo sin las variables x1: temperatura media, x2: temperatura minima\n",
        "base2= con_cer.drop([\"Temperatura Media (C)\",\"Temperatura Minima (C)\"],axis=1)\n",
        "base2"
      ],
      "metadata": {
        "id": "zKeOYHfvNjRi",
        "colab": {
          "base_uri": "https://localhost:8080/",
          "height": 424
        },
        "outputId": "9adbc9a2-5860-436d-cb89-dd8b046595c6"
      },
      "execution_count": null,
      "outputs": [
        {
          "output_type": "execute_result",
          "data": {
            "text/plain": [
              "           Data  Temperatura Maxima (C)  Precipitacao (mm)  Final de Semana  \\\n",
              "0    2015-01-01                    32.5                0.0                0   \n",
              "1    2015-01-02                    33.5                0.0                0   \n",
              "2    2015-01-03                    29.9                0.0                1   \n",
              "3    2015-01-04                    28.6                1.2                1   \n",
              "4    2015-01-05                    28.3                0.0                0   \n",
              "..          ...                     ...                ...              ...   \n",
              "360  2015-12-27                    28.2               13.6                1   \n",
              "361  2015-12-28                    26.7                0.0                0   \n",
              "362  2015-12-29                    24.1               10.3                0   \n",
              "363  2015-12-30                    22.4                6.3                0   \n",
              "364  2015-12-31                    29.0                0.0                0   \n",
              "\n",
              "     Consumo de cerveja (litros)  \n",
              "0                         25.461  \n",
              "1                         28.972  \n",
              "2                         30.814  \n",
              "3                         29.799  \n",
              "4                         28.900  \n",
              "..                           ...  \n",
              "360                       32.307  \n",
              "361                       26.095  \n",
              "362                       22.309  \n",
              "363                       20.467  \n",
              "364                       22.446  \n",
              "\n",
              "[365 rows x 5 columns]"
            ],
            "text/html": [
              "\n",
              "  <div id=\"df-d6aa66a1-ee7c-401e-984b-e103219c76f4\">\n",
              "    <div class=\"colab-df-container\">\n",
              "      <div>\n",
              "<style scoped>\n",
              "    .dataframe tbody tr th:only-of-type {\n",
              "        vertical-align: middle;\n",
              "    }\n",
              "\n",
              "    .dataframe tbody tr th {\n",
              "        vertical-align: top;\n",
              "    }\n",
              "\n",
              "    .dataframe thead th {\n",
              "        text-align: right;\n",
              "    }\n",
              "</style>\n",
              "<table border=\"1\" class=\"dataframe\">\n",
              "  <thead>\n",
              "    <tr style=\"text-align: right;\">\n",
              "      <th></th>\n",
              "      <th>Data</th>\n",
              "      <th>Temperatura Maxima (C)</th>\n",
              "      <th>Precipitacao (mm)</th>\n",
              "      <th>Final de Semana</th>\n",
              "      <th>Consumo de cerveja (litros)</th>\n",
              "    </tr>\n",
              "  </thead>\n",
              "  <tbody>\n",
              "    <tr>\n",
              "      <th>0</th>\n",
              "      <td>2015-01-01</td>\n",
              "      <td>32.5</td>\n",
              "      <td>0.0</td>\n",
              "      <td>0</td>\n",
              "      <td>25.461</td>\n",
              "    </tr>\n",
              "    <tr>\n",
              "      <th>1</th>\n",
              "      <td>2015-01-02</td>\n",
              "      <td>33.5</td>\n",
              "      <td>0.0</td>\n",
              "      <td>0</td>\n",
              "      <td>28.972</td>\n",
              "    </tr>\n",
              "    <tr>\n",
              "      <th>2</th>\n",
              "      <td>2015-01-03</td>\n",
              "      <td>29.9</td>\n",
              "      <td>0.0</td>\n",
              "      <td>1</td>\n",
              "      <td>30.814</td>\n",
              "    </tr>\n",
              "    <tr>\n",
              "      <th>3</th>\n",
              "      <td>2015-01-04</td>\n",
              "      <td>28.6</td>\n",
              "      <td>1.2</td>\n",
              "      <td>1</td>\n",
              "      <td>29.799</td>\n",
              "    </tr>\n",
              "    <tr>\n",
              "      <th>4</th>\n",
              "      <td>2015-01-05</td>\n",
              "      <td>28.3</td>\n",
              "      <td>0.0</td>\n",
              "      <td>0</td>\n",
              "      <td>28.900</td>\n",
              "    </tr>\n",
              "    <tr>\n",
              "      <th>...</th>\n",
              "      <td>...</td>\n",
              "      <td>...</td>\n",
              "      <td>...</td>\n",
              "      <td>...</td>\n",
              "      <td>...</td>\n",
              "    </tr>\n",
              "    <tr>\n",
              "      <th>360</th>\n",
              "      <td>2015-12-27</td>\n",
              "      <td>28.2</td>\n",
              "      <td>13.6</td>\n",
              "      <td>1</td>\n",
              "      <td>32.307</td>\n",
              "    </tr>\n",
              "    <tr>\n",
              "      <th>361</th>\n",
              "      <td>2015-12-28</td>\n",
              "      <td>26.7</td>\n",
              "      <td>0.0</td>\n",
              "      <td>0</td>\n",
              "      <td>26.095</td>\n",
              "    </tr>\n",
              "    <tr>\n",
              "      <th>362</th>\n",
              "      <td>2015-12-29</td>\n",
              "      <td>24.1</td>\n",
              "      <td>10.3</td>\n",
              "      <td>0</td>\n",
              "      <td>22.309</td>\n",
              "    </tr>\n",
              "    <tr>\n",
              "      <th>363</th>\n",
              "      <td>2015-12-30</td>\n",
              "      <td>22.4</td>\n",
              "      <td>6.3</td>\n",
              "      <td>0</td>\n",
              "      <td>20.467</td>\n",
              "    </tr>\n",
              "    <tr>\n",
              "      <th>364</th>\n",
              "      <td>2015-12-31</td>\n",
              "      <td>29.0</td>\n",
              "      <td>0.0</td>\n",
              "      <td>0</td>\n",
              "      <td>22.446</td>\n",
              "    </tr>\n",
              "  </tbody>\n",
              "</table>\n",
              "<p>365 rows × 5 columns</p>\n",
              "</div>\n",
              "      <button class=\"colab-df-convert\" onclick=\"convertToInteractive('df-d6aa66a1-ee7c-401e-984b-e103219c76f4')\"\n",
              "              title=\"Convert this dataframe to an interactive table.\"\n",
              "              style=\"display:none;\">\n",
              "        \n",
              "  <svg xmlns=\"http://www.w3.org/2000/svg\" height=\"24px\"viewBox=\"0 0 24 24\"\n",
              "       width=\"24px\">\n",
              "    <path d=\"M0 0h24v24H0V0z\" fill=\"none\"/>\n",
              "    <path d=\"M18.56 5.44l.94 2.06.94-2.06 2.06-.94-2.06-.94-.94-2.06-.94 2.06-2.06.94zm-11 1L8.5 8.5l.94-2.06 2.06-.94-2.06-.94L8.5 2.5l-.94 2.06-2.06.94zm10 10l.94 2.06.94-2.06 2.06-.94-2.06-.94-.94-2.06-.94 2.06-2.06.94z\"/><path d=\"M17.41 7.96l-1.37-1.37c-.4-.4-.92-.59-1.43-.59-.52 0-1.04.2-1.43.59L10.3 9.45l-7.72 7.72c-.78.78-.78 2.05 0 2.83L4 21.41c.39.39.9.59 1.41.59.51 0 1.02-.2 1.41-.59l7.78-7.78 2.81-2.81c.8-.78.8-2.07 0-2.86zM5.41 20L4 18.59l7.72-7.72 1.47 1.35L5.41 20z\"/>\n",
              "  </svg>\n",
              "      </button>\n",
              "      \n",
              "  <style>\n",
              "    .colab-df-container {\n",
              "      display:flex;\n",
              "      flex-wrap:wrap;\n",
              "      gap: 12px;\n",
              "    }\n",
              "\n",
              "    .colab-df-convert {\n",
              "      background-color: #E8F0FE;\n",
              "      border: none;\n",
              "      border-radius: 50%;\n",
              "      cursor: pointer;\n",
              "      display: none;\n",
              "      fill: #1967D2;\n",
              "      height: 32px;\n",
              "      padding: 0 0 0 0;\n",
              "      width: 32px;\n",
              "    }\n",
              "\n",
              "    .colab-df-convert:hover {\n",
              "      background-color: #E2EBFA;\n",
              "      box-shadow: 0px 1px 2px rgba(60, 64, 67, 0.3), 0px 1px 3px 1px rgba(60, 64, 67, 0.15);\n",
              "      fill: #174EA6;\n",
              "    }\n",
              "\n",
              "    [theme=dark] .colab-df-convert {\n",
              "      background-color: #3B4455;\n",
              "      fill: #D2E3FC;\n",
              "    }\n",
              "\n",
              "    [theme=dark] .colab-df-convert:hover {\n",
              "      background-color: #434B5C;\n",
              "      box-shadow: 0px 1px 3px 1px rgba(0, 0, 0, 0.15);\n",
              "      filter: drop-shadow(0px 1px 2px rgba(0, 0, 0, 0.3));\n",
              "      fill: #FFFFFF;\n",
              "    }\n",
              "  </style>\n",
              "\n",
              "      <script>\n",
              "        const buttonEl =\n",
              "          document.querySelector('#df-d6aa66a1-ee7c-401e-984b-e103219c76f4 button.colab-df-convert');\n",
              "        buttonEl.style.display =\n",
              "          google.colab.kernel.accessAllowed ? 'block' : 'none';\n",
              "\n",
              "        async function convertToInteractive(key) {\n",
              "          const element = document.querySelector('#df-d6aa66a1-ee7c-401e-984b-e103219c76f4');\n",
              "          const dataTable =\n",
              "            await google.colab.kernel.invokeFunction('convertToInteractive',\n",
              "                                                     [key], {});\n",
              "          if (!dataTable) return;\n",
              "\n",
              "          const docLinkHtml = 'Like what you see? Visit the ' +\n",
              "            '<a target=\"_blank\" href=https://colab.research.google.com/notebooks/data_table.ipynb>data table notebook</a>'\n",
              "            + ' to learn more about interactive tables.';\n",
              "          element.innerHTML = '';\n",
              "          dataTable['output_type'] = 'display_data';\n",
              "          await google.colab.output.renderOutput(dataTable, element);\n",
              "          const docLink = document.createElement('div');\n",
              "          docLink.innerHTML = docLinkHtml;\n",
              "          element.appendChild(docLink);\n",
              "        }\n",
              "      </script>\n",
              "    </div>\n",
              "  </div>\n",
              "  "
            ]
          },
          "metadata": {},
          "execution_count": 25
        }
      ]
    },
    {
      "cell_type": "code",
      "source": [
        "lm_2 = sfm.ols(formula=\"y~X3+X4+X5\",data=base2).fit()\n",
        "lm_2.summary()"
      ],
      "metadata": {
        "id": "EtfSFnW2OjEi",
        "colab": {
          "base_uri": "https://localhost:8080/",
          "height": 493
        },
        "outputId": "849fc456-c2fe-4ad3-8d84-1a7702098b2e"
      },
      "execution_count": null,
      "outputs": [
        {
          "output_type": "execute_result",
          "data": {
            "text/plain": [
              "<class 'statsmodels.iolib.summary.Summary'>\n",
              "\"\"\"\n",
              "                            OLS Regression Results                            \n",
              "==============================================================================\n",
              "Dep. Variable:                      y   R-squared:                       0.723\n",
              "Model:                            OLS   Adj. R-squared:                  0.720\n",
              "Method:                 Least Squares   F-statistic:                     313.5\n",
              "Date:                Wed, 07 Dec 2022   Prob (F-statistic):          3.85e-100\n",
              "Time:                        22:01:29   Log-Likelihood:                -824.09\n",
              "No. Observations:                 365   AIC:                             1656.\n",
              "Df Residuals:                     361   BIC:                             1672.\n",
              "Df Model:                           3                                         \n",
              "Covariance Type:            nonrobust                                         \n",
              "==============================================================================\n",
              "                 coef    std err          t      P>|t|      [0.025      0.975]\n",
              "------------------------------------------------------------------------------\n",
              "Intercept      6.4321      0.774      8.310      0.000       4.910       7.954\n",
              "X3             0.6685      0.028     23.622      0.000       0.613       0.724\n",
              "X4            -0.0575      0.010     -5.847      0.000      -0.077      -0.038\n",
              "X5             5.1841      0.270     19.200      0.000       4.653       5.715\n",
              "==============================================================================\n",
              "Omnibus:                       38.795   Durbin-Watson:                   1.929\n",
              "Prob(Omnibus):                  0.000   Jarque-Bera (JB):               12.850\n",
              "Skew:                           0.153   Prob(JB):                      0.00162\n",
              "Kurtosis:                       2.133   Cond. No.                         176.\n",
              "==============================================================================\n",
              "\n",
              "Notes:\n",
              "[1] Standard Errors assume that the covariance matrix of the errors is correctly specified.\n",
              "\"\"\""
            ],
            "text/html": [
              "<table class=\"simpletable\">\n",
              "<caption>OLS Regression Results</caption>\n",
              "<tr>\n",
              "  <th>Dep. Variable:</th>            <td>y</td>        <th>  R-squared:         </th> <td>   0.723</td> \n",
              "</tr>\n",
              "<tr>\n",
              "  <th>Model:</th>                   <td>OLS</td>       <th>  Adj. R-squared:    </th> <td>   0.720</td> \n",
              "</tr>\n",
              "<tr>\n",
              "  <th>Method:</th>             <td>Least Squares</td>  <th>  F-statistic:       </th> <td>   313.5</td> \n",
              "</tr>\n",
              "<tr>\n",
              "  <th>Date:</th>             <td>Wed, 07 Dec 2022</td> <th>  Prob (F-statistic):</th> <td>3.85e-100</td>\n",
              "</tr>\n",
              "<tr>\n",
              "  <th>Time:</th>                 <td>22:01:29</td>     <th>  Log-Likelihood:    </th> <td> -824.09</td> \n",
              "</tr>\n",
              "<tr>\n",
              "  <th>No. Observations:</th>      <td>   365</td>      <th>  AIC:               </th> <td>   1656.</td> \n",
              "</tr>\n",
              "<tr>\n",
              "  <th>Df Residuals:</th>          <td>   361</td>      <th>  BIC:               </th> <td>   1672.</td> \n",
              "</tr>\n",
              "<tr>\n",
              "  <th>Df Model:</th>              <td>     3</td>      <th>                     </th>     <td> </td>    \n",
              "</tr>\n",
              "<tr>\n",
              "  <th>Covariance Type:</th>      <td>nonrobust</td>    <th>                     </th>     <td> </td>    \n",
              "</tr>\n",
              "</table>\n",
              "<table class=\"simpletable\">\n",
              "<tr>\n",
              "      <td></td>         <th>coef</th>     <th>std err</th>      <th>t</th>      <th>P>|t|</th>  <th>[0.025</th>    <th>0.975]</th>  \n",
              "</tr>\n",
              "<tr>\n",
              "  <th>Intercept</th> <td>    6.4321</td> <td>    0.774</td> <td>    8.310</td> <td> 0.000</td> <td>    4.910</td> <td>    7.954</td>\n",
              "</tr>\n",
              "<tr>\n",
              "  <th>X3</th>        <td>    0.6685</td> <td>    0.028</td> <td>   23.622</td> <td> 0.000</td> <td>    0.613</td> <td>    0.724</td>\n",
              "</tr>\n",
              "<tr>\n",
              "  <th>X4</th>        <td>   -0.0575</td> <td>    0.010</td> <td>   -5.847</td> <td> 0.000</td> <td>   -0.077</td> <td>   -0.038</td>\n",
              "</tr>\n",
              "<tr>\n",
              "  <th>X5</th>        <td>    5.1841</td> <td>    0.270</td> <td>   19.200</td> <td> 0.000</td> <td>    4.653</td> <td>    5.715</td>\n",
              "</tr>\n",
              "</table>\n",
              "<table class=\"simpletable\">\n",
              "<tr>\n",
              "  <th>Omnibus:</th>       <td>38.795</td> <th>  Durbin-Watson:     </th> <td>   1.929</td>\n",
              "</tr>\n",
              "<tr>\n",
              "  <th>Prob(Omnibus):</th> <td> 0.000</td> <th>  Jarque-Bera (JB):  </th> <td>  12.850</td>\n",
              "</tr>\n",
              "<tr>\n",
              "  <th>Skew:</th>          <td> 0.153</td> <th>  Prob(JB):          </th> <td> 0.00162</td>\n",
              "</tr>\n",
              "<tr>\n",
              "  <th>Kurtosis:</th>      <td> 2.133</td> <th>  Cond. No.          </th> <td>    176.</td>\n",
              "</tr>\n",
              "</table><br/><br/>Notes:<br/>[1] Standard Errors assume that the covariance matrix of the errors is correctly specified."
            ]
          },
          "metadata": {},
          "execution_count": 26
        }
      ]
    },
    {
      "cell_type": "code",
      "source": [
        "#hipótesis individuales para el modelo 2   y=b0+b3x3+b4x4+b5x5\n",
        "lm_2.pvalues"
      ],
      "metadata": {
        "id": "11qpFBy3O9G8",
        "colab": {
          "base_uri": "https://localhost:8080/"
        },
        "outputId": "f559e68a-8f37-47aa-f9c9-67826a019d31"
      },
      "execution_count": null,
      "outputs": [
        {
          "output_type": "execute_result",
          "data": {
            "text/plain": [
              "Intercept    1.956421e-15\n",
              "X3           3.029358e-75\n",
              "X4           1.119126e-08\n",
              "X5           4.045208e-57\n",
              "dtype: float64"
            ]
          },
          "metadata": {},
          "execution_count": 27
        }
      ]
    },
    {
      "cell_type": "markdown",
      "source": [
        "#multicolinealidad (entre variables X)"
      ],
      "metadata": {
        "id": "6ztXDy9lPO9y"
      }
    },
    {
      "cell_type": "code",
      "source": [
        "#cargar base\n",
        "base1 = pd.read_excel(\"regremul.xlsx\")\n",
        "base1"
      ],
      "metadata": {
        "id": "orNS_yAbZdFR",
        "colab": {
          "base_uri": "https://localhost:8080/",
          "height": 424
        },
        "outputId": "f904b1b7-25dc-4ca4-ce85-dca936346c8b"
      },
      "execution_count": null,
      "outputs": [
        {
          "output_type": "execute_result",
          "data": {
            "text/plain": [
              "    N de horas   Edad (años)  Asignaturas  % rendimiento     Género  \\\n",
              "0           3.8           26            4             85   Femenino   \n",
              "1           1.7           19            5             88  Masculino   \n",
              "2           1.7           18            4             40  Masculino   \n",
              "3           3.3           25            4             50   Femenino   \n",
              "4           3.9           24            4             57   Femenino   \n",
              "..          ...          ...          ...            ...        ...   \n",
              "95          3.0           30            4             50   Femenino   \n",
              "96          2.0           29            4             20   Femenino   \n",
              "97          4.5           25            4             30   Femenino   \n",
              "98          2.0           22            4             10   Femenino   \n",
              "99          7.3           29            5             40  Masculino   \n",
              "\n",
              "   Área de Interés  \n",
              "0     Comunicación  \n",
              "1         Ciencias  \n",
              "2     Comunicación  \n",
              "3     Comunicación  \n",
              "4     Comunicación  \n",
              "..             ...  \n",
              "95    Comunicación  \n",
              "96        Ciencias  \n",
              "97    Comunicación  \n",
              "98      Tecnología  \n",
              "99        Ciencias  \n",
              "\n",
              "[100 rows x 6 columns]"
            ],
            "text/html": [
              "\n",
              "  <div id=\"df-d50fb4d9-fab2-41c3-92a3-0da1f2ac3cf4\">\n",
              "    <div class=\"colab-df-container\">\n",
              "      <div>\n",
              "<style scoped>\n",
              "    .dataframe tbody tr th:only-of-type {\n",
              "        vertical-align: middle;\n",
              "    }\n",
              "\n",
              "    .dataframe tbody tr th {\n",
              "        vertical-align: top;\n",
              "    }\n",
              "\n",
              "    .dataframe thead th {\n",
              "        text-align: right;\n",
              "    }\n",
              "</style>\n",
              "<table border=\"1\" class=\"dataframe\">\n",
              "  <thead>\n",
              "    <tr style=\"text-align: right;\">\n",
              "      <th></th>\n",
              "      <th>N de horas</th>\n",
              "      <th>Edad (años)</th>\n",
              "      <th>Asignaturas</th>\n",
              "      <th>% rendimiento</th>\n",
              "      <th>Género</th>\n",
              "      <th>Área de Interés</th>\n",
              "    </tr>\n",
              "  </thead>\n",
              "  <tbody>\n",
              "    <tr>\n",
              "      <th>0</th>\n",
              "      <td>3.8</td>\n",
              "      <td>26</td>\n",
              "      <td>4</td>\n",
              "      <td>85</td>\n",
              "      <td>Femenino</td>\n",
              "      <td>Comunicación</td>\n",
              "    </tr>\n",
              "    <tr>\n",
              "      <th>1</th>\n",
              "      <td>1.7</td>\n",
              "      <td>19</td>\n",
              "      <td>5</td>\n",
              "      <td>88</td>\n",
              "      <td>Masculino</td>\n",
              "      <td>Ciencias</td>\n",
              "    </tr>\n",
              "    <tr>\n",
              "      <th>2</th>\n",
              "      <td>1.7</td>\n",
              "      <td>18</td>\n",
              "      <td>4</td>\n",
              "      <td>40</td>\n",
              "      <td>Masculino</td>\n",
              "      <td>Comunicación</td>\n",
              "    </tr>\n",
              "    <tr>\n",
              "      <th>3</th>\n",
              "      <td>3.3</td>\n",
              "      <td>25</td>\n",
              "      <td>4</td>\n",
              "      <td>50</td>\n",
              "      <td>Femenino</td>\n",
              "      <td>Comunicación</td>\n",
              "    </tr>\n",
              "    <tr>\n",
              "      <th>4</th>\n",
              "      <td>3.9</td>\n",
              "      <td>24</td>\n",
              "      <td>4</td>\n",
              "      <td>57</td>\n",
              "      <td>Femenino</td>\n",
              "      <td>Comunicación</td>\n",
              "    </tr>\n",
              "    <tr>\n",
              "      <th>...</th>\n",
              "      <td>...</td>\n",
              "      <td>...</td>\n",
              "      <td>...</td>\n",
              "      <td>...</td>\n",
              "      <td>...</td>\n",
              "      <td>...</td>\n",
              "    </tr>\n",
              "    <tr>\n",
              "      <th>95</th>\n",
              "      <td>3.0</td>\n",
              "      <td>30</td>\n",
              "      <td>4</td>\n",
              "      <td>50</td>\n",
              "      <td>Femenino</td>\n",
              "      <td>Comunicación</td>\n",
              "    </tr>\n",
              "    <tr>\n",
              "      <th>96</th>\n",
              "      <td>2.0</td>\n",
              "      <td>29</td>\n",
              "      <td>4</td>\n",
              "      <td>20</td>\n",
              "      <td>Femenino</td>\n",
              "      <td>Ciencias</td>\n",
              "    </tr>\n",
              "    <tr>\n",
              "      <th>97</th>\n",
              "      <td>4.5</td>\n",
              "      <td>25</td>\n",
              "      <td>4</td>\n",
              "      <td>30</td>\n",
              "      <td>Femenino</td>\n",
              "      <td>Comunicación</td>\n",
              "    </tr>\n",
              "    <tr>\n",
              "      <th>98</th>\n",
              "      <td>2.0</td>\n",
              "      <td>22</td>\n",
              "      <td>4</td>\n",
              "      <td>10</td>\n",
              "      <td>Femenino</td>\n",
              "      <td>Tecnología</td>\n",
              "    </tr>\n",
              "    <tr>\n",
              "      <th>99</th>\n",
              "      <td>7.3</td>\n",
              "      <td>29</td>\n",
              "      <td>5</td>\n",
              "      <td>40</td>\n",
              "      <td>Masculino</td>\n",
              "      <td>Ciencias</td>\n",
              "    </tr>\n",
              "  </tbody>\n",
              "</table>\n",
              "<p>100 rows × 6 columns</p>\n",
              "</div>\n",
              "      <button class=\"colab-df-convert\" onclick=\"convertToInteractive('df-d50fb4d9-fab2-41c3-92a3-0da1f2ac3cf4')\"\n",
              "              title=\"Convert this dataframe to an interactive table.\"\n",
              "              style=\"display:none;\">\n",
              "        \n",
              "  <svg xmlns=\"http://www.w3.org/2000/svg\" height=\"24px\"viewBox=\"0 0 24 24\"\n",
              "       width=\"24px\">\n",
              "    <path d=\"M0 0h24v24H0V0z\" fill=\"none\"/>\n",
              "    <path d=\"M18.56 5.44l.94 2.06.94-2.06 2.06-.94-2.06-.94-.94-2.06-.94 2.06-2.06.94zm-11 1L8.5 8.5l.94-2.06 2.06-.94-2.06-.94L8.5 2.5l-.94 2.06-2.06.94zm10 10l.94 2.06.94-2.06 2.06-.94-2.06-.94-.94-2.06-.94 2.06-2.06.94z\"/><path d=\"M17.41 7.96l-1.37-1.37c-.4-.4-.92-.59-1.43-.59-.52 0-1.04.2-1.43.59L10.3 9.45l-7.72 7.72c-.78.78-.78 2.05 0 2.83L4 21.41c.39.39.9.59 1.41.59.51 0 1.02-.2 1.41-.59l7.78-7.78 2.81-2.81c.8-.78.8-2.07 0-2.86zM5.41 20L4 18.59l7.72-7.72 1.47 1.35L5.41 20z\"/>\n",
              "  </svg>\n",
              "      </button>\n",
              "      \n",
              "  <style>\n",
              "    .colab-df-container {\n",
              "      display:flex;\n",
              "      flex-wrap:wrap;\n",
              "      gap: 12px;\n",
              "    }\n",
              "\n",
              "    .colab-df-convert {\n",
              "      background-color: #E8F0FE;\n",
              "      border: none;\n",
              "      border-radius: 50%;\n",
              "      cursor: pointer;\n",
              "      display: none;\n",
              "      fill: #1967D2;\n",
              "      height: 32px;\n",
              "      padding: 0 0 0 0;\n",
              "      width: 32px;\n",
              "    }\n",
              "\n",
              "    .colab-df-convert:hover {\n",
              "      background-color: #E2EBFA;\n",
              "      box-shadow: 0px 1px 2px rgba(60, 64, 67, 0.3), 0px 1px 3px 1px rgba(60, 64, 67, 0.15);\n",
              "      fill: #174EA6;\n",
              "    }\n",
              "\n",
              "    [theme=dark] .colab-df-convert {\n",
              "      background-color: #3B4455;\n",
              "      fill: #D2E3FC;\n",
              "    }\n",
              "\n",
              "    [theme=dark] .colab-df-convert:hover {\n",
              "      background-color: #434B5C;\n",
              "      box-shadow: 0px 1px 3px 1px rgba(0, 0, 0, 0.15);\n",
              "      filter: drop-shadow(0px 1px 2px rgba(0, 0, 0, 0.3));\n",
              "      fill: #FFFFFF;\n",
              "    }\n",
              "  </style>\n",
              "\n",
              "      <script>\n",
              "        const buttonEl =\n",
              "          document.querySelector('#df-d50fb4d9-fab2-41c3-92a3-0da1f2ac3cf4 button.colab-df-convert');\n",
              "        buttonEl.style.display =\n",
              "          google.colab.kernel.accessAllowed ? 'block' : 'none';\n",
              "\n",
              "        async function convertToInteractive(key) {\n",
              "          const element = document.querySelector('#df-d50fb4d9-fab2-41c3-92a3-0da1f2ac3cf4');\n",
              "          const dataTable =\n",
              "            await google.colab.kernel.invokeFunction('convertToInteractive',\n",
              "                                                     [key], {});\n",
              "          if (!dataTable) return;\n",
              "\n",
              "          const docLinkHtml = 'Like what you see? Visit the ' +\n",
              "            '<a target=\"_blank\" href=https://colab.research.google.com/notebooks/data_table.ipynb>data table notebook</a>'\n",
              "            + ' to learn more about interactive tables.';\n",
              "          element.innerHTML = '';\n",
              "          dataTable['output_type'] = 'display_data';\n",
              "          await google.colab.output.renderOutput(dataTable, element);\n",
              "          const docLink = document.createElement('div');\n",
              "          docLink.innerHTML = docLinkHtml;\n",
              "          element.appendChild(docLink);\n",
              "        }\n",
              "      </script>\n",
              "    </div>\n",
              "  </div>\n",
              "  "
            ]
          },
          "metadata": {},
          "execution_count": 2
        }
      ]
    },
    {
      "cell_type": "code",
      "source": [
        "# definir variables\n",
        "y1 = base1['N de horas '] # Variable dependiente.\n",
        "X_1 = base1['Edad (años)']\n",
        "X_2 = base1['Asignaturas']\n",
        "X_3 = base1['% rendimiento']\n",
        "X_4 = base1['Género']\n",
        "X_5 = base1['Área de Interés']\n"
      ],
      "metadata": {
        "id": "65cCht7saVCf"
      },
      "execution_count": null,
      "outputs": []
    },
    {
      "cell_type": "code",
      "source": [
        "import statsmodels.formula.api as sfm"
      ],
      "metadata": {
        "id": "HZNgV8UW7gH0"
      },
      "execution_count": null,
      "outputs": []
    },
    {
      "cell_type": "code",
      "source": [
        "\n",
        "#regresión para el modelo  alfa 10%\n",
        "lm_1 = sfm.ols(formula=\"y1~X_1+X_2+X_3+C(X_4)+C(X_5)\",data=base1).fit()\n",
        "lm_1.summary()"
      ],
      "metadata": {
        "id": "kXli7QGgdldU",
        "colab": {
          "base_uri": "https://localhost:8080/",
          "height": 556
        },
        "outputId": "31ed3d5e-cc79-46a6-de2d-71e9403357fe"
      },
      "execution_count": null,
      "outputs": [
        {
          "output_type": "execute_result",
          "data": {
            "text/plain": [
              "<class 'statsmodels.iolib.summary.Summary'>\n",
              "\"\"\"\n",
              "                            OLS Regression Results                            \n",
              "==============================================================================\n",
              "Dep. Variable:                     y1   R-squared:                       0.761\n",
              "Model:                            OLS   Adj. R-squared:                  0.746\n",
              "Method:                 Least Squares   F-statistic:                     49.46\n",
              "Date:                Wed, 14 Dec 2022   Prob (F-statistic):           7.82e-27\n",
              "Time:                        18:39:51   Log-Likelihood:                -114.83\n",
              "No. Observations:                 100   AIC:                             243.7\n",
              "Df Residuals:                      93   BIC:                             261.9\n",
              "Df Model:                           6                                         \n",
              "Covariance Type:            nonrobust                                         \n",
              "==========================================================================================\n",
              "                             coef    std err          t      P>|t|      [0.025      0.975]\n",
              "------------------------------------------------------------------------------------------\n",
              "Intercept                 -7.6287      0.761    -10.026      0.000      -9.140      -6.118\n",
              "C(X_4)[T.Masculino]        0.2430      0.161      1.512      0.134      -0.076       0.562\n",
              "C(X_5)[T.Comunicación]     0.2448      0.204      1.198      0.234      -0.161       0.650\n",
              "C(X_5)[T.Tecnología]       0.2641      0.224      1.178      0.242      -0.181       0.709\n",
              "X_1                        0.4212      0.025     16.814      0.000       0.371       0.471\n",
              "X_2                        0.0913      0.062      1.483      0.142      -0.031       0.214\n",
              "X_3                        0.0044      0.004      1.154      0.252      -0.003       0.012\n",
              "==============================================================================\n",
              "Omnibus:                       23.239   Durbin-Watson:                   1.825\n",
              "Prob(Omnibus):                  0.000   Jarque-Bera (JB):               48.038\n",
              "Skew:                          -0.880   Prob(JB):                     3.70e-11\n",
              "Kurtosis:                       5.904   Cond. No.                         711.\n",
              "==============================================================================\n",
              "\n",
              "Notes:\n",
              "[1] Standard Errors assume that the covariance matrix of the errors is correctly specified.\n",
              "\"\"\""
            ],
            "text/html": [
              "<table class=\"simpletable\">\n",
              "<caption>OLS Regression Results</caption>\n",
              "<tr>\n",
              "  <th>Dep. Variable:</th>           <td>y1</td>        <th>  R-squared:         </th> <td>   0.761</td>\n",
              "</tr>\n",
              "<tr>\n",
              "  <th>Model:</th>                   <td>OLS</td>       <th>  Adj. R-squared:    </th> <td>   0.746</td>\n",
              "</tr>\n",
              "<tr>\n",
              "  <th>Method:</th>             <td>Least Squares</td>  <th>  F-statistic:       </th> <td>   49.46</td>\n",
              "</tr>\n",
              "<tr>\n",
              "  <th>Date:</th>             <td>Wed, 14 Dec 2022</td> <th>  Prob (F-statistic):</th> <td>7.82e-27</td>\n",
              "</tr>\n",
              "<tr>\n",
              "  <th>Time:</th>                 <td>18:39:51</td>     <th>  Log-Likelihood:    </th> <td> -114.83</td>\n",
              "</tr>\n",
              "<tr>\n",
              "  <th>No. Observations:</th>      <td>   100</td>      <th>  AIC:               </th> <td>   243.7</td>\n",
              "</tr>\n",
              "<tr>\n",
              "  <th>Df Residuals:</th>          <td>    93</td>      <th>  BIC:               </th> <td>   261.9</td>\n",
              "</tr>\n",
              "<tr>\n",
              "  <th>Df Model:</th>              <td>     6</td>      <th>                     </th>     <td> </td>   \n",
              "</tr>\n",
              "<tr>\n",
              "  <th>Covariance Type:</th>      <td>nonrobust</td>    <th>                     </th>     <td> </td>   \n",
              "</tr>\n",
              "</table>\n",
              "<table class=\"simpletable\">\n",
              "<tr>\n",
              "             <td></td>               <th>coef</th>     <th>std err</th>      <th>t</th>      <th>P>|t|</th>  <th>[0.025</th>    <th>0.975]</th>  \n",
              "</tr>\n",
              "<tr>\n",
              "  <th>Intercept</th>              <td>   -7.6287</td> <td>    0.761</td> <td>  -10.026</td> <td> 0.000</td> <td>   -9.140</td> <td>   -6.118</td>\n",
              "</tr>\n",
              "<tr>\n",
              "  <th>C(X_4)[T.Masculino]</th>    <td>    0.2430</td> <td>    0.161</td> <td>    1.512</td> <td> 0.134</td> <td>   -0.076</td> <td>    0.562</td>\n",
              "</tr>\n",
              "<tr>\n",
              "  <th>C(X_5)[T.Comunicación]</th> <td>    0.2448</td> <td>    0.204</td> <td>    1.198</td> <td> 0.234</td> <td>   -0.161</td> <td>    0.650</td>\n",
              "</tr>\n",
              "<tr>\n",
              "  <th>C(X_5)[T.Tecnología]</th>   <td>    0.2641</td> <td>    0.224</td> <td>    1.178</td> <td> 0.242</td> <td>   -0.181</td> <td>    0.709</td>\n",
              "</tr>\n",
              "<tr>\n",
              "  <th>X_1</th>                    <td>    0.4212</td> <td>    0.025</td> <td>   16.814</td> <td> 0.000</td> <td>    0.371</td> <td>    0.471</td>\n",
              "</tr>\n",
              "<tr>\n",
              "  <th>X_2</th>                    <td>    0.0913</td> <td>    0.062</td> <td>    1.483</td> <td> 0.142</td> <td>   -0.031</td> <td>    0.214</td>\n",
              "</tr>\n",
              "<tr>\n",
              "  <th>X_3</th>                    <td>    0.0044</td> <td>    0.004</td> <td>    1.154</td> <td> 0.252</td> <td>   -0.003</td> <td>    0.012</td>\n",
              "</tr>\n",
              "</table>\n",
              "<table class=\"simpletable\">\n",
              "<tr>\n",
              "  <th>Omnibus:</th>       <td>23.239</td> <th>  Durbin-Watson:     </th> <td>   1.825</td>\n",
              "</tr>\n",
              "<tr>\n",
              "  <th>Prob(Omnibus):</th> <td> 0.000</td> <th>  Jarque-Bera (JB):  </th> <td>  48.038</td>\n",
              "</tr>\n",
              "<tr>\n",
              "  <th>Skew:</th>          <td>-0.880</td> <th>  Prob(JB):          </th> <td>3.70e-11</td>\n",
              "</tr>\n",
              "<tr>\n",
              "  <th>Kurtosis:</th>      <td> 5.904</td> <th>  Cond. No.          </th> <td>    711.</td>\n",
              "</tr>\n",
              "</table><br/><br/>Notes:<br/>[1] Standard Errors assume that the covariance matrix of the errors is correctly specified."
            ]
          },
          "metadata": {},
          "execution_count": 6
        }
      ]
    },
    {
      "cell_type": "code",
      "source": [
        "#matriz de correlación\n",
        "mul_matrix = base1.corr(method='pearson')\n",
        "mul_matrix"
      ],
      "metadata": {
        "id": "IDqX8rs5fyNp",
        "colab": {
          "base_uri": "https://localhost:8080/",
          "height": 175
        },
        "outputId": "b46f8ce3-dc49-45c0-dae2-cf63e8ab991a"
      },
      "execution_count": null,
      "outputs": [
        {
          "output_type": "execute_result",
          "data": {
            "text/plain": [
              "               N de horas   Edad (años)  Asignaturas  % rendimiento\n",
              "N de horas        1.000000     0.861830     0.169368      -0.067349\n",
              "Edad (años)       0.861830     1.000000     0.109255      -0.148769\n",
              "Asignaturas       0.169368     0.109255     1.000000       0.036991\n",
              "% rendimiento    -0.067349    -0.148769     0.036991       1.000000"
            ],
            "text/html": [
              "\n",
              "  <div id=\"df-ef047c95-061b-4375-889b-5d9285efe1c8\">\n",
              "    <div class=\"colab-df-container\">\n",
              "      <div>\n",
              "<style scoped>\n",
              "    .dataframe tbody tr th:only-of-type {\n",
              "        vertical-align: middle;\n",
              "    }\n",
              "\n",
              "    .dataframe tbody tr th {\n",
              "        vertical-align: top;\n",
              "    }\n",
              "\n",
              "    .dataframe thead th {\n",
              "        text-align: right;\n",
              "    }\n",
              "</style>\n",
              "<table border=\"1\" class=\"dataframe\">\n",
              "  <thead>\n",
              "    <tr style=\"text-align: right;\">\n",
              "      <th></th>\n",
              "      <th>N de horas</th>\n",
              "      <th>Edad (años)</th>\n",
              "      <th>Asignaturas</th>\n",
              "      <th>% rendimiento</th>\n",
              "    </tr>\n",
              "  </thead>\n",
              "  <tbody>\n",
              "    <tr>\n",
              "      <th>N de horas</th>\n",
              "      <td>1.000000</td>\n",
              "      <td>0.861830</td>\n",
              "      <td>0.169368</td>\n",
              "      <td>-0.067349</td>\n",
              "    </tr>\n",
              "    <tr>\n",
              "      <th>Edad (años)</th>\n",
              "      <td>0.861830</td>\n",
              "      <td>1.000000</td>\n",
              "      <td>0.109255</td>\n",
              "      <td>-0.148769</td>\n",
              "    </tr>\n",
              "    <tr>\n",
              "      <th>Asignaturas</th>\n",
              "      <td>0.169368</td>\n",
              "      <td>0.109255</td>\n",
              "      <td>1.000000</td>\n",
              "      <td>0.036991</td>\n",
              "    </tr>\n",
              "    <tr>\n",
              "      <th>% rendimiento</th>\n",
              "      <td>-0.067349</td>\n",
              "      <td>-0.148769</td>\n",
              "      <td>0.036991</td>\n",
              "      <td>1.000000</td>\n",
              "    </tr>\n",
              "  </tbody>\n",
              "</table>\n",
              "</div>\n",
              "      <button class=\"colab-df-convert\" onclick=\"convertToInteractive('df-ef047c95-061b-4375-889b-5d9285efe1c8')\"\n",
              "              title=\"Convert this dataframe to an interactive table.\"\n",
              "              style=\"display:none;\">\n",
              "        \n",
              "  <svg xmlns=\"http://www.w3.org/2000/svg\" height=\"24px\"viewBox=\"0 0 24 24\"\n",
              "       width=\"24px\">\n",
              "    <path d=\"M0 0h24v24H0V0z\" fill=\"none\"/>\n",
              "    <path d=\"M18.56 5.44l.94 2.06.94-2.06 2.06-.94-2.06-.94-.94-2.06-.94 2.06-2.06.94zm-11 1L8.5 8.5l.94-2.06 2.06-.94-2.06-.94L8.5 2.5l-.94 2.06-2.06.94zm10 10l.94 2.06.94-2.06 2.06-.94-2.06-.94-.94-2.06-.94 2.06-2.06.94z\"/><path d=\"M17.41 7.96l-1.37-1.37c-.4-.4-.92-.59-1.43-.59-.52 0-1.04.2-1.43.59L10.3 9.45l-7.72 7.72c-.78.78-.78 2.05 0 2.83L4 21.41c.39.39.9.59 1.41.59.51 0 1.02-.2 1.41-.59l7.78-7.78 2.81-2.81c.8-.78.8-2.07 0-2.86zM5.41 20L4 18.59l7.72-7.72 1.47 1.35L5.41 20z\"/>\n",
              "  </svg>\n",
              "      </button>\n",
              "      \n",
              "  <style>\n",
              "    .colab-df-container {\n",
              "      display:flex;\n",
              "      flex-wrap:wrap;\n",
              "      gap: 12px;\n",
              "    }\n",
              "\n",
              "    .colab-df-convert {\n",
              "      background-color: #E8F0FE;\n",
              "      border: none;\n",
              "      border-radius: 50%;\n",
              "      cursor: pointer;\n",
              "      display: none;\n",
              "      fill: #1967D2;\n",
              "      height: 32px;\n",
              "      padding: 0 0 0 0;\n",
              "      width: 32px;\n",
              "    }\n",
              "\n",
              "    .colab-df-convert:hover {\n",
              "      background-color: #E2EBFA;\n",
              "      box-shadow: 0px 1px 2px rgba(60, 64, 67, 0.3), 0px 1px 3px 1px rgba(60, 64, 67, 0.15);\n",
              "      fill: #174EA6;\n",
              "    }\n",
              "\n",
              "    [theme=dark] .colab-df-convert {\n",
              "      background-color: #3B4455;\n",
              "      fill: #D2E3FC;\n",
              "    }\n",
              "\n",
              "    [theme=dark] .colab-df-convert:hover {\n",
              "      background-color: #434B5C;\n",
              "      box-shadow: 0px 1px 3px 1px rgba(0, 0, 0, 0.15);\n",
              "      filter: drop-shadow(0px 1px 2px rgba(0, 0, 0, 0.3));\n",
              "      fill: #FFFFFF;\n",
              "    }\n",
              "  </style>\n",
              "\n",
              "      <script>\n",
              "        const buttonEl =\n",
              "          document.querySelector('#df-ef047c95-061b-4375-889b-5d9285efe1c8 button.colab-df-convert');\n",
              "        buttonEl.style.display =\n",
              "          google.colab.kernel.accessAllowed ? 'block' : 'none';\n",
              "\n",
              "        async function convertToInteractive(key) {\n",
              "          const element = document.querySelector('#df-ef047c95-061b-4375-889b-5d9285efe1c8');\n",
              "          const dataTable =\n",
              "            await google.colab.kernel.invokeFunction('convertToInteractive',\n",
              "                                                     [key], {});\n",
              "          if (!dataTable) return;\n",
              "\n",
              "          const docLinkHtml = 'Like what you see? Visit the ' +\n",
              "            '<a target=\"_blank\" href=https://colab.research.google.com/notebooks/data_table.ipynb>data table notebook</a>'\n",
              "            + ' to learn more about interactive tables.';\n",
              "          element.innerHTML = '';\n",
              "          dataTable['output_type'] = 'display_data';\n",
              "          await google.colab.output.renderOutput(dataTable, element);\n",
              "          const docLink = document.createElement('div');\n",
              "          docLink.innerHTML = docLinkHtml;\n",
              "          element.appendChild(docLink);\n",
              "        }\n",
              "      </script>\n",
              "    </div>\n",
              "  </div>\n",
              "  "
            ]
          },
          "metadata": {},
          "execution_count": 7
        }
      ]
    },
    {
      "cell_type": "code",
      "source": [
        "from statsmodels.stats.outliers_influence import variance_inflation_factor\n",
        "from patsy import dmatrices\n",
        "\n",
        "\n",
        "y1 , X=dmatrices('y1~X_1+X_2+X_3',base1, return_type=\"dataframe\")  #solo para las variables cuantitativas\n",
        "vif = pd.DataFrame() # crear un data frame vif\n",
        "vif[\"VIF\"] = [variance_inflation_factor(X.values, i) for i in range(X.shape[1])] #crear columna con los valores del VIF\n",
        "vif[\"variables\"]=X.columns #crear columna con el nombre de las variables independientes\n",
        "vif.round(3)\n",
        "\n",
        "# recordar si el vif > 5 la variable presenta problemas de multicolinealidad"
      ],
      "metadata": {
        "id": "lKsC5OTzeSSS",
        "colab": {
          "base_uri": "https://localhost:8080/",
          "height": 175
        },
        "outputId": "bedaafd6-443b-4d06-bf9d-59e1e2253d54"
      },
      "execution_count": null,
      "outputs": [
        {
          "output_type": "execute_result",
          "data": {
            "text/plain": [
              "      VIF  variables\n",
              "0  82.469  Intercept\n",
              "1   1.037        X_1\n",
              "2   1.015        X_2\n",
              "3   1.026        X_3"
            ],
            "text/html": [
              "\n",
              "  <div id=\"df-e36f235a-41d9-4c5d-989d-d017113cdfa4\">\n",
              "    <div class=\"colab-df-container\">\n",
              "      <div>\n",
              "<style scoped>\n",
              "    .dataframe tbody tr th:only-of-type {\n",
              "        vertical-align: middle;\n",
              "    }\n",
              "\n",
              "    .dataframe tbody tr th {\n",
              "        vertical-align: top;\n",
              "    }\n",
              "\n",
              "    .dataframe thead th {\n",
              "        text-align: right;\n",
              "    }\n",
              "</style>\n",
              "<table border=\"1\" class=\"dataframe\">\n",
              "  <thead>\n",
              "    <tr style=\"text-align: right;\">\n",
              "      <th></th>\n",
              "      <th>VIF</th>\n",
              "      <th>variables</th>\n",
              "    </tr>\n",
              "  </thead>\n",
              "  <tbody>\n",
              "    <tr>\n",
              "      <th>0</th>\n",
              "      <td>82.469</td>\n",
              "      <td>Intercept</td>\n",
              "    </tr>\n",
              "    <tr>\n",
              "      <th>1</th>\n",
              "      <td>1.037</td>\n",
              "      <td>X_1</td>\n",
              "    </tr>\n",
              "    <tr>\n",
              "      <th>2</th>\n",
              "      <td>1.015</td>\n",
              "      <td>X_2</td>\n",
              "    </tr>\n",
              "    <tr>\n",
              "      <th>3</th>\n",
              "      <td>1.026</td>\n",
              "      <td>X_3</td>\n",
              "    </tr>\n",
              "  </tbody>\n",
              "</table>\n",
              "</div>\n",
              "      <button class=\"colab-df-convert\" onclick=\"convertToInteractive('df-e36f235a-41d9-4c5d-989d-d017113cdfa4')\"\n",
              "              title=\"Convert this dataframe to an interactive table.\"\n",
              "              style=\"display:none;\">\n",
              "        \n",
              "  <svg xmlns=\"http://www.w3.org/2000/svg\" height=\"24px\"viewBox=\"0 0 24 24\"\n",
              "       width=\"24px\">\n",
              "    <path d=\"M0 0h24v24H0V0z\" fill=\"none\"/>\n",
              "    <path d=\"M18.56 5.44l.94 2.06.94-2.06 2.06-.94-2.06-.94-.94-2.06-.94 2.06-2.06.94zm-11 1L8.5 8.5l.94-2.06 2.06-.94-2.06-.94L8.5 2.5l-.94 2.06-2.06.94zm10 10l.94 2.06.94-2.06 2.06-.94-2.06-.94-.94-2.06-.94 2.06-2.06.94z\"/><path d=\"M17.41 7.96l-1.37-1.37c-.4-.4-.92-.59-1.43-.59-.52 0-1.04.2-1.43.59L10.3 9.45l-7.72 7.72c-.78.78-.78 2.05 0 2.83L4 21.41c.39.39.9.59 1.41.59.51 0 1.02-.2 1.41-.59l7.78-7.78 2.81-2.81c.8-.78.8-2.07 0-2.86zM5.41 20L4 18.59l7.72-7.72 1.47 1.35L5.41 20z\"/>\n",
              "  </svg>\n",
              "      </button>\n",
              "      \n",
              "  <style>\n",
              "    .colab-df-container {\n",
              "      display:flex;\n",
              "      flex-wrap:wrap;\n",
              "      gap: 12px;\n",
              "    }\n",
              "\n",
              "    .colab-df-convert {\n",
              "      background-color: #E8F0FE;\n",
              "      border: none;\n",
              "      border-radius: 50%;\n",
              "      cursor: pointer;\n",
              "      display: none;\n",
              "      fill: #1967D2;\n",
              "      height: 32px;\n",
              "      padding: 0 0 0 0;\n",
              "      width: 32px;\n",
              "    }\n",
              "\n",
              "    .colab-df-convert:hover {\n",
              "      background-color: #E2EBFA;\n",
              "      box-shadow: 0px 1px 2px rgba(60, 64, 67, 0.3), 0px 1px 3px 1px rgba(60, 64, 67, 0.15);\n",
              "      fill: #174EA6;\n",
              "    }\n",
              "\n",
              "    [theme=dark] .colab-df-convert {\n",
              "      background-color: #3B4455;\n",
              "      fill: #D2E3FC;\n",
              "    }\n",
              "\n",
              "    [theme=dark] .colab-df-convert:hover {\n",
              "      background-color: #434B5C;\n",
              "      box-shadow: 0px 1px 3px 1px rgba(0, 0, 0, 0.15);\n",
              "      filter: drop-shadow(0px 1px 2px rgba(0, 0, 0, 0.3));\n",
              "      fill: #FFFFFF;\n",
              "    }\n",
              "  </style>\n",
              "\n",
              "      <script>\n",
              "        const buttonEl =\n",
              "          document.querySelector('#df-e36f235a-41d9-4c5d-989d-d017113cdfa4 button.colab-df-convert');\n",
              "        buttonEl.style.display =\n",
              "          google.colab.kernel.accessAllowed ? 'block' : 'none';\n",
              "\n",
              "        async function convertToInteractive(key) {\n",
              "          const element = document.querySelector('#df-e36f235a-41d9-4c5d-989d-d017113cdfa4');\n",
              "          const dataTable =\n",
              "            await google.colab.kernel.invokeFunction('convertToInteractive',\n",
              "                                                     [key], {});\n",
              "          if (!dataTable) return;\n",
              "\n",
              "          const docLinkHtml = 'Like what you see? Visit the ' +\n",
              "            '<a target=\"_blank\" href=https://colab.research.google.com/notebooks/data_table.ipynb>data table notebook</a>'\n",
              "            + ' to learn more about interactive tables.';\n",
              "          element.innerHTML = '';\n",
              "          dataTable['output_type'] = 'display_data';\n",
              "          await google.colab.output.renderOutput(dataTable, element);\n",
              "          const docLink = document.createElement('div');\n",
              "          docLink.innerHTML = docLinkHtml;\n",
              "          element.appendChild(docLink);\n",
              "        }\n",
              "      </script>\n",
              "    </div>\n",
              "  </div>\n",
              "  "
            ]
          },
          "metadata": {},
          "execution_count": 8
        }
      ]
    },
    {
      "cell_type": "code",
      "source": [
        "#como no hay problemas de multicolinealidad procedemos a los analisis individules\n",
        "lm_1.pvalues"
      ],
      "metadata": {
        "id": "ifsXwhOQjO6e",
        "colab": {
          "base_uri": "https://localhost:8080/"
        },
        "outputId": "8697a2d0-d24f-4a77-92d3-0df5ac2979c2"
      },
      "execution_count": null,
      "outputs": [
        {
          "output_type": "execute_result",
          "data": {
            "text/plain": [
              "Intercept                 1.801911e-16\n",
              "C(X_4)[T.Masculino]       1.339300e-01\n",
              "C(X_5)[T.Comunicación]    2.338451e-01\n",
              "C(X_5)[T.Tecnología]      2.416436e-01\n",
              "X_1                       6.031485e-30\n",
              "X_2                       1.415811e-01\n",
              "X_3                       2.515667e-01\n",
              "dtype: float64"
            ]
          },
          "metadata": {},
          "execution_count": 9
        }
      ]
    },
    {
      "cell_type": "code",
      "source": [
        "#modelo 2 y=b0+b1x1\n",
        "lm_1a = sfm.ols(formula=\"y1~X_1\",data=base1).fit()\n",
        "lm_1a.summary()"
      ],
      "metadata": {
        "id": "zdGXgcPEkBow",
        "colab": {
          "base_uri": "https://localhost:8080/",
          "height": 450
        },
        "outputId": "02a0718d-8b75-4f50-a87a-5e5560dd1cf6"
      },
      "execution_count": null,
      "outputs": [
        {
          "output_type": "execute_result",
          "data": {
            "text/plain": [
              "<class 'statsmodels.iolib.summary.Summary'>\n",
              "\"\"\"\n",
              "                            OLS Regression Results                            \n",
              "==============================================================================\n",
              "Dep. Variable:                     y1   R-squared:                       0.743\n",
              "Model:                            OLS   Adj. R-squared:                  0.740\n",
              "Method:                 Least Squares   F-statistic:                     283.0\n",
              "Date:                Wed, 14 Dec 2022   Prob (F-statistic):           1.19e-30\n",
              "Time:                        18:43:30   Log-Likelihood:                -118.59\n",
              "No. Observations:                 100   AIC:                             241.2\n",
              "Df Residuals:                      98   BIC:                             246.4\n",
              "Df Model:                           1                                         \n",
              "Covariance Type:            nonrobust                                         \n",
              "==============================================================================\n",
              "                 coef    std err          t      P>|t|      [0.025      0.975]\n",
              "------------------------------------------------------------------------------\n",
              "Intercept     -6.5562      0.615    -10.655      0.000      -7.777      -5.335\n",
              "X_1            0.4177      0.025     16.821      0.000       0.368       0.467\n",
              "==============================================================================\n",
              "Omnibus:                       33.952   Durbin-Watson:                   1.812\n",
              "Prob(Omnibus):                  0.000   Jarque-Bera (JB):              101.640\n",
              "Skew:                          -1.133   Prob(JB):                     8.50e-23\n",
              "Kurtosis:                       7.388   Cond. No.                         191.\n",
              "==============================================================================\n",
              "\n",
              "Notes:\n",
              "[1] Standard Errors assume that the covariance matrix of the errors is correctly specified.\n",
              "\"\"\""
            ],
            "text/html": [
              "<table class=\"simpletable\">\n",
              "<caption>OLS Regression Results</caption>\n",
              "<tr>\n",
              "  <th>Dep. Variable:</th>           <td>y1</td>        <th>  R-squared:         </th> <td>   0.743</td>\n",
              "</tr>\n",
              "<tr>\n",
              "  <th>Model:</th>                   <td>OLS</td>       <th>  Adj. R-squared:    </th> <td>   0.740</td>\n",
              "</tr>\n",
              "<tr>\n",
              "  <th>Method:</th>             <td>Least Squares</td>  <th>  F-statistic:       </th> <td>   283.0</td>\n",
              "</tr>\n",
              "<tr>\n",
              "  <th>Date:</th>             <td>Wed, 14 Dec 2022</td> <th>  Prob (F-statistic):</th> <td>1.19e-30</td>\n",
              "</tr>\n",
              "<tr>\n",
              "  <th>Time:</th>                 <td>18:43:30</td>     <th>  Log-Likelihood:    </th> <td> -118.59</td>\n",
              "</tr>\n",
              "<tr>\n",
              "  <th>No. Observations:</th>      <td>   100</td>      <th>  AIC:               </th> <td>   241.2</td>\n",
              "</tr>\n",
              "<tr>\n",
              "  <th>Df Residuals:</th>          <td>    98</td>      <th>  BIC:               </th> <td>   246.4</td>\n",
              "</tr>\n",
              "<tr>\n",
              "  <th>Df Model:</th>              <td>     1</td>      <th>                     </th>     <td> </td>   \n",
              "</tr>\n",
              "<tr>\n",
              "  <th>Covariance Type:</th>      <td>nonrobust</td>    <th>                     </th>     <td> </td>   \n",
              "</tr>\n",
              "</table>\n",
              "<table class=\"simpletable\">\n",
              "<tr>\n",
              "      <td></td>         <th>coef</th>     <th>std err</th>      <th>t</th>      <th>P>|t|</th>  <th>[0.025</th>    <th>0.975]</th>  \n",
              "</tr>\n",
              "<tr>\n",
              "  <th>Intercept</th> <td>   -6.5562</td> <td>    0.615</td> <td>  -10.655</td> <td> 0.000</td> <td>   -7.777</td> <td>   -5.335</td>\n",
              "</tr>\n",
              "<tr>\n",
              "  <th>X_1</th>       <td>    0.4177</td> <td>    0.025</td> <td>   16.821</td> <td> 0.000</td> <td>    0.368</td> <td>    0.467</td>\n",
              "</tr>\n",
              "</table>\n",
              "<table class=\"simpletable\">\n",
              "<tr>\n",
              "  <th>Omnibus:</th>       <td>33.952</td> <th>  Durbin-Watson:     </th> <td>   1.812</td>\n",
              "</tr>\n",
              "<tr>\n",
              "  <th>Prob(Omnibus):</th> <td> 0.000</td> <th>  Jarque-Bera (JB):  </th> <td> 101.640</td>\n",
              "</tr>\n",
              "<tr>\n",
              "  <th>Skew:</th>          <td>-1.133</td> <th>  Prob(JB):          </th> <td>8.50e-23</td>\n",
              "</tr>\n",
              "<tr>\n",
              "  <th>Kurtosis:</th>      <td> 7.388</td> <th>  Cond. No.          </th> <td>    191.</td>\n",
              "</tr>\n",
              "</table><br/><br/>Notes:<br/>[1] Standard Errors assume that the covariance matrix of the errors is correctly specified."
            ]
          },
          "metadata": {},
          "execution_count": 10
        }
      ]
    },
    {
      "cell_type": "code",
      "source": [
        "import statsmodels.api as sm\n",
        "from statsmodels.formula.api import ols\n",
        "\n",
        "model = ols('y1~X_1+X_2+X_3+C(X_4)+C(X_5)',\n",
        "            data=base1).fit()\n",
        "\n",
        "anova_result1 = sm.stats.anova_lm(model, typ=2) #tabla anova para encontrar sce y los grados de libertad del primer modelo\n",
        "print(anova_result1)\n",
        "\n",
        "model1 = ols('y1~X_1',\n",
        "            data=base1).fit()\n",
        "\n",
        "anova_result2 = sm.stats.anova_lm(model1, typ=2)  #tabla anova para encontrar sce y los grados de libertad del segundo modelo\n",
        "print(anova_result2)"
      ],
      "metadata": {
        "id": "OpGK6O1wki8I",
        "colab": {
          "base_uri": "https://localhost:8080/"
        },
        "outputId": "ebc4d2b8-9e62-4c4e-ca0d-641b063b478a"
      },
      "execution_count": null,
      "outputs": [
        {
          "output_type": "stream",
          "name": "stdout",
          "text": [
            "              sum_sq    df           F        PR(>F)\n",
            "C(X_4)      1.430695   1.0    2.286080  1.339300e-01\n",
            "C(X_5)      1.092227   2.0    0.872624  4.212464e-01\n",
            "X_1       176.930158   1.0  282.713252  6.031485e-30\n",
            "X_2         1.375500   1.0    2.197884  1.415811e-01\n",
            "X_3         0.833039   1.0    1.331096  2.515667e-01\n",
            "Residual   58.202099  93.0         NaN           NaN\n",
            "              sum_sq    df           F        PR(>F)\n",
            "X_1       181.169178   1.0  282.954029  1.190221e-30\n",
            "Residual   62.747222  98.0         NaN           NaN\n"
          ]
        }
      ]
    },
    {
      "cell_type": "code",
      "source": [
        "cme1=58.2021/93\n",
        "cme2=62.747/98\n",
        "print(cme1)\n",
        "print(cme2)"
      ],
      "metadata": {
        "id": "JuKQL3_ZrZgl",
        "colab": {
          "base_uri": "https://localhost:8080/"
        },
        "outputId": "d908cc01-b40d-48fa-e41f-1517d533ae74"
      },
      "execution_count": null,
      "outputs": [
        {
          "output_type": "stream",
          "name": "stdout",
          "text": [
            "0.6258290322580645\n",
            "0.6402755102040816\n"
          ]
        }
      ]
    },
    {
      "cell_type": "markdown",
      "source": [
        "#Supuestos que debe cumplir el modelo de regresión\n",
        "\n",
        "1) Test de White\n",
        "\n",
        "h0: Existe homocedasticidad en los residuos de los errores\n",
        "h1: Existe heterocedasticidad en los residuos de los errores\n",
        "\n",
        "2) Test de normalidad de los residuos (Jarque-Bera (JB):\t48.038)\n",
        "\n",
        "se puede apreciar en el resumen (ver summary ) de los datos que hicimos anteriormente.\n",
        "\n",
        "3) Test de autocorrelación\n",
        "\n",
        "aplicado en el modelo y1 =X_1+X_2+X_3+X_4+X_5"
      ],
      "metadata": {
        "id": "dpQobLbYjBTK"
      }
    },
    {
      "cell_type": "code",
      "source": [
        "from statsmodels.stats.diagnostic import het_white # import test de white\n",
        "white_test =het_white(model.resid, model.model.exog) #crear variable del test para aplicar modelo de white\n",
        "labels = ['LM Statistic', 'Lm-Test p-value'] #estadístico de prueba y p valor\n",
        "print(dict(zip(labels,white_test)))"
      ],
      "metadata": {
        "id": "F0m5YCONi_-O",
        "colab": {
          "base_uri": "https://localhost:8080/"
        },
        "outputId": "b088719b-2fb1-4306-c30b-f01a6139903a"
      },
      "execution_count": null,
      "outputs": [
        {
          "output_type": "stream",
          "name": "stdout",
          "text": [
            "{'LM Statistic': 56.04202495282491, 'Lm-Test p-value': 0.00013964044740193642}\n"
          ]
        }
      ]
    },
    {
      "cell_type": "markdown",
      "source": [
        "Normalidad de los residuos\n",
        "\n",
        "estadístico de prueba: Jarque-Bera (JB): 48.038\n",
        "\n",
        "valor p: Prob(JB):\t3.70e-11"
      ],
      "metadata": {
        "id": "47Qqb4fPnXT8"
      }
    },
    {
      "cell_type": "markdown",
      "source": [
        "Test de Durbin - Watson\n",
        "\n",
        "H0 : p=0\n",
        "H1 : p>0\n",
        "\n",
        "Durbin-Watson:\t1.825=d\n",
        "\n",
        "tenemos 5 regresores\n",
        "alfa 0.05\n",
        "valores de tabla\n",
        "dL: 1.57\n",
        "du: 1.78\n",
        "\n",
        "1.78 < d < 2.22  -> no existe autocorrelación\n"
      ],
      "metadata": {
        "id": "HZRuhVlvswa4"
      }
    },
    {
      "cell_type": "code",
      "source": [
        "#aplicar los supuestos en el modelo 2 y=x1 test de white\n",
        "white_test2 =het_white(model1.resid, model1.model.exog)\n",
        "labels = ['LM Statistic', 'Lm-Test p-value']\n",
        "print(dict(zip(labels,white_test2)))"
      ],
      "metadata": {
        "id": "uZgB6TeRyTNv",
        "colab": {
          "base_uri": "https://localhost:8080/"
        },
        "outputId": "732bb9f5-501f-4f7a-d247-0374e16c268c"
      },
      "execution_count": null,
      "outputs": [
        {
          "output_type": "stream",
          "name": "stdout",
          "text": [
            "{'LM Statistic': 20.515985186989194, 'Lm-Test p-value': 3.50760290623219e-05}\n"
          ]
        }
      ]
    },
    {
      "cell_type": "markdown",
      "source": [
        "\n",
        "Test de Durbin - Watson\n",
        "\n",
        "H0 : p=0 H1 : p>0\n",
        "\n",
        "Durbin-Watson: 1.812=d\n",
        "\n",
        "tenemos 5 regresores alfa 0.05 valores de tabla dL: 1.59 du: 1.63\n",
        "\n",
        "1.63 < d < 2.37 -> no existe autocorrelación"
      ],
      "metadata": {
        "id": "hO-E5R8MyuFj"
      }
    }
  ]
}