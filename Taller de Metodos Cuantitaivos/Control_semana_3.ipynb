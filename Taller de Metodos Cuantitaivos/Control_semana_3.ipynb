{
  "nbformat": 4,
  "nbformat_minor": 0,
  "metadata": {
    "colab": {
      "provenance": []
    },
    "kernelspec": {
      "name": "python3",
      "display_name": "Python 3"
    },
    "language_info": {
      "name": "python"
    }
  },
  "cells": [
    {
      "cell_type": "markdown",
      "source": [
        "1 Taller Semana 3<br>\n",
        "Problema<br>\n",
        "Una botillería vende y despacha 6.000 cervezas diarias, se sabe que cada cerveza por diversos inconventientes del despacho tiene un 4% de probabilidad de sufrir un desperfecto y ser devuelta a\n",
        "la botillería. <br> Determine:<br>\n",
        "<ol><li> El número esperado y desviación típica de cervezas despachadas que si son recibidas en un día.</li>\n",
        "<li>La probabilidad de tener más de 5.850 cervezas despachas en un día (resuelva esta pregunta aplicando el modelo binomial, poisson y normal).</li><li>\n",
        "¿Qué puede concluir de la respuesta anterior y el uso de los tres modelos?</li>\n"
      ],
      "metadata": {
        "id": "Q1O8MCk8SUAV"
      }
    },
    {
      "cell_type": "code",
      "execution_count": null,
      "metadata": {
        "colab": {
          "base_uri": "https://localhost:8080/"
        },
        "id": "JxBMbX5HSFNF",
        "outputId": "a8e7507e-cb8f-408c-a0f3-48a498c3daa3"
      },
      "outputs": [
        {
          "output_type": "stream",
          "name": "stdout",
          "text": [
            "Ejercicio 1\n",
            "============\n",
            "Casos favorables:\t5760.0\n",
            "Casos error:\t\t240.0\n",
            "Desviación: \t\t15.178932768808227\n",
            "\n",
            "\n",
            "Ejercicio 2\n",
            "============\n",
            "Distr. Binomial:\t0.999999999947556\n",
            "Distr. Poisson:\t\t0.8832772569651622\n",
            "Distr. Normal:\t\t0.999999997542135\n",
            "\n",
            "\n",
            "Ejercicio 3 (Conculsión)\n",
            "========================\n",
            "Las probabilidades tienen distinto grado de variación dependiendo del tipo\n",
            "de distribución que se emplea, así mismo también la precisión respecto a la cantidad\n",
            "de valores de la misma, por ejemplo si aplicamos una escala diferente en la escal\n",
            "de la distribucion normal, se obtienen una variacion en la probasbilidad\n"
          ]
        }
      ],
      "source": [
        "from statsmodels.distributions.empirical_distribution import ECDF\n",
        "import scipy.stats as stats\n",
        "import numpy as np\n",
        "import math\n",
        "\n",
        "import random\n",
        "\n",
        "def media(n, p):\n",
        "  return n*p\n",
        "\n",
        "def varianza(n, p):\n",
        "  return media(n,p)*(1-p)\n",
        "\n",
        "def desviacion(n, p):\n",
        "  return varianza(n, p) ** 0.5\n",
        "\n",
        "\n",
        "#ejercicio 1\n",
        "# condicion fav: no tener desperfecto\n",
        "\n",
        "casos_totales = 6000\n",
        "error = 0.04\n",
        "exito =  1 - error\n",
        "\n",
        "casos_favorables = 6000 * (exito)\n",
        "print(\"Ejercicio 1\\n============\")\n",
        "print(\"Casos favorables:\\t\" + str(casos_favorables))\n",
        "print(\"Casos error:\\t\\t\" + str(6000 * error))\n",
        "print(\"Desviación: \\t\\t\"+ str(desviacion(casos_totales, exito)))\n",
        "print(\"\\n\")\n",
        "print(\"Ejercicio 2\\n============\")\n",
        "x = 5850\n",
        "binom_ = stats.binom.cdf(x+1, casos_totales, exito) #al menos 5850\n",
        "print(\"Distr. Binomial:\\t\"+str(binom_))\n",
        "\n",
        "#x = nro de botellas x dia\n",
        "poisson_ = stats.poisson(media(casos_totales, exito)).cdf(x)\n",
        "print(\"Distr. Poisson:\\t\\t\"+str(poisson_))\n",
        "\n",
        "normal_ = stats.norm.cdf(x, loc=0, scale=1000)\n",
        "print(\"Distr. Normal:\\t\\t\"+str(normal_))\n",
        "\n",
        "# Concl.\n",
        "print(\"\\n\")\n",
        "print(\"Ejercicio 3 (Conculsión)\\n========================\")\n",
        "print(\"Las probabilidades tienen distinto grado de variación dependiendo del tipo\\n\" +\n",
        "\"de distribución que se emplea, así mismo también la precisión respecto a la cantidad\\n\" +\n",
        "\"de valores de la misma, por ejemplo, si aplicamos una escala diferente en la\\n\" +\n",
        "\"distribucion normal, se obtienen una variacion en la probasbilidad\")\n",
        "\n"
      ]
    }
  ]
}