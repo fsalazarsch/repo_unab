{
  "nbformat": 4,
  "nbformat_minor": 0,
  "metadata": {
    "colab": {
      "provenance": []
    },
    "kernelspec": {
      "name": "python3",
      "display_name": "Python 3"
    },
    "language_info": {
      "name": "python"
    }
  },
  "cells": [
    {
      "cell_type": "code",
      "source": [
        "import numpy as np\n",
        "import pandas as pd\n",
        "#Graficos\n",
        "import matplotlib.pyplot as plt\n",
        "import matplotlib as style\n",
        "#analisis\n",
        "import statsmodels.api as sm\n",
        "import scipy.stats as stats\n",
        "from scipy.stats import pearsonr"
      ],
      "metadata": {
        "id": "Qpo9-GIRD_hy"
      },
      "execution_count": null,
      "outputs": []
    },
    {
      "cell_type": "code",
      "execution_count": null,
      "metadata": {
        "colab": {
          "base_uri": "https://localhost:8080/",
          "height": 313
        },
        "id": "MxZuL8iYkD-l",
        "outputId": "e71d8b0c-2a67-42fb-ca72-66fd586359ab"
      },
      "outputs": [
        {
          "output_type": "stream",
          "name": "stdout",
          "text": [
            "1) Realice un diagrama de dispersion\n"
          ]
        },
        {
          "output_type": "display_data",
          "data": {
            "text/plain": [
              "<Figure size 432x288 with 1 Axes>"
            ],
            "image/png": "[encoded data removed]"
          },
          "metadata": {
            "needs_background": "light"
          }
        }
      ],
      "source": [
        "\n",
        "\n",
        "puntaje_parcial =  [60, 74, 66, 34, 60, 66, 57, 71, 39, 57]\n",
        "PP = np.array (puntaje_parcial)\n",
        "\n",
        "puntaje_final =  [72, 82, 75, 46, 73, 74, 70, 82, 60, 61]\n",
        "PF = np.array (puntaje_final)\n",
        "\n",
        "print(\"1) Realice un diagrama de dispersion\")\n",
        "plt.scatter(PP, PF)\n",
        "plt.title(\"Relación del puntaje obtenido en la prueba 1\")\n",
        "plt.xlabel(\"Puntaje Parcial\")\n",
        "plt.ylabel(\"Puntaje Final\")\n",
        "plt.show()\n",
        "\n"
      ]
    },
    {
      "cell_type": "code",
      "source": [
        "stats.pearsonr(PP, PF)"
      ],
      "metadata": {
        "colab": {
          "base_uri": "https://localhost:8080/"
        },
        "id": "kfS8gTPvGczt",
        "outputId": "cf56fea8-a5be-4df5-9d03-f20f75a4d835"
      },
      "execution_count": null,
      "outputs": [
        {
          "output_type": "execute_result",
          "data": {
            "text/plain": [
              "(0.9416490441739458, 4.725314347618984e-05)"
            ]
          },
          "metadata": {},
          "execution_count": 17
        }
      ]
    },
    {
      "cell_type": "markdown",
      "source": [
        "**Coeficiente de correlacion de pearson**<br>\n",
        "es el mismo de arriba solo que este es con la formula<br>\n",
        "El valor debe estar entre 1 y -1. Si el valor es -1 o 1 hay una correlacion perfecta, si es cero las variables son independientes<br>\n",
        "Si el valor [0.75, 1[ la asociacion lineal es positiva alta<br>\n",
        "Si el valor [-0.75, -1[ la asociacion lineal es negativa alta<br>\n",
        "Si el valor ]0, 0.5] la asociacion lineal es positiva baja<br>\n",
        "Si el valor ]0, -0.5] la asociacion lineal es negativa baja<br>\n",
        "\n",
        "Si el valor ]0.5, 0.75[ la asociacion lineal es positiva media<br>\n",
        "Si el valor ]-0.75, -0.5[ la asociacion lineal es negativa media<br>"
      ],
      "metadata": {
        "id": "-gOL-FkINrB9"
      }
    },
    {
      "cell_type": "code",
      "source": [
        "def covarianza_de_una_variable(array):\n",
        "  return sum(array**2) - (sum(array)**2)/len(array)\n",
        "\n",
        "def covarianza_de_dos_variables(x, y):\n",
        "  return sum(np.multiply(x,y)) - sum(x)* sum(y)/len(y)\n",
        "\n",
        "def coeficiente_correlacion_pearson(x, y):\n",
        "  SCXX = covarianza_de_una_variable(x)\n",
        "  SCYY = covarianza_de_una_variable(y)\n",
        "  SCXY = covarianza_de_dos_variables(x, y)\n",
        "  return  (SCXY)/((SCXX * SCYY)**0.5)\n",
        "\n",
        "def clasificacion_asociacion_lineal(phi):\n",
        "  ret =\"\"\n",
        "  if abs(phi) == 1:\n",
        "    return \"Correlacion perfecta\"\n",
        "  if phi == 0:\n",
        "    return \"Variables independientes\"\n",
        "\n",
        "  if abs(phi) > 0 and abs(phi) <= 0.5:\n",
        "     ret += \"Correlacion baja\"\n",
        "\n",
        "  if abs(phi) > 0.5 and abs(phi) < 0.75:\n",
        "     ret += \"Correlacion media\"\n",
        "\n",
        "  if abs(phi) >= 0.75 and abs(phi) < 1:\n",
        "     ret += \"Correlacion alta\"\n",
        "\n",
        "  if phi > 0:\n",
        "    ret += \" positiva\"\n",
        "  else:\n",
        "    ret += \" negativa\"\n",
        "  return ret\n",
        "\n",
        "\n",
        "phi = coeficiente_correlacion_pearson(PP,PF)\n",
        "print( clasificacion_asociacion_lineal(phi) )"
      ],
      "metadata": {
        "colab": {
          "base_uri": "https://localhost:8080/"
        },
        "id": "yAUKXXr5Hnpf",
        "outputId": "417536d1-3e6c-42e8-c8c0-9c9ea54074cc"
      },
      "execution_count": null,
      "outputs": [
        {
          "output_type": "stream",
          "name": "stdout",
          "text": [
            "Correlacion alta positiva\n"
          ]
        }
      ]
    },
    {
      "cell_type": "code",
      "source": [],
      "metadata": {
        "id": "tH7ILCPPIYgz"
      },
      "execution_count": null,
      "outputs": []
    }
  ]
}