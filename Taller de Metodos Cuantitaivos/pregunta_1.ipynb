{
  "nbformat": 4,
  "nbformat_minor": 0,
  "metadata": {
    "colab": {
      "provenance": []
    },
    "kernelspec": {
      "name": "python3",
      "display_name": "Python 3"
    },
    "language_info": {
      "name": "python"
    }
  },
  "cells": [
    {
      "cell_type": "markdown",
      "source": [
        "a) Determine el modelo de regresión lineal que le permita entender la relación entre la variable PIB_per_cápita y las variables regresoras Mortalidad_Infantil, Tasa_Alfabetismo_Femenino y Tasa_fecundidad.<br>\n",
        "b) ¿Qué puede concluir respecto de los estadísticos globales del modelo?<br>\n",
        "c)¿Qué puede concluir respecto de los estadísticos individuales del modelo?"
      ],
      "metadata": {
        "id": "UjxT-MrAIc-b"
      }
    },
    {
      "cell_type": "code",
      "source": [
        "# Cargamos las librerias\n",
        "import pandas as pd\n",
        "import numpy as np\n",
        "import scipy.stats as ss\n",
        "import statsmodels.formula.api as smf"
      ],
      "metadata": {
        "id": "2noeRRg-HGoQ"
      },
      "execution_count": null,
      "outputs": []
    },
    {
      "cell_type": "code",
      "source": [
        "#importamos el csv como nuestra base de datos\n",
        "bdd = pd.read_csv('solemne_forma_1.csv', sep=';', decimal=\",\")\n",
        "bdd.head()"
      ],
      "metadata": {
        "colab": {
          "base_uri": "https://localhost:8080/",
          "height": 206
        },
        "id": "kyij2WywHNrA",
        "outputId": "a2c06066-74cc-4930-8376-1cdf02251b53"
      },
      "execution_count": null,
      "outputs": [
        {
          "output_type": "execute_result",
          "data": {
            "text/plain": [
              "   Mortalidad_Infantil  Tasa_Alfabetismo_Femenino  PIB_per_cápita  \\\n",
              "0                  128                         37            1870   \n",
              "1                  204                         22             130   \n",
              "2                  202                         16             310   \n",
              "3                  197                         65             570   \n",
              "4                   96                         76            2050   \n",
              "\n",
              "   Tasa_fecundidad  \n",
              "0             6.66  \n",
              "1             6.15  \n",
              "2             7.00  \n",
              "3             7.25  \n",
              "4             3.81  "
            ],
            "text/html": [
              "\n",
              "  <div id=\"df-0db75826-461a-4e4f-be26-39a6836e33fe\">\n",
              "    <div class=\"colab-df-container\">\n",
              "      <div>\n",
              "<style scoped>\n",
              "    .dataframe tbody tr th:only-of-type {\n",
              "        vertical-align: middle;\n",
              "    }\n",
              "\n",
              "    .dataframe tbody tr th {\n",
              "        vertical-align: top;\n",
              "    }\n",
              "\n",
              "    .dataframe thead th {\n",
              "        text-align: right;\n",
              "    }\n",
              "</style>\n",
              "<table border=\"1\" class=\"dataframe\">\n",
              "  <thead>\n",
              "    <tr style=\"text-align: right;\">\n",
              "      <th></th>\n",
              "      <th>Mortalidad_Infantil</th>\n",
              "      <th>Tasa_Alfabetismo_Femenino</th>\n",
              "      <th>PIB_per_cápita</th>\n",
              "      <th>Tasa_fecundidad</th>\n",
              "    </tr>\n",
              "  </thead>\n",
              "  <tbody>\n",
              "    <tr>\n",
              "      <th>0</th>\n",
              "      <td>128</td>\n",
              "      <td>37</td>\n",
              "      <td>1870</td>\n",
              "      <td>6.66</td>\n",
              "    </tr>\n",
              "    <tr>\n",
              "      <th>1</th>\n",
              "      <td>204</td>\n",
              "      <td>22</td>\n",
              "      <td>130</td>\n",
              "      <td>6.15</td>\n",
              "    </tr>\n",
              "    <tr>\n",
              "      <th>2</th>\n",
              "      <td>202</td>\n",
              "      <td>16</td>\n",
              "      <td>310</td>\n",
              "      <td>7.00</td>\n",
              "    </tr>\n",
              "    <tr>\n",
              "      <th>3</th>\n",
              "      <td>197</td>\n",
              "      <td>65</td>\n",
              "      <td>570</td>\n",
              "      <td>7.25</td>\n",
              "    </tr>\n",
              "    <tr>\n",
              "      <th>4</th>\n",
              "      <td>96</td>\n",
              "      <td>76</td>\n",
              "      <td>2050</td>\n",
              "      <td>3.81</td>\n",
              "    </tr>\n",
              "  </tbody>\n",
              "</table>\n",
              "</div>\n",
              "      <button class=\"colab-df-convert\" onclick=\"convertToInteractive('df-0db75826-461a-4e4f-be26-39a6836e33fe')\"\n",
              "              title=\"Convert this dataframe to an interactive table.\"\n",
              "              style=\"display:none;\">\n",
              "        \n",
              "  <svg xmlns=\"http://www.w3.org/2000/svg\" height=\"24px\"viewBox=\"0 0 24 24\"\n",
              "       width=\"24px\">\n",
              "    <path d=\"M0 0h24v24H0V0z\" fill=\"none\"/>\n",
              "    <path d=\"M18.56 5.44l.94 2.06.94-2.06 2.06-.94-2.06-.94-.94-2.06-.94 2.06-2.06.94zm-11 1L8.5 8.5l.94-2.06 2.06-.94-2.06-.94L8.5 2.5l-.94 2.06-2.06.94zm10 10l.94 2.06.94-2.06 2.06-.94-2.06-.94-.94-2.06-.94 2.06-2.06.94z\"/><path d=\"M17.41 7.96l-1.37-1.37c-.4-.4-.92-.59-1.43-.59-.52 0-1.04.2-1.43.59L10.3 9.45l-7.72 7.72c-.78.78-.78 2.05 0 2.83L4 21.41c.39.39.9.59 1.41.59.51 0 1.02-.2 1.41-.59l7.78-7.78 2.81-2.81c.8-.78.8-2.07 0-2.86zM5.41 20L4 18.59l7.72-7.72 1.47 1.35L5.41 20z\"/>\n",
              "  </svg>\n",
              "      </button>\n",
              "      \n",
              "  <style>\n",
              "    .colab-df-container {\n",
              "      display:flex;\n",
              "      flex-wrap:wrap;\n",
              "      gap: 12px;\n",
              "    }\n",
              "\n",
              "    .colab-df-convert {\n",
              "      background-color: #E8F0FE;\n",
              "      border: none;\n",
              "      border-radius: 50%;\n",
              "      cursor: pointer;\n",
              "      display: none;\n",
              "      fill: #1967D2;\n",
              "      height: 32px;\n",
              "      padding: 0 0 0 0;\n",
              "      width: 32px;\n",
              "    }\n",
              "\n",
              "    .colab-df-convert:hover {\n",
              "      background-color: #E2EBFA;\n",
              "      box-shadow: 0px 1px 2px rgba(60, 64, 67, 0.3), 0px 1px 3px 1px rgba(60, 64, 67, 0.15);\n",
              "      fill: #174EA6;\n",
              "    }\n",
              "\n",
              "    [theme=dark] .colab-df-convert {\n",
              "      background-color: #3B4455;\n",
              "      fill: #D2E3FC;\n",
              "    }\n",
              "\n",
              "    [theme=dark] .colab-df-convert:hover {\n",
              "      background-color: #434B5C;\n",
              "      box-shadow: 0px 1px 3px 1px rgba(0, 0, 0, 0.15);\n",
              "      filter: drop-shadow(0px 1px 2px rgba(0, 0, 0, 0.3));\n",
              "      fill: #FFFFFF;\n",
              "    }\n",
              "  </style>\n",
              "\n",
              "      <script>\n",
              "        const buttonEl =\n",
              "          document.querySelector('#df-0db75826-461a-4e4f-be26-39a6836e33fe button.colab-df-convert');\n",
              "        buttonEl.style.display =\n",
              "          google.colab.kernel.accessAllowed ? 'block' : 'none';\n",
              "\n",
              "        async function convertToInteractive(key) {\n",
              "          const element = document.querySelector('#df-0db75826-461a-4e4f-be26-39a6836e33fe');\n",
              "          const dataTable =\n",
              "            await google.colab.kernel.invokeFunction('convertToInteractive',\n",
              "                                                     [key], {});\n",
              "          if (!dataTable) return;\n",
              "\n",
              "          const docLinkHtml = 'Like what you see? Visit the ' +\n",
              "            '<a target=\"_blank\" href=https://colab.research.google.com/notebooks/data_table.ipynb>data table notebook</a>'\n",
              "            + ' to learn more about interactive tables.';\n",
              "          element.innerHTML = '';\n",
              "          dataTable['output_type'] = 'display_data';\n",
              "          await google.colab.output.renderOutput(dataTable, element);\n",
              "          const docLink = document.createElement('div');\n",
              "          docLink.innerHTML = docLinkHtml;\n",
              "          element.appendChild(docLink);\n",
              "        }\n",
              "      </script>\n",
              "    </div>\n",
              "  </div>\n",
              "  "
            ]
          },
          "metadata": {},
          "execution_count": 3
        }
      ]
    },
    {
      "cell_type": "code",
      "source": [
        "#verificamos que este bien formateado\n",
        "bdd.info()"
      ],
      "metadata": {
        "colab": {
          "base_uri": "https://localhost:8080/"
        },
        "id": "LDAXhjhLHdDY",
        "outputId": "7bdd00a7-cac4-4bd3-b0fc-9c8b059243b4"
      },
      "execution_count": null,
      "outputs": [
        {
          "output_type": "stream",
          "name": "stdout",
          "text": [
            "<class 'pandas.core.frame.DataFrame'>\n",
            "RangeIndex: 64 entries, 0 to 63\n",
            "Data columns (total 4 columns):\n",
            " #   Column                     Non-Null Count  Dtype  \n",
            "---  ------                     --------------  -----  \n",
            " 0   Mortalidad_Infantil        64 non-null     int64  \n",
            " 1   Tasa_Alfabetismo_Femenino  64 non-null     int64  \n",
            " 2   PIB_per_cápita             64 non-null     int64  \n",
            " 3   Tasa_fecundidad            64 non-null     float64\n",
            "dtypes: float64(1), int64(3)\n",
            "memory usage: 2.1 KB\n"
          ]
        }
      ]
    },
    {
      "cell_type": "code",
      "source": [
        "# Usamos el método de los mínimos cuadrados (ols) para ajustar la regresión lineal\n",
        "mod1 = smf.ols('PIB_per_cápita ~ Mortalidad_Infantil+\tTasa_Alfabetismo_Femenino+Tasa_fecundidad', bdd).fit()\n",
        "# Desplegamos resultados del modelo\n",
        "mod1.summary()"
      ],
      "metadata": {
        "colab": {
          "base_uri": "https://localhost:8080/",
          "height": 529
        },
        "id": "tOgYLYqqHnid",
        "outputId": "6636f842-fdcc-4644-e0e7-39383a7e50ed"
      },
      "execution_count": null,
      "outputs": [
        {
          "output_type": "execute_result",
          "data": {
            "text/plain": [
              "<class 'statsmodels.iolib.summary.Summary'>\n",
              "\"\"\"\n",
              "                            OLS Regression Results                            \n",
              "==============================================================================\n",
              "Dep. Variable:         PIB_per_cápita   R-squared:                       0.164\n",
              "Model:                            OLS   Adj. R-squared:                  0.122\n",
              "Method:                 Least Squares   F-statistic:                     3.931\n",
              "Date:                Tue, 03 Jan 2023   Prob (F-statistic):             0.0125\n",
              "Time:                        00:54:52   Log-Likelihood:                -590.85\n",
              "No. Observations:                  64   AIC:                             1190.\n",
              "Df Residuals:                      60   BIC:                             1198.\n",
              "Df Model:                           3                                         \n",
              "Covariance Type:            nonrobust                                         \n",
              "=============================================================================================\n",
              "                                coef    std err          t      P>|t|      [0.025      0.975]\n",
              "---------------------------------------------------------------------------------------------\n",
              "Intercept                  3825.5536   2489.125      1.537      0.130   -1153.439    8804.546\n",
              "Mortalidad_Infantil         -18.6792      7.284     -2.565      0.013     -33.249      -4.110\n",
              "Tasa_Alfabetismo_Femenino   -11.4455     21.377     -0.535      0.594     -54.206      31.315\n",
              "Tasa_fecundidad             139.0045    279.714      0.497      0.621    -420.507     698.516\n",
              "==============================================================================\n",
              "Omnibus:                      103.449   Durbin-Watson:                   2.335\n",
              "Prob(Omnibus):                  0.000   Jarque-Bera (JB):             2524.104\n",
              "Skew:                           4.931   Prob(JB):                         0.00\n",
              "Kurtosis:                      32.142   Cond. No.                     1.28e+03\n",
              "==============================================================================\n",
              "\n",
              "Notes:\n",
              "[1] Standard Errors assume that the covariance matrix of the errors is correctly specified.\n",
              "[2] The condition number is large, 1.28e+03. This might indicate that there are\n",
              "strong multicollinearity or other numerical problems.\n",
              "\"\"\""
            ],
            "text/html": [
              "<table class=\"simpletable\">\n",
              "<caption>OLS Regression Results</caption>\n",
              "<tr>\n",
              "  <th>Dep. Variable:</th>     <td>PIB_per_cápita</td>  <th>  R-squared:         </th> <td>   0.164</td>\n",
              "</tr>\n",
              "<tr>\n",
              "  <th>Model:</th>                   <td>OLS</td>       <th>  Adj. R-squared:    </th> <td>   0.122</td>\n",
              "</tr>\n",
              "<tr>\n",
              "  <th>Method:</th>             <td>Least Squares</td>  <th>  F-statistic:       </th> <td>   3.931</td>\n",
              "</tr>\n",
              "<tr>\n",
              "  <th>Date:</th>             <td>Tue, 03 Jan 2023</td> <th>  Prob (F-statistic):</th>  <td>0.0125</td> \n",
              "</tr>\n",
              "<tr>\n",
              "  <th>Time:</th>                 <td>00:54:52</td>     <th>  Log-Likelihood:    </th> <td> -590.85</td>\n",
              "</tr>\n",
              "<tr>\n",
              "  <th>No. Observations:</th>      <td>    64</td>      <th>  AIC:               </th> <td>   1190.</td>\n",
              "</tr>\n",
              "<tr>\n",
              "  <th>Df Residuals:</th>          <td>    60</td>      <th>  BIC:               </th> <td>   1198.</td>\n",
              "</tr>\n",
              "<tr>\n",
              "  <th>Df Model:</th>              <td>     3</td>      <th>                     </th>     <td> </td>   \n",
              "</tr>\n",
              "<tr>\n",
              "  <th>Covariance Type:</th>      <td>nonrobust</td>    <th>                     </th>     <td> </td>   \n",
              "</tr>\n",
              "</table>\n",
              "<table class=\"simpletable\">\n",
              "<tr>\n",
              "              <td></td>                 <th>coef</th>     <th>std err</th>      <th>t</th>      <th>P>|t|</th>  <th>[0.025</th>    <th>0.975]</th>  \n",
              "</tr>\n",
              "<tr>\n",
              "  <th>Intercept</th>                 <td> 3825.5536</td> <td> 2489.125</td> <td>    1.537</td> <td> 0.130</td> <td>-1153.439</td> <td> 8804.546</td>\n",
              "</tr>\n",
              "<tr>\n",
              "  <th>Mortalidad_Infantil</th>       <td>  -18.6792</td> <td>    7.284</td> <td>   -2.565</td> <td> 0.013</td> <td>  -33.249</td> <td>   -4.110</td>\n",
              "</tr>\n",
              "<tr>\n",
              "  <th>Tasa_Alfabetismo_Femenino</th> <td>  -11.4455</td> <td>   21.377</td> <td>   -0.535</td> <td> 0.594</td> <td>  -54.206</td> <td>   31.315</td>\n",
              "</tr>\n",
              "<tr>\n",
              "  <th>Tasa_fecundidad</th>           <td>  139.0045</td> <td>  279.714</td> <td>    0.497</td> <td> 0.621</td> <td> -420.507</td> <td>  698.516</td>\n",
              "</tr>\n",
              "</table>\n",
              "<table class=\"simpletable\">\n",
              "<tr>\n",
              "  <th>Omnibus:</th>       <td>103.449</td> <th>  Durbin-Watson:     </th> <td>   2.335</td>\n",
              "</tr>\n",
              "<tr>\n",
              "  <th>Prob(Omnibus):</th> <td> 0.000</td>  <th>  Jarque-Bera (JB):  </th> <td>2524.104</td>\n",
              "</tr>\n",
              "<tr>\n",
              "  <th>Skew:</th>          <td> 4.931</td>  <th>  Prob(JB):          </th> <td>    0.00</td>\n",
              "</tr>\n",
              "<tr>\n",
              "  <th>Kurtosis:</th>      <td>32.142</td>  <th>  Cond. No.          </th> <td>1.28e+03</td>\n",
              "</tr>\n",
              "</table><br/><br/>Notes:<br/>[1] Standard Errors assume that the covariance matrix of the errors is correctly specified.<br/>[2] The condition number is large, 1.28e+03. This might indicate that there are<br/>strong multicollinearity or other numerical problems."
            ]
          },
          "metadata": {},
          "execution_count": 5
        }
      ]
    },
    {
      "cell_type": "markdown",
      "source": [
        "a) Utilizando los datos desplegados por el summary, el modelo de regresión lineal es:<br>\n",
        "$pib\\_per\\_cápita=3825.5536−18.6792∗Mortalidad\\_Infantil−11.4455∗Tasa\\_Alfabetismo\\_Femenino+139.0045∗Tasa\\_fecundidad$"
      ],
      "metadata": {
        "id": "m_A1vTlgIVCJ"
      }
    },
    {
      "cell_type": "markdown",
      "source": [
        "b) A partir de los valores de F estadistico, R2 y R2 Adj podemos concluir que el modelo es capaz de explicar en un 12.2% la varianza.\n",
        "En cuanto a F, es significativo ($F_{estadistico} < p_{valor}$). <br>\n",
        "Teniendo que:<br>\n",
        "$H_0 = los\\ coeficientes\\ de\\ regresiones\\ son\\ iguales\\ a\\ cero$<br>\n",
        "$H_1 = Al\\ menos\\ un\\ coeficiente\\ debe\\ ser\\ son\\ distinto \\ de\\ cero$<br>\n",
        "En vista de los datos obtenidos, Se rechaza la hipótesis nula.\n"
      ],
      "metadata": {
        "id": "NvMut4xfJyhF"
      }
    },
    {
      "cell_type": "markdown",
      "metadata": {
        "id": "KXecSjutJ3IV"
      },
      "source": [
        "c)\n",
        "Teniendo que la hipotesis nula para las variables es :<br>\n",
        "$H_0 = los\\ coeficientes\\ de\\ regresion\\ lineal\\ es\\ igual\\ a\\ cero$<hr>\n",
        "Los coeficientes asociados a la variable Mortalidad_Infantil mantienen un t estadísticamente significativo ($ t_{estadistico} < p_{valor}$), por lo que se rechaza la hipótesis nula para estas variables.<br>En los casos de  Tasa_Alfabetismo_Femenino y Tasa_fecundidad se acepta la hipótesis nula por lo que su coeficiente de regresión es igual a cero.\n"
      ]
    }
  ]
}