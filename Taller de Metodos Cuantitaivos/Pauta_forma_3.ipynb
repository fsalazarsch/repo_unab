{
  "nbformat": 4,
  "nbformat_minor": 0,
  "metadata": {
    "colab": {
      "provenance": []
    },
    "kernelspec": {
      "name": "python3",
      "display_name": "Python 3"
    }
  },
  "cells": [
    {
      "cell_type": "markdown",
      "metadata": {
        "id": "AYeNHOtNIVNi"
      },
      "source": [
        "# Instrucciones\n",
        "\n",
        "1. Determine el modelo de regresión lineal que le permita entender la relación entre la variable Gastos y las variables regresoras Años_capacitación, Años_Cargo, Años_Compañía\ty Edad.\n",
        "2. ¿Qué puede concluir respecto de los estadísticos globales del modelo?\n",
        "3. ¿Qué puede concluir respecto de los estadísticos individuales del modelo?"
      ]
    },
    {
      "cell_type": "code",
      "metadata": {
        "id": "GaPGR1cKGYuZ"
      },
      "source": [
        "import pandas as pd\n",
        "import numpy as np\n",
        "import scipy.stats as ss\n",
        "import statsmodels.formula.api as smf # Nos permite ajustar el modelo de regresión"
      ],
      "execution_count": null,
      "outputs": []
    },
    {
      "cell_type": "code",
      "metadata": {
        "id": "HJHVbPpYGjr1"
      },
      "source": [
        "# Importamos la base de datos y la denominamos df por \"data frame\"\n",
        "df = pd.read_csv('solemne_forma_3.csv', sep=';', decimal=\",\")"
      ],
      "execution_count": null,
      "outputs": []
    },
    {
      "cell_type": "code",
      "metadata": {
        "colab": {
          "base_uri": "https://localhost:8080/",
          "height": 404
        },
        "id": "dgjob6vnGrEk",
        "outputId": "bd51f08a-1030-4307-b73b-e5c999d0e6e6"
      },
      "source": [
        "df"
      ],
      "execution_count": null,
      "outputs": [
        {
          "output_type": "execute_result",
          "data": {
            "text/html": [
              "<div>\n",
              "<style scoped>\n",
              "    .dataframe tbody tr th:only-of-type {\n",
              "        vertical-align: middle;\n",
              "    }\n",
              "\n",
              "    .dataframe tbody tr th {\n",
              "        vertical-align: top;\n",
              "    }\n",
              "\n",
              "    .dataframe thead th {\n",
              "        text-align: right;\n",
              "    }\n",
              "</style>\n",
              "<table border=\"1\" class=\"dataframe\">\n",
              "  <thead>\n",
              "    <tr style=\"text-align: right;\">\n",
              "      <th></th>\n",
              "      <th>Gastos</th>\n",
              "      <th>Años_capacitación</th>\n",
              "      <th>Años_Cargo</th>\n",
              "      <th>Años_Compañía</th>\n",
              "      <th>Edad</th>\n",
              "    </tr>\n",
              "  </thead>\n",
              "  <tbody>\n",
              "    <tr>\n",
              "      <th>0</th>\n",
              "      <td>847112.0</td>\n",
              "      <td>21</td>\n",
              "      <td>1</td>\n",
              "      <td>2</td>\n",
              "      <td>34.746119</td>\n",
              "    </tr>\n",
              "    <tr>\n",
              "      <th>1</th>\n",
              "      <td>1067445.0</td>\n",
              "      <td>16</td>\n",
              "      <td>1</td>\n",
              "      <td>2</td>\n",
              "      <td>56.215982</td>\n",
              "    </tr>\n",
              "    <tr>\n",
              "      <th>2</th>\n",
              "      <td>2186990.0</td>\n",
              "      <td>10</td>\n",
              "      <td>1</td>\n",
              "      <td>3</td>\n",
              "      <td>46.838813</td>\n",
              "    </tr>\n",
              "    <tr>\n",
              "      <th>3</th>\n",
              "      <td>3651382.0</td>\n",
              "      <td>0</td>\n",
              "      <td>1</td>\n",
              "      <td>3</td>\n",
              "      <td>57.868950</td>\n",
              "    </tr>\n",
              "    <tr>\n",
              "      <th>4</th>\n",
              "      <td>1205573.0</td>\n",
              "      <td>14</td>\n",
              "      <td>1</td>\n",
              "      <td>3</td>\n",
              "      <td>33.210502</td>\n",
              "    </tr>\n",
              "    <tr>\n",
              "      <th>...</th>\n",
              "      <td>...</td>\n",
              "      <td>...</td>\n",
              "      <td>...</td>\n",
              "      <td>...</td>\n",
              "      <td>...</td>\n",
              "    </tr>\n",
              "    <tr>\n",
              "      <th>980</th>\n",
              "      <td>2970844.0</td>\n",
              "      <td>8</td>\n",
              "      <td>1</td>\n",
              "      <td>3</td>\n",
              "      <td>46.329452</td>\n",
              "    </tr>\n",
              "    <tr>\n",
              "      <th>981</th>\n",
              "      <td>1789115.0</td>\n",
              "      <td>11</td>\n",
              "      <td>1</td>\n",
              "      <td>2</td>\n",
              "      <td>58.399087</td>\n",
              "    </tr>\n",
              "    <tr>\n",
              "      <th>982</th>\n",
              "      <td>2154232.0</td>\n",
              "      <td>13</td>\n",
              "      <td>1</td>\n",
              "      <td>3</td>\n",
              "      <td>32.516438</td>\n",
              "    </tr>\n",
              "    <tr>\n",
              "      <th>983</th>\n",
              "      <td>846427.0</td>\n",
              "      <td>0</td>\n",
              "      <td>1</td>\n",
              "      <td>3</td>\n",
              "      <td>33.802055</td>\n",
              "    </tr>\n",
              "    <tr>\n",
              "      <th>984</th>\n",
              "      <td>2465356.0</td>\n",
              "      <td>0</td>\n",
              "      <td>2</td>\n",
              "      <td>3</td>\n",
              "      <td>33.802055</td>\n",
              "    </tr>\n",
              "  </tbody>\n",
              "</table>\n",
              "<p>985 rows × 5 columns</p>\n",
              "</div>"
            ],
            "text/plain": [
              "        Gastos  Años_capacitación  Años_Cargo  Años_Compañía       Edad\n",
              "0     847112.0                 21           1              2  34.746119\n",
              "1    1067445.0                 16           1              2  56.215982\n",
              "2    2186990.0                 10           1              3  46.838813\n",
              "3    3651382.0                  0           1              3  57.868950\n",
              "4    1205573.0                 14           1              3  33.210502\n",
              "..         ...                ...         ...            ...        ...\n",
              "980  2970844.0                  8           1              3  46.329452\n",
              "981  1789115.0                 11           1              2  58.399087\n",
              "982  2154232.0                 13           1              3  32.516438\n",
              "983   846427.0                  0           1              3  33.802055\n",
              "984  2465356.0                  0           2              3  33.802055\n",
              "\n",
              "[985 rows x 5 columns]"
            ]
          },
          "metadata": {
            "tags": []
          },
          "execution_count": 17
        }
      ]
    },
    {
      "cell_type": "code",
      "metadata": {
        "colab": {
          "base_uri": "https://localhost:8080/",
          "height": 286
        },
        "id": "6FzEGNpnHQo4",
        "outputId": "9029a7f6-c3d1-4d21-f1be-5a4eaf71c34a"
      },
      "source": [
        "df.describe()"
      ],
      "execution_count": null,
      "outputs": [
        {
          "output_type": "execute_result",
          "data": {
            "text/html": [
              "<div>\n",
              "<style scoped>\n",
              "    .dataframe tbody tr th:only-of-type {\n",
              "        vertical-align: middle;\n",
              "    }\n",
              "\n",
              "    .dataframe tbody tr th {\n",
              "        vertical-align: top;\n",
              "    }\n",
              "\n",
              "    .dataframe thead th {\n",
              "        text-align: right;\n",
              "    }\n",
              "</style>\n",
              "<table border=\"1\" class=\"dataframe\">\n",
              "  <thead>\n",
              "    <tr style=\"text-align: right;\">\n",
              "      <th></th>\n",
              "      <th>Gastos</th>\n",
              "      <th>Años_capacitación</th>\n",
              "      <th>Años_Cargo</th>\n",
              "      <th>Años_Compañía</th>\n",
              "      <th>Edad</th>\n",
              "    </tr>\n",
              "  </thead>\n",
              "  <tbody>\n",
              "    <tr>\n",
              "      <th>count</th>\n",
              "      <td>9.850000e+02</td>\n",
              "      <td>985.000000</td>\n",
              "      <td>985.000000</td>\n",
              "      <td>985.000000</td>\n",
              "      <td>985.000000</td>\n",
              "    </tr>\n",
              "    <tr>\n",
              "      <th>mean</th>\n",
              "      <td>1.523686e+06</td>\n",
              "      <td>12.395939</td>\n",
              "      <td>1.228426</td>\n",
              "      <td>2.647716</td>\n",
              "      <td>41.453666</td>\n",
              "    </tr>\n",
              "    <tr>\n",
              "      <th>std</th>\n",
              "      <td>1.003847e+06</td>\n",
              "      <td>8.483460</td>\n",
              "      <td>0.643608</td>\n",
              "      <td>0.735813</td>\n",
              "      <td>12.353589</td>\n",
              "    </tr>\n",
              "    <tr>\n",
              "      <th>min</th>\n",
              "      <td>1.000000e-29</td>\n",
              "      <td>0.000000</td>\n",
              "      <td>1.000000</td>\n",
              "      <td>1.000000</td>\n",
              "      <td>20.315753</td>\n",
              "    </tr>\n",
              "    <tr>\n",
              "      <th>25%</th>\n",
              "      <td>7.531140e+05</td>\n",
              "      <td>0.000000</td>\n",
              "      <td>1.000000</td>\n",
              "      <td>2.000000</td>\n",
              "      <td>31.510959</td>\n",
              "    </tr>\n",
              "    <tr>\n",
              "      <th>50%</th>\n",
              "      <td>1.253110e+06</td>\n",
              "      <td>14.000000</td>\n",
              "      <td>1.000000</td>\n",
              "      <td>3.000000</td>\n",
              "      <td>38.124429</td>\n",
              "    </tr>\n",
              "    <tr>\n",
              "      <th>75%</th>\n",
              "      <td>2.019736e+06</td>\n",
              "      <td>21.000000</td>\n",
              "      <td>1.000000</td>\n",
              "      <td>3.000000</td>\n",
              "      <td>51.602511</td>\n",
              "    </tr>\n",
              "    <tr>\n",
              "      <th>max</th>\n",
              "      <td>5.633724e+06</td>\n",
              "      <td>24.000000</td>\n",
              "      <td>9.000000</td>\n",
              "      <td>4.000000</td>\n",
              "      <td>74.832192</td>\n",
              "    </tr>\n",
              "  </tbody>\n",
              "</table>\n",
              "</div>"
            ],
            "text/plain": [
              "             Gastos  Años_capacitación  Años_Cargo  Años_Compañía        Edad\n",
              "count  9.850000e+02         985.000000  985.000000     985.000000  985.000000\n",
              "mean   1.523686e+06          12.395939    1.228426       2.647716   41.453666\n",
              "std    1.003847e+06           8.483460    0.643608       0.735813   12.353589\n",
              "min    1.000000e-29           0.000000    1.000000       1.000000   20.315753\n",
              "25%    7.531140e+05           0.000000    1.000000       2.000000   31.510959\n",
              "50%    1.253110e+06          14.000000    1.000000       3.000000   38.124429\n",
              "75%    2.019736e+06          21.000000    1.000000       3.000000   51.602511\n",
              "max    5.633724e+06          24.000000    9.000000       4.000000   74.832192"
            ]
          },
          "metadata": {
            "tags": []
          },
          "execution_count": 18
        }
      ]
    },
    {
      "cell_type": "markdown",
      "metadata": {
        "id": "KAo3IAUzJ8FX"
      },
      "source": [
        "# Solución\n",
        "\n",
        "1."
      ]
    },
    {
      "cell_type": "code",
      "metadata": {
        "id": "dB0qaJlAHRQi",
        "colab": {
          "base_uri": "https://localhost:8080/",
          "height": 478
        },
        "outputId": "e0bd7265-f666-4baa-8f7d-2a4331ca2efb"
      },
      "source": [
        "# Usamos el método de los mínimos cuadrados para ajustar la regresión lineal multiple\n",
        "Modelo = smf.ols('Gastos ~ Años_capacitación+Años_Cargo+Años_Compañía+Edad', df).fit() #Ajustamos el modelo\n",
        "# Usamos summary para pedir el resultado del modelo\n",
        "Modelo.summary()"
      ],
      "execution_count": null,
      "outputs": [
        {
          "output_type": "execute_result",
          "data": {
            "text/html": [
              "<table class=\"simpletable\">\n",
              "<caption>OLS Regression Results</caption>\n",
              "<tr>\n",
              "  <th>Dep. Variable:</th>         <td>Gastos</td>      <th>  R-squared:         </th> <td>   0.457</td> \n",
              "</tr>\n",
              "<tr>\n",
              "  <th>Model:</th>                   <td>OLS</td>       <th>  Adj. R-squared:    </th> <td>   0.455</td> \n",
              "</tr>\n",
              "<tr>\n",
              "  <th>Method:</th>             <td>Least Squares</td>  <th>  F-statistic:       </th> <td>   206.3</td> \n",
              "</tr>\n",
              "<tr>\n",
              "  <th>Date:</th>             <td>Thu, 18 Mar 2021</td> <th>  Prob (F-statistic):</th> <td>2.29e-128</td>\n",
              "</tr>\n",
              "<tr>\n",
              "  <th>Time:</th>                 <td>02:47:10</td>     <th>  Log-Likelihood:    </th> <td> -14708.</td> \n",
              "</tr>\n",
              "<tr>\n",
              "  <th>No. Observations:</th>      <td>   985</td>      <th>  AIC:               </th> <td>2.943e+04</td>\n",
              "</tr>\n",
              "<tr>\n",
              "  <th>Df Residuals:</th>          <td>   980</td>      <th>  BIC:               </th> <td>2.945e+04</td>\n",
              "</tr>\n",
              "<tr>\n",
              "  <th>Df Model:</th>              <td>     4</td>      <th>                     </th>     <td> </td>    \n",
              "</tr>\n",
              "<tr>\n",
              "  <th>Covariance Type:</th>      <td>nonrobust</td>    <th>                     </th>     <td> </td>    \n",
              "</tr>\n",
              "</table>\n",
              "<table class=\"simpletable\">\n",
              "<tr>\n",
              "          <td></td>             <th>coef</th>     <th>std err</th>      <th>t</th>      <th>P>|t|</th>  <th>[0.025</th>    <th>0.975]</th>  \n",
              "</tr>\n",
              "<tr>\n",
              "  <th>Intercept</th>         <td> 1.631e+06</td> <td> 1.74e+05</td> <td>    9.353</td> <td> 0.000</td> <td> 1.29e+06</td> <td> 1.97e+06</td>\n",
              "</tr>\n",
              "<tr>\n",
              "  <th>Años_capacitación</th> <td>-6.807e+04</td> <td> 3372.577</td> <td>  -20.183</td> <td> 0.000</td> <td>-7.47e+04</td> <td>-6.15e+04</td>\n",
              "</tr>\n",
              "<tr>\n",
              "  <th>Años_Cargo</th>        <td>-1.694e+05</td> <td> 3.83e+04</td> <td>   -4.424</td> <td> 0.000</td> <td>-2.45e+05</td> <td>-9.43e+04</td>\n",
              "</tr>\n",
              "<tr>\n",
              "  <th>Años_Compañía</th>     <td> 1.067e+05</td> <td> 3.56e+04</td> <td>    2.994</td> <td> 0.003</td> <td> 3.68e+04</td> <td> 1.77e+05</td>\n",
              "</tr>\n",
              "<tr>\n",
              "  <th>Edad</th>              <td> 1.598e+04</td> <td> 2033.483</td> <td>    7.861</td> <td> 0.000</td> <td>  1.2e+04</td> <td>    2e+04</td>\n",
              "</tr>\n",
              "</table>\n",
              "<table class=\"simpletable\">\n",
              "<tr>\n",
              "  <th>Omnibus:</th>       <td>58.869</td> <th>  Durbin-Watson:     </th> <td>   2.075</td>\n",
              "</tr>\n",
              "<tr>\n",
              "  <th>Prob(Omnibus):</th> <td> 0.000</td> <th>  Jarque-Bera (JB):  </th> <td> 138.785</td>\n",
              "</tr>\n",
              "<tr>\n",
              "  <th>Skew:</th>          <td> 0.335</td> <th>  Prob(JB):          </th> <td>7.30e-31</td>\n",
              "</tr>\n",
              "<tr>\n",
              "  <th>Kurtosis:</th>      <td> 4.712</td> <th>  Cond. No.          </th> <td>    336.</td>\n",
              "</tr>\n",
              "</table><br/><br/>Warnings:<br/>[1] Standard Errors assume that the covariance matrix of the errors is correctly specified."
            ],
            "text/plain": [
              "<class 'statsmodels.iolib.summary.Summary'>\n",
              "\"\"\"\n",
              "                            OLS Regression Results                            \n",
              "==============================================================================\n",
              "Dep. Variable:                 Gastos   R-squared:                       0.457\n",
              "Model:                            OLS   Adj. R-squared:                  0.455\n",
              "Method:                 Least Squares   F-statistic:                     206.3\n",
              "Date:                Thu, 18 Mar 2021   Prob (F-statistic):          2.29e-128\n",
              "Time:                        02:47:10   Log-Likelihood:                -14708.\n",
              "No. Observations:                 985   AIC:                         2.943e+04\n",
              "Df Residuals:                     980   BIC:                         2.945e+04\n",
              "Df Model:                           4                                         \n",
              "Covariance Type:            nonrobust                                         \n",
              "=====================================================================================\n",
              "                        coef    std err          t      P>|t|      [0.025      0.975]\n",
              "-------------------------------------------------------------------------------------\n",
              "Intercept          1.631e+06   1.74e+05      9.353      0.000    1.29e+06    1.97e+06\n",
              "Años_capacitación -6.807e+04   3372.577    -20.183      0.000   -7.47e+04   -6.15e+04\n",
              "Años_Cargo        -1.694e+05   3.83e+04     -4.424      0.000   -2.45e+05   -9.43e+04\n",
              "Años_Compañía      1.067e+05   3.56e+04      2.994      0.003    3.68e+04    1.77e+05\n",
              "Edad               1.598e+04   2033.483      7.861      0.000     1.2e+04       2e+04\n",
              "==============================================================================\n",
              "Omnibus:                       58.869   Durbin-Watson:                   2.075\n",
              "Prob(Omnibus):                  0.000   Jarque-Bera (JB):              138.785\n",
              "Skew:                           0.335   Prob(JB):                     7.30e-31\n",
              "Kurtosis:                       4.712   Cond. No.                         336.\n",
              "==============================================================================\n",
              "\n",
              "Warnings:\n",
              "[1] Standard Errors assume that the covariance matrix of the errors is correctly specified.\n",
              "\"\"\""
            ]
          },
          "metadata": {
            "tags": []
          },
          "execution_count": 19
        }
      ]
    },
    {
      "cell_type": "markdown",
      "metadata": {
        "id": "KXecSjutJ3IV"
      },
      "source": [
        "1. El modelo obtenido es $Gastos=1.631exp^{6}-6.807exp^{4}* Años\\_capacitación-1.694exp^{5}*Años\\_Cargo+1.067exp^{5}*Años\\_Compañía+1.598exp^{4}*Edad$\n",
        "\n",
        "2. Análisis estadísticos globales. A partir de los valores de F, R2 y R2 Adj podemos concluir que el modelo es capaz de explicar cerca del 45% de la varianza. F es significativo ($F_{est} < pvalor$). Luego, se rechaza la hipótesis nula de que los coeficientes de regresiones son iguales a cero, por lo que al menos un coeficiente debe ser distinto de cero.\n",
        "\n",
        "3. Los coeficientes asociados a cada variable mantienen un test-t estadísticamente significativo ($ t_{est} < pvalor$), por lo que se rechaza la hipótesis nula para estas variables. Es decir, su coeficiente de regresión es distinto a cero.\n"
      ]
    }
  ]
}