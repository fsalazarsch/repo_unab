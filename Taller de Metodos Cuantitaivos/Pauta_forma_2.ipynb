{
  "nbformat": 4,
  "nbformat_minor": 0,
  "metadata": {
    "colab": {
      "provenance": []
    },
    "kernelspec": {
      "name": "python3",
      "display_name": "Python 3"
    }
  },
  "cells": [
    {
      "cell_type": "markdown",
      "metadata": {
        "id": "AYeNHOtNIVNi"
      },
      "source": [
        "# Instrucciones\n",
        "\n",
        "1. Determine el modelo de regresión lineal que le permita entender la relación entre la variable Gastos y las variables regresoras Años_capacitación, Años_Cargo, Años_Compañía\ty Edad.\n",
        "2. ¿Qué puede concluir respecto de los estadísticos globales del modelo?\n",
        "3. ¿Qué puede concluir respecto de los estadísticos individuales del modelo?"
      ]
    },
    {
      "cell_type": "code",
      "metadata": {
        "id": "GaPGR1cKGYuZ"
      },
      "source": [
        "import pandas as pd\n",
        "import numpy as np\n",
        "import scipy.stats as ss\n",
        "import statsmodels.formula.api as smf # Nos permite ajustar el modelo de regresión"
      ],
      "execution_count": null,
      "outputs": []
    },
    {
      "cell_type": "code",
      "metadata": {
        "id": "HJHVbPpYGjr1"
      },
      "source": [
        "# Importamos la base de datos y la denominamos df por \"data frame\"\n",
        "df = pd.read_csv('solemne_forma_2.csv', sep=';', decimal=\",\")"
      ],
      "execution_count": null,
      "outputs": []
    },
    {
      "cell_type": "code",
      "metadata": {
        "colab": {
          "base_uri": "https://localhost:8080/",
          "height": 404
        },
        "id": "dgjob6vnGrEk",
        "outputId": "639bde0b-ff69-44c0-d537-19a0f6e5942d"
      },
      "source": [
        "df"
      ],
      "execution_count": null,
      "outputs": [
        {
          "output_type": "execute_result",
          "data": {
            "text/html": [
              "<div>\n",
              "<style scoped>\n",
              "    .dataframe tbody tr th:only-of-type {\n",
              "        vertical-align: middle;\n",
              "    }\n",
              "\n",
              "    .dataframe tbody tr th {\n",
              "        vertical-align: top;\n",
              "    }\n",
              "\n",
              "    .dataframe thead th {\n",
              "        text-align: right;\n",
              "    }\n",
              "</style>\n",
              "<table border=\"1\" class=\"dataframe\">\n",
              "  <thead>\n",
              "    <tr style=\"text-align: right;\">\n",
              "      <th></th>\n",
              "      <th>Gastos</th>\n",
              "      <th>Años_capacitación</th>\n",
              "      <th>Años_Cargo</th>\n",
              "      <th>Años_Compañía</th>\n",
              "      <th>Edad</th>\n",
              "    </tr>\n",
              "  </thead>\n",
              "  <tbody>\n",
              "    <tr>\n",
              "      <th>0</th>\n",
              "      <td>1.321502e+06</td>\n",
              "      <td>11</td>\n",
              "      <td>1</td>\n",
              "      <td>2</td>\n",
              "      <td>54.250000</td>\n",
              "    </tr>\n",
              "    <tr>\n",
              "      <th>1</th>\n",
              "      <td>9.635870e+05</td>\n",
              "      <td>19</td>\n",
              "      <td>1</td>\n",
              "      <td>1</td>\n",
              "      <td>54.568493</td>\n",
              "    </tr>\n",
              "    <tr>\n",
              "      <th>2</th>\n",
              "      <td>1.000000e-29</td>\n",
              "      <td>0</td>\n",
              "      <td>1</td>\n",
              "      <td>3</td>\n",
              "      <td>33.263699</td>\n",
              "    </tr>\n",
              "    <tr>\n",
              "      <th>3</th>\n",
              "      <td>2.506052e+06</td>\n",
              "      <td>13</td>\n",
              "      <td>1</td>\n",
              "      <td>3</td>\n",
              "      <td>27.063014</td>\n",
              "    </tr>\n",
              "    <tr>\n",
              "      <th>4</th>\n",
              "      <td>4.082858e+06</td>\n",
              "      <td>0</td>\n",
              "      <td>1</td>\n",
              "      <td>3</td>\n",
              "      <td>61.896347</td>\n",
              "    </tr>\n",
              "    <tr>\n",
              "      <th>...</th>\n",
              "      <td>...</td>\n",
              "      <td>...</td>\n",
              "      <td>...</td>\n",
              "      <td>...</td>\n",
              "      <td>...</td>\n",
              "    </tr>\n",
              "    <tr>\n",
              "      <th>980</th>\n",
              "      <td>7.191680e+05</td>\n",
              "      <td>22</td>\n",
              "      <td>1</td>\n",
              "      <td>2</td>\n",
              "      <td>28.957763</td>\n",
              "    </tr>\n",
              "    <tr>\n",
              "      <th>981</th>\n",
              "      <td>8.006480e+05</td>\n",
              "      <td>19</td>\n",
              "      <td>1</td>\n",
              "      <td>2</td>\n",
              "      <td>28.960502</td>\n",
              "    </tr>\n",
              "    <tr>\n",
              "      <th>982</th>\n",
              "      <td>2.604411e+06</td>\n",
              "      <td>11</td>\n",
              "      <td>1</td>\n",
              "      <td>3</td>\n",
              "      <td>36.194064</td>\n",
              "    </tr>\n",
              "    <tr>\n",
              "      <th>983</th>\n",
              "      <td>5.367600e+05</td>\n",
              "      <td>24</td>\n",
              "      <td>1</td>\n",
              "      <td>1</td>\n",
              "      <td>24.521918</td>\n",
              "    </tr>\n",
              "    <tr>\n",
              "      <th>984</th>\n",
              "      <td>1.704063e+06</td>\n",
              "      <td>14</td>\n",
              "      <td>1</td>\n",
              "      <td>3</td>\n",
              "      <td>26.196804</td>\n",
              "    </tr>\n",
              "  </tbody>\n",
              "</table>\n",
              "<p>985 rows × 5 columns</p>\n",
              "</div>"
            ],
            "text/plain": [
              "           Gastos  Años_capacitación  Años_Cargo  Años_Compañía       Edad\n",
              "0    1.321502e+06                 11           1              2  54.250000\n",
              "1    9.635870e+05                 19           1              1  54.568493\n",
              "2    1.000000e-29                  0           1              3  33.263699\n",
              "3    2.506052e+06                 13           1              3  27.063014\n",
              "4    4.082858e+06                  0           1              3  61.896347\n",
              "..            ...                ...         ...            ...        ...\n",
              "980  7.191680e+05                 22           1              2  28.957763\n",
              "981  8.006480e+05                 19           1              2  28.960502\n",
              "982  2.604411e+06                 11           1              3  36.194064\n",
              "983  5.367600e+05                 24           1              1  24.521918\n",
              "984  1.704063e+06                 14           1              3  26.196804\n",
              "\n",
              "[985 rows x 5 columns]"
            ]
          },
          "metadata": {
            "tags": []
          },
          "execution_count": 8
        }
      ]
    },
    {
      "cell_type": "code",
      "metadata": {
        "colab": {
          "base_uri": "https://localhost:8080/",
          "height": 286
        },
        "id": "6FzEGNpnHQo4",
        "outputId": "3b96917a-240e-4eb5-b966-83ecdbce8e2e"
      },
      "source": [
        "df.describe()"
      ],
      "execution_count": null,
      "outputs": [
        {
          "output_type": "execute_result",
          "data": {
            "text/html": [
              "<div>\n",
              "<style scoped>\n",
              "    .dataframe tbody tr th:only-of-type {\n",
              "        vertical-align: middle;\n",
              "    }\n",
              "\n",
              "    .dataframe tbody tr th {\n",
              "        vertical-align: top;\n",
              "    }\n",
              "\n",
              "    .dataframe thead th {\n",
              "        text-align: right;\n",
              "    }\n",
              "</style>\n",
              "<table border=\"1\" class=\"dataframe\">\n",
              "  <thead>\n",
              "    <tr style=\"text-align: right;\">\n",
              "      <th></th>\n",
              "      <th>Gastos</th>\n",
              "      <th>Años_capacitación</th>\n",
              "      <th>Años_Cargo</th>\n",
              "      <th>Años_Compañía</th>\n",
              "      <th>Edad</th>\n",
              "    </tr>\n",
              "  </thead>\n",
              "  <tbody>\n",
              "    <tr>\n",
              "      <th>count</th>\n",
              "      <td>9.850000e+02</td>\n",
              "      <td>985.000000</td>\n",
              "      <td>985.000000</td>\n",
              "      <td>985.000000</td>\n",
              "      <td>985.000000</td>\n",
              "    </tr>\n",
              "    <tr>\n",
              "      <th>mean</th>\n",
              "      <td>1.556273e+06</td>\n",
              "      <td>12.591878</td>\n",
              "      <td>1.187817</td>\n",
              "      <td>2.646701</td>\n",
              "      <td>41.955940</td>\n",
              "    </tr>\n",
              "    <tr>\n",
              "      <th>std</th>\n",
              "      <td>1.054048e+06</td>\n",
              "      <td>8.310167</td>\n",
              "      <td>0.496178</td>\n",
              "      <td>0.749696</td>\n",
              "      <td>12.484696</td>\n",
              "    </tr>\n",
              "    <tr>\n",
              "      <th>min</th>\n",
              "      <td>1.000000e-29</td>\n",
              "      <td>0.000000</td>\n",
              "      <td>1.000000</td>\n",
              "      <td>1.000000</td>\n",
              "      <td>21.573973</td>\n",
              "    </tr>\n",
              "    <tr>\n",
              "      <th>25%</th>\n",
              "      <td>7.538530e+05</td>\n",
              "      <td>6.000000</td>\n",
              "      <td>1.000000</td>\n",
              "      <td>2.000000</td>\n",
              "      <td>31.266438</td>\n",
              "    </tr>\n",
              "    <tr>\n",
              "      <th>50%</th>\n",
              "      <td>1.264120e+06</td>\n",
              "      <td>14.000000</td>\n",
              "      <td>1.000000</td>\n",
              "      <td>3.000000</td>\n",
              "      <td>38.855251</td>\n",
              "    </tr>\n",
              "    <tr>\n",
              "      <th>75%</th>\n",
              "      <td>2.147296e+06</td>\n",
              "      <td>21.000000</td>\n",
              "      <td>1.000000</td>\n",
              "      <td>3.000000</td>\n",
              "      <td>53.288356</td>\n",
              "    </tr>\n",
              "    <tr>\n",
              "      <th>max</th>\n",
              "      <td>6.116213e+06</td>\n",
              "      <td>24.000000</td>\n",
              "      <td>5.000000</td>\n",
              "      <td>4.000000</td>\n",
              "      <td>73.879909</td>\n",
              "    </tr>\n",
              "  </tbody>\n",
              "</table>\n",
              "</div>"
            ],
            "text/plain": [
              "             Gastos  Años_capacitación  Años_Cargo  Años_Compañía        Edad\n",
              "count  9.850000e+02         985.000000  985.000000     985.000000  985.000000\n",
              "mean   1.556273e+06          12.591878    1.187817       2.646701   41.955940\n",
              "std    1.054048e+06           8.310167    0.496178       0.749696   12.484696\n",
              "min    1.000000e-29           0.000000    1.000000       1.000000   21.573973\n",
              "25%    7.538530e+05           6.000000    1.000000       2.000000   31.266438\n",
              "50%    1.264120e+06          14.000000    1.000000       3.000000   38.855251\n",
              "75%    2.147296e+06          21.000000    1.000000       3.000000   53.288356\n",
              "max    6.116213e+06          24.000000    5.000000       4.000000   73.879909"
            ]
          },
          "metadata": {
            "tags": []
          },
          "execution_count": 9
        }
      ]
    },
    {
      "cell_type": "markdown",
      "metadata": {
        "id": "KAo3IAUzJ8FX"
      },
      "source": [
        "# Solución\n",
        "\n",
        "1."
      ]
    },
    {
      "cell_type": "code",
      "metadata": {
        "id": "dB0qaJlAHRQi",
        "colab": {
          "base_uri": "https://localhost:8080/",
          "height": 478
        },
        "outputId": "2a1c0141-0a4f-42c6-ef43-f111d4959ab2"
      },
      "source": [
        "# Usamos el método de los mínimos cuadrados para ajustar la regresión lineal multiple\n",
        "Modelo = smf.ols('Gastos ~ Años_capacitación+Años_Cargo+Años_Compañía+Edad', df).fit() #Ajustamos el modelo\n",
        "# Usamos summary para pedir el resultado del modelo\n",
        "Modelo.summary()"
      ],
      "execution_count": null,
      "outputs": [
        {
          "output_type": "execute_result",
          "data": {
            "text/html": [
              "<table class=\"simpletable\">\n",
              "<caption>OLS Regression Results</caption>\n",
              "<tr>\n",
              "  <th>Dep. Variable:</th>         <td>Gastos</td>      <th>  R-squared:         </th> <td>   0.482</td> \n",
              "</tr>\n",
              "<tr>\n",
              "  <th>Model:</th>                   <td>OLS</td>       <th>  Adj. R-squared:    </th> <td>   0.480</td> \n",
              "</tr>\n",
              "<tr>\n",
              "  <th>Method:</th>             <td>Least Squares</td>  <th>  F-statistic:       </th> <td>   228.1</td> \n",
              "</tr>\n",
              "<tr>\n",
              "  <th>Date:</th>             <td>Thu, 18 Mar 2021</td> <th>  Prob (F-statistic):</th> <td>2.23e-138</td>\n",
              "</tr>\n",
              "<tr>\n",
              "  <th>Time:</th>                 <td>02:39:50</td>     <th>  Log-Likelihood:    </th> <td> -14733.</td> \n",
              "</tr>\n",
              "<tr>\n",
              "  <th>No. Observations:</th>      <td>   985</td>      <th>  AIC:               </th> <td>2.948e+04</td>\n",
              "</tr>\n",
              "<tr>\n",
              "  <th>Df Residuals:</th>          <td>   980</td>      <th>  BIC:               </th> <td>2.950e+04</td>\n",
              "</tr>\n",
              "<tr>\n",
              "  <th>Df Model:</th>              <td>     4</td>      <th>                     </th>     <td> </td>    \n",
              "</tr>\n",
              "<tr>\n",
              "  <th>Covariance Type:</th>      <td>nonrobust</td>    <th>                     </th>     <td> </td>    \n",
              "</tr>\n",
              "</table>\n",
              "<table class=\"simpletable\">\n",
              "<tr>\n",
              "          <td></td>             <th>coef</th>     <th>std err</th>      <th>t</th>      <th>P>|t|</th>  <th>[0.025</th>    <th>0.975]</th>  \n",
              "</tr>\n",
              "<tr>\n",
              "  <th>Intercept</th>         <td> 2.003e+06</td> <td> 1.88e+05</td> <td>   10.644</td> <td> 0.000</td> <td> 1.63e+06</td> <td> 2.37e+06</td>\n",
              "</tr>\n",
              "<tr>\n",
              "  <th>Años_capacitación</th> <td>-7.424e+04</td> <td> 3542.683</td> <td>  -20.957</td> <td> 0.000</td> <td>-8.12e+04</td> <td>-6.73e+04</td>\n",
              "</tr>\n",
              "<tr>\n",
              "  <th>Años_Cargo</th>        <td>-3.728e+05</td> <td> 5.05e+04</td> <td>   -7.377</td> <td> 0.000</td> <td>-4.72e+05</td> <td>-2.74e+05</td>\n",
              "</tr>\n",
              "<tr>\n",
              "  <th>Años_Compañía</th>     <td> 8.212e+04</td> <td> 3.59e+04</td> <td>    2.290</td> <td> 0.022</td> <td> 1.18e+04</td> <td> 1.52e+05</td>\n",
              "</tr>\n",
              "<tr>\n",
              "  <th>Edad</th>              <td>   1.7e+04</td> <td> 2097.642</td> <td>    8.103</td> <td> 0.000</td> <td> 1.29e+04</td> <td> 2.11e+04</td>\n",
              "</tr>\n",
              "</table>\n",
              "<table class=\"simpletable\">\n",
              "<tr>\n",
              "  <th>Omnibus:</th>       <td>78.845</td> <th>  Durbin-Watson:     </th> <td>   1.969</td>\n",
              "</tr>\n",
              "<tr>\n",
              "  <th>Prob(Omnibus):</th> <td> 0.000</td> <th>  Jarque-Bera (JB):  </th> <td> 216.250</td>\n",
              "</tr>\n",
              "<tr>\n",
              "  <th>Skew:</th>          <td> 0.410</td> <th>  Prob(JB):          </th> <td>1.10e-47</td>\n",
              "</tr>\n",
              "<tr>\n",
              "  <th>Kurtosis:</th>      <td> 5.144</td> <th>  Cond. No.          </th> <td>    359.</td>\n",
              "</tr>\n",
              "</table><br/><br/>Warnings:<br/>[1] Standard Errors assume that the covariance matrix of the errors is correctly specified."
            ],
            "text/plain": [
              "<class 'statsmodels.iolib.summary.Summary'>\n",
              "\"\"\"\n",
              "                            OLS Regression Results                            \n",
              "==============================================================================\n",
              "Dep. Variable:                 Gastos   R-squared:                       0.482\n",
              "Model:                            OLS   Adj. R-squared:                  0.480\n",
              "Method:                 Least Squares   F-statistic:                     228.1\n",
              "Date:                Thu, 18 Mar 2021   Prob (F-statistic):          2.23e-138\n",
              "Time:                        02:39:50   Log-Likelihood:                -14733.\n",
              "No. Observations:                 985   AIC:                         2.948e+04\n",
              "Df Residuals:                     980   BIC:                         2.950e+04\n",
              "Df Model:                           4                                         \n",
              "Covariance Type:            nonrobust                                         \n",
              "=====================================================================================\n",
              "                        coef    std err          t      P>|t|      [0.025      0.975]\n",
              "-------------------------------------------------------------------------------------\n",
              "Intercept          2.003e+06   1.88e+05     10.644      0.000    1.63e+06    2.37e+06\n",
              "Años_capacitación -7.424e+04   3542.683    -20.957      0.000   -8.12e+04   -6.73e+04\n",
              "Años_Cargo        -3.728e+05   5.05e+04     -7.377      0.000   -4.72e+05   -2.74e+05\n",
              "Años_Compañía      8.212e+04   3.59e+04      2.290      0.022    1.18e+04    1.52e+05\n",
              "Edad                 1.7e+04   2097.642      8.103      0.000    1.29e+04    2.11e+04\n",
              "==============================================================================\n",
              "Omnibus:                       78.845   Durbin-Watson:                   1.969\n",
              "Prob(Omnibus):                  0.000   Jarque-Bera (JB):              216.250\n",
              "Skew:                           0.410   Prob(JB):                     1.10e-47\n",
              "Kurtosis:                       5.144   Cond. No.                         359.\n",
              "==============================================================================\n",
              "\n",
              "Warnings:\n",
              "[1] Standard Errors assume that the covariance matrix of the errors is correctly specified.\n",
              "\"\"\""
            ]
          },
          "metadata": {
            "tags": []
          },
          "execution_count": 10
        }
      ]
    },
    {
      "cell_type": "markdown",
      "metadata": {
        "id": "KXecSjutJ3IV"
      },
      "source": [
        "1. El modelo obtenido es $Gastos=2.003exp^{6}-7.424exp^{4}* Años\\_capacitación\t-3.728exp^{5}*Años\\_Cargo+\t8.212exp^{4}*Años\\_Compañía+1.7exp^{4}*Edad$\n",
        "\n",
        "2. Análisis estadísticos globales. A partir de los valores de F, R2 y R2 Adj podemos concluir que el modelo es capaz de explicar cerca del 48% de la varianza. F es significativo ($F_{est} < pvalor$). Luego, se rechaza la hipótesis nula de que los coeficientes de regresiones son iguales a cero, por lo que al menos un coeficiente debe ser distinto de cero.\n",
        "\n",
        "3. Los coeficientes asociados a cada variable mantienen un test-t estadísticamente significativo ($ t_{est} < pvalor$), por lo que se rechaza la hipótesis nula para estas variables. Es decir, su coeficiente de regresión es distinto a cero.\n"
      ]
    },
    {
      "cell_type": "code",
      "metadata": {
        "id": "tmGWIkLDNcJ9"
      },
      "source": [],
      "execution_count": null,
      "outputs": []
    }
  ]
}