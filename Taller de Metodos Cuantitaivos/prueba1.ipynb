{
  "nbformat": 4,
  "nbformat_minor": 0,
  "metadata": {
    "colab": {
      "provenance": []
    },
    "kernelspec": {
      "name": "python3",
      "display_name": "Python 3"
    },
    "language_info": {
      "name": "python"
    }
  },
  "cells": [
    {
      "cell_type": "markdown",
      "source": [
        "Una compañia de reparto despacha diariamente 400 encomiendas Se sabe, que, por diversos inconvenientes cada encomienda tiene un 8% de probabilidad de volver a la central. Determine:<br>\n",
        "a) El numero esperado y desviacion típica  de encomiendas si son recibidas en un dia<br>\n",
        "b) La probabilidad de tener mas de 370 encomiendas recibidas en un dia<br>\n",
        "c) La probailidad de que, en una semana, máximo dos días no se llegue a las 370 encomiendas recibidas\n",
        "\n",
        "\n",
        "-"
      ],
      "metadata": {
        "id": "tDbuhtYeWJKz"
      }
    },
    {
      "cell_type": "code",
      "execution_count": null,
      "metadata": {
        "colab": {
          "base_uri": "https://localhost:8080/"
        },
        "id": "mYnN_m5EWGeQ",
        "outputId": "7198ddd7-eef9-4d53-8ea3-12d9640c8c8c"
      },
      "outputs": [
        {
          "output_type": "stream",
          "name": "stdout",
          "text": [
            "368.0\n",
            "5.425863986500213\n",
            "0.32993478236039775\n",
            "0.0433392684697194\n"
          ]
        }
      ],
      "source": [
        "import scipy.stats as stats\n",
        "\n",
        "def media(n, p):\n",
        "    return n*p\n",
        "\n",
        "def desv(n, p):\n",
        "    return (n*p * (1-p))**0.5\n",
        "\n",
        "nro_encomiendas = 400\n",
        "falla = 0.08\n",
        "exito = 1 - falla\n",
        "\n",
        "# seccion A\n",
        "numero_esperdo = nro_encomiendas * exito\n",
        "print(numero_esperdo)\n",
        "print( desv( nro_encomiendas, exito) )\n",
        "\n",
        "#seccion B\n",
        "b = 1 - stats.binom.cdf(370, nro_encomiendas, exito)\n",
        "print(b)\n",
        "\n",
        "#seccion C\n",
        "#si en 7 dias, ocurre maximo 2 dias (P <= 2)\n",
        "#tener menos de 370\n",
        "menos = stats.binom.cdf(370, nro_encomiendas, exito)\n",
        "print( stats.binom.cdf(2,7, menos))\n",
        "\n"
      ]
    },
    {
      "cell_type": "markdown",
      "source": [
        "En cierta asignatura, se realizan 3 evaluaciones, durante el semestre y cada una consiste en una prueba de 100 preguntas de verdader y falso, si responde al azar determina<br>\n",
        "a) La esperanza y la desviacion estandar del numero de respuestas correctas, en cada envaluacion<br>\n",
        "b) La probabilidad de que un alumno consiga una azul en cada evaluacion (70 preguntas correctas)<br>\n",
        "c) La probabilidad de que el alumno tenga como máximo un rojo en sus evaluacionees"
      ],
      "metadata": {
        "id": "tDtaj7o_OxXH"
      }
    },
    {
      "cell_type": "code",
      "source": [
        "import scipy.stats as stats\n",
        "\n",
        "def media(n, p):\n",
        "    return n*p\n",
        "\n",
        "def desv(n, p):\n",
        "    return (n*p * (1-p))**0.5\n",
        "\n",
        "nro = 100\n",
        "pos = 0.5\n",
        "\n",
        "#A\n",
        "print(media(nro, pos))\n",
        "print(desv(nro, pos))\n",
        "\n",
        "#B\n",
        "#que sea de 70 para arriba las 3 veces\n",
        "#  P(x >= 70) --> 1 - p(x < 69)\n",
        "\n",
        "pos_azul = 1-stats.binom.cdf(69, nro, pos)\n",
        "#posibilidad que sea un azul\n",
        "#print(pos_azul)\n",
        "#posibilidad que sea un azul 3 veces\n",
        "print(pos_azul **3)\n",
        "\n",
        "#C\n",
        "pos_rojo = stats.binom.cdf(69, nro, pos)\n",
        "#que esa probabilidad  p(x < 2)\n",
        "# rojo * azul**2 *nro_de orden =3\n",
        "tot = pos_rojo* pos_azul* pos_azul * 3\n",
        "\n",
        "print(tot)"
      ],
      "metadata": {
        "colab": {
          "base_uri": "https://localhost:8080/"
        },
        "id": "5Tn4R_rbPj9r",
        "outputId": "c3352ec1-6170-4913-98ef-ea897681a694"
      },
      "execution_count": null,
      "outputs": [
        {
          "output_type": "stream",
          "name": "stdout",
          "text": [
            "50.0\n",
            "5.0\n",
            "6.047030517386926e-14\n",
            "4.621670523233066e-09\n"
          ]
        }
      ]
    },
    {
      "cell_type": "markdown",
      "source": [
        "una persona pasa pregunta. Si contesta correctamente a una pregunta con 5 posibles, (solo una) cana 20000000, en caso contrario se le propone una segunda pregunta, tambien con 5 posibles , si acierta gana 1000000. Si tampoco acierta, se le propone una tercera  con 3 respiuestas posibles. Si acierta no gana nada, sxi falla debe pagar 100000, El juego termina cuando la persona acierta, o cuando falla las 3<br>\n",
        "a) Calcula la posibilidad de  que obbtenga una respuesta correcta, describe el prcedimiento<br>\n",
        "b) cual es la ganancia esperada<br>\n",
        "c) Sea x el mnumero de preguntas  determina su esperanza y desviacion est{andar. Interpreta el resultado>br>\n"
      ],
      "metadata": {
        "id": "NAkXX8_VXs7-"
      }
    },
    {
      "cell_type": "code",
      "source": [
        "import scipy.stats as stats\n",
        "\n",
        "def media(n, p):\n",
        "    return n*p\n",
        "\n",
        "def desv(n, p):\n",
        "    return (n*p * (1-p))**0.5\n",
        "\n",
        "#A tenemos 3 casos posibles, cuando acierta la primera vez, cuando acierta la segunda, y cuando acietta la tercera vez.\n",
        "#calculamos las probabilidades en base a casos favorables/casos totales\n",
        "\n",
        "primera = 1/5\n",
        "segunda = 4/5 * 1/5\n",
        "tercera = 4/5 * 4/5 * 1/3\n",
        "\n",
        "#y los muktiplicamos para sacar la posibilidad\n",
        "tot = primera * segunda * tercera\n",
        "print(tot)\n",
        "\n",
        "#para determinar la ganancia, hay que sumar la cantidad ganada por las posibilidades de ganar (o perder) en cada una de las etapas\n",
        "\n",
        "pozo_primera = primera * 20000000\n",
        "pozo_segunda = segunda * 1000000\n",
        "#aqui cambia por al perder baja y la posibilida es distinta tambien\n",
        "pozo_tercera = 4/5 * 4/5 * 2/3 * -10000\n",
        "\n",
        "pozo_tot = pozo_primera + pozo_segunda + pozo_tercera\n",
        "print(round(pozo_tot))\n",
        "\n",
        "#C\n",
        "nro = 3 #n\n",
        "#p  es la prpbabilidad tot\n",
        "print( media(nro, tot))\n",
        "print(desv(nro, tot))\n",
        "\n"
      ],
      "metadata": {
        "colab": {
          "base_uri": "https://localhost:8080/"
        },
        "id": "l0xYqXQ0XJ1b",
        "outputId": "cf72960f-ee36-4829-ee81-71942a987655"
      },
      "execution_count": null,
      "outputs": [
        {
          "output_type": "stream",
          "name": "stdout",
          "text": [
            "0.0068266666666666675\n",
            "4155733\n",
            "0.02048\n",
            "0.1426190375323949\n"
          ]
        }
      ]
    },
    {
      "cell_type": "markdown",
      "source": [
        "funcion"
      ],
      "metadata": {
        "id": "Kl4SR5nqdgOc"
      }
    },
    {
      "cell_type": "code",
      "source": [
        "#B que el tornillo se válid\n",
        "\n",
        "minimo = 1.7\n",
        "maximo = 2.4\n",
        "\n",
        "#es la integral entre esos 2 puntos\n",
        "from sympy import *\n",
        "\n",
        "x,y = symbols('x y')\n",
        "expr= 3/4(x-1)(3-x)\n",
        "intr = integrate(exp,  (x, minimo, aa))\n"
      ],
      "metadata": {
        "colab": {
          "base_uri": "https://localhost:8080/"
        },
        "id": "ssn6ZuDfdha8",
        "outputId": "eca4826a-ce8d-4efa-c9f6-dd343df41f40"
      },
      "execution_count": null,
      "outputs": [
        {
          "output_type": "stream",
          "name": "stdout",
          "text": [
            "0.126506008\n"
          ]
        }
      ]
    }
  ]
}