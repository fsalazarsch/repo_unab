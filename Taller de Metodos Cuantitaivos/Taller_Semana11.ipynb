{
  "nbformat": 4,
  "nbformat_minor": 0,
  "metadata": {
    "colab": {
      "provenance": []
    },
    "kernelspec": {
      "name": "python3",
      "display_name": "Python 3"
    },
    "language_info": {
      "name": "python"
    }
  },
  "cells": [
    {
      "cell_type": "markdown",
      "metadata": {
        "id": "hKXLPSe7Jdm8"
      },
      "source": [
        "#Taller Semana 11\n",
        "\n",
        "Considerando la base de datos adjunta al taller debes completar los siguientes pasos, recuerda responder agregando si es necesario un cuadro de código y/o texto.\n",
        "\n",
        "1. Anota las librerias necesarias para correr el(los) código(s).\n",
        "2. Importa y limpia (si amerita) adecuadamente la base de datos.\n",
        "3. Desarrolla un modelo de regresión lineal múltiple donde la variable explicada sea el producto interno bruto del país (gdp, por sus siglas en inglés).\n",
        "4. ¿Cuál es el efecto causal que quieres estimar? ¿Por qué es interesante?\n",
        "5. Concluya de manera global sobre los resultados del modelo.\n",
        "6. Concluya de manera particular los resultados del módelo.\n",
        "7. ¿Qué variables no consideradas podrían afectar la variable explicada? Justifique."
      ]
    },
    {
      "cell_type": "markdown",
      "source": [
        "1. Anota las librerías necesarias para correr el(los) código(s)."
      ],
      "metadata": {
        "id": "nvMJzsZpNtp0"
      }
    },
    {
      "cell_type": "markdown",
      "source": [],
      "metadata": {
        "id": "6ydZ6KI9-IG9"
      }
    },
    {
      "cell_type": "code",
      "execution_count": null,
      "metadata": {
        "id": "MOdkwijvNrNy"
      },
      "outputs": [],
      "source": [
        "#libreria base para el código\n",
        "import pandas as pd\n",
        "#análisis\n",
        "import statsmodels.api as sm\n",
        "import statsmodels.formula.api as smf"
      ]
    },
    {
      "cell_type": "markdown",
      "source": [
        "2 . Importa y limpia (si amerita) adecuadamente la base de datos."
      ],
      "metadata": {
        "id": "prozyVomX9OC"
      }
    },
    {
      "cell_type": "code",
      "source": [
        "#agregar y limpiar base\n",
        "bdd = pd.read_csv(\"nations_gdp_school_life_co2.csv\", sep = ';', decimal=\",\", index_col=0)\n",
        "#para limpiar la base de datos quitaremos todos los paises que tengan NaN en alguna de sus columnas, y quitaremos la columna paises\n",
        "df1 = bdd[[\"region\", 'gdp', 'school', 'life', 'co2']].dropna()\n",
        "#mostramos la estructura de la bdd, y la bdd filtrada\n",
        "print(df1.info())\n",
        "print(df1)"
      ],
      "metadata": {
        "colab": {
          "base_uri": "https://localhost:8080/"
        },
        "id": "KkzZeMYJX28M",
        "outputId": "4fe623aa-e951-4194-cddb-fabd94fdc1fc"
      },
      "execution_count": null,
      "outputs": [
        {
          "output_type": "stream",
          "name": "stdout",
          "text": [
            "<class 'pandas.core.frame.DataFrame'>\n",
            "Int64Index: 175 entries, 1 to 194\n",
            "Data columns (total 5 columns):\n",
            " #   Column  Non-Null Count  Dtype  \n",
            "---  ------  --------------  -----  \n",
            " 0   region  175 non-null    object \n",
            " 1   gdp     175 non-null    float64\n",
            " 2   school  175 non-null    float64\n",
            " 3   life    175 non-null    float64\n",
            " 4   co2     175 non-null    float64\n",
            "dtypes: float64(4), object(1)\n",
            "memory usage: 8.2+ KB\n",
            "None\n",
            "      region           gdp     school       life    co2\n",
            "1     Africa   7300.399902   6.716667  72.316666  15.00\n",
            "2     Africa   1338.800049   3.100000  54.733334   1.20\n",
            "3     Africa  12307.400390   8.600000  52.250000   9.20\n",
            "4     Africa   1063.400024   1.300000  53.783333   0.20\n",
            "5     Africa    349.200012   2.483333  48.866665   0.10\n",
            "..       ...           ...        ...        ...    ...\n",
            "189  Oceania   1953.800049   4.116667  61.483334   2.75\n",
            "190  Oceania   4012.600098  10.300000  71.533333   3.10\n",
            "191  Oceania   2249.199951   4.500000  66.500000   1.40\n",
            "192  Oceania   4072.199951  10.133333  71.833336   4.85\n",
            "194  Oceania   3809.800049   6.700000  69.966667   1.50\n",
            "\n",
            "[175 rows x 5 columns]\n"
          ]
        }
      ]
    },
    {
      "cell_type": "code",
      "source": [
        "#Anexo, estudio descriptivo de la variable\n",
        "df1[\"gdp\"].describe()"
      ],
      "metadata": {
        "colab": {
          "base_uri": "https://localhost:8080/"
        },
        "id": "kn6jZs3uaOtx",
        "outputId": "cbcc5a7b-2ddb-42b0-a32c-3bb56039c672"
      },
      "execution_count": null,
      "outputs": [
        {
          "output_type": "execute_result",
          "data": {
            "text/plain": [
              "count      175.000000\n",
              "mean     12262.840660\n",
              "std      14056.937687\n",
              "min        279.799988\n",
              "25%       2100.300049\n",
              "50%       6932.799805\n",
              "75%      17804.200195\n",
              "max      74906.000000\n",
              "Name: gdp, dtype: float64"
            ]
          },
          "metadata": {},
          "execution_count": 21
        }
      ]
    },
    {
      "cell_type": "markdown",
      "source": [
        "3. Desarrolla un modelo de regresión lineal múltiple donde la variable explicada sea el producto interno bruto del país (gdp, por sus siglas en inglés)"
      ],
      "metadata": {
        "id": "oWwL0-YeVLnN"
      }
    },
    {
      "cell_type": "code",
      "source": [
        "#definimos las varibles para el modelo, para este modelo no consideraremos las regiones\n",
        "gdp = df1[\"gdp\"] #variable principal, pib\n",
        "school = df1[\"school\"]  #indice de escolaridad\n",
        "life = df1[\"life\"]  #esperanza de vida\n",
        "co2= df1[\"co2\"]  #toneladas de co2 producidas\n",
        "lm1 = smf.ols(formula=\"gdp~school+life+co2\", data=df1).fit()\n",
        "lm1.params\n",
        "print(lm1.summary())"
      ],
      "metadata": {
        "colab": {
          "base_uri": "https://localhost:8080/"
        },
        "id": "y4qMi8psEmS0",
        "outputId": "ddbf5f4a-ea1f-44fc-face-c01cef135275"
      },
      "execution_count": null,
      "outputs": [
        {
          "output_type": "stream",
          "name": "stdout",
          "text": [
            "                            OLS Regression Results                            \n",
            "==============================================================================\n",
            "Dep. Variable:                    gdp   R-squared:                       0.769\n",
            "Model:                            OLS   Adj. R-squared:                  0.764\n",
            "Method:                 Least Squares   F-statistic:                     189.2\n",
            "Date:                Tue, 27 Dec 2022   Prob (F-statistic):           4.26e-54\n",
            "Time:                        21:09:09   Log-Likelihood:                -1791.2\n",
            "No. Observations:                 175   AIC:                             3590.\n",
            "Df Residuals:                     171   BIC:                             3603.\n",
            "Df Model:                           3                                         \n",
            "Covariance Type:            nonrobust                                         \n",
            "==============================================================================\n",
            "                 coef    std err          t      P>|t|      [0.025      0.975]\n",
            "------------------------------------------------------------------------------\n",
            "Intercept  -1.983e+04   4250.157     -4.665      0.000   -2.82e+04   -1.14e+04\n",
            "school       651.8583    259.089      2.516      0.013     140.434    1163.283\n",
            "life         301.8879     78.581      3.842      0.000     146.775     457.001\n",
            "co2          362.4311     22.374     16.198      0.000     318.266     406.597\n",
            "==============================================================================\n",
            "Omnibus:                       36.887   Durbin-Watson:                   1.850\n",
            "Prob(Omnibus):                  0.000   Jarque-Bera (JB):               67.548\n",
            "Skew:                           1.020   Prob(JB):                     2.15e-15\n",
            "Kurtosis:                       5.258   Cond. No.                         600.\n",
            "==============================================================================\n",
            "\n",
            "Notes:\n",
            "[1] Standard Errors assume that the covariance matrix of the errors is correctly specified.\n"
          ]
        }
      ]
    },
    {
      "cell_type": "markdown",
      "source": [
        "4. ¿Cuál es el efecto causal que quieres estimar? ¿Por qué es interesante?\n",
        "---\n",
        "<p align=\"justify\">Se pretende analizar un modelo, que relacione el pib, con los años promedio de escolaridad, la esperanza de vida y las toneladas de CO2 por país.\n",
        "Es una medida importante, porque refleja el nivel de actividad económica en una economía y, por tanto, puede ser utilizada para evaluar el bienestar de la población.\n",
        "Además, el PIB también es útil para los gobiernos y los economistas a la hora de tomar decisiones económicas.\n"
      ],
      "metadata": {
        "id": "Nj3W1PDJQ2hh"
      }
    },
    {
      "cell_type": "markdown",
      "source": [
        "5. Concluya de manera global sobre los resultados del modelo.\n",
        "---\n",
        "<p align=\"justify\">Al realizar el summary, notamos que el <b>R ajustado -Adj. R-squared-</b> es un 0.764, lo que quiere decir que las varaibles school, life y co2 <i>explican en un 76,4% los resultados de la variable gdp</i>, lo que nos indica que es un buen modelo<br>\n",
        "Y como el <b>p estadistico -Prob(F-stastistic)-</b>, <i>no supera el 5%, el modelo es significativo</i>"
      ],
      "metadata": {
        "id": "K8NAjcY6eJ_7"
      }
    },
    {
      "cell_type": "markdown",
      "source": [
        "6. Concluya de manera particular los resultados del módelo.\n",
        "---\n",
        "<p align=\"justify\">En lo que respecta al analisis de las variables, el indice de escolaridad, la esperanza de vida y las toneladas de CO2, <b>son significativas</b> al no ser mayores que el 5%."
      ],
      "metadata": {
        "id": "Vc7nK6RuKgM3"
      }
    },
    {
      "cell_type": "markdown",
      "source": [
        "7.\t¿Qué variables no consideradas podrían afectar la variable explicada? Justifique.\n",
        "---\n",
        "<p align=\"justify\">Hay varias variables no consideradas, como la población total activa, ya que incide dentro del consumo privado, otra es el indice de libertad económica ya que incide en la cantidad de exportaciones e importaciones, o el indice de democracia, que tambien incide en el gasto público, todas varibles necesarias para la determinacion del PIB\n",
        "\n"
      ],
      "metadata": {
        "id": "fg-1YrQgS1fJ"
      }
    },
    {
      "cell_type": "markdown",
      "source": [
        "Enlace al código:<br>\n",
        "https://colab.research.google.com/drive/1N4ikygMDf6jnK7wFD39mblZ9OPctd8Hd?usp=sharing"
      ],
      "metadata": {
        "id": "11gdIuT2dKRY"
      }
    }
  ]
}