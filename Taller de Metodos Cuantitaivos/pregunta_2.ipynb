{
  "nbformat": 4,
  "nbformat_minor": 0,
  "metadata": {
    "colab": {
      "provenance": []
    },
    "kernelspec": {
      "name": "python3",
      "display_name": "Python 3"
    },
    "language_info": {
      "name": "python"
    }
  },
  "cells": [
    {
      "cell_type": "markdown",
      "source": [
        "Para el caso de las variables, utilizamos t-student, donde la hipotesis nula será no significativo para el modelo"
      ],
      "metadata": {
        "id": "5NfztYxdRw5M"
      }
    },
    {
      "cell_type": "code",
      "source": [
        "import scipy.stats as ss"
      ],
      "metadata": {
        "id": "OWmwQLDsVWa3"
      },
      "execution_count": null,
      "outputs": []
    },
    {
      "cell_type": "code",
      "source": [
        "#calculamos el valor critico de F\n",
        "alpha= 0.05\n",
        "f1= 3\n",
        "f2 = 43\n",
        "print(\"valor critico de F: \" , round(ss.f.ppf(1-alpha,f1,f2), 3))\n"
      ],
      "metadata": {
        "colab": {
          "base_uri": "https://localhost:8080/"
        },
        "id": "9mVBXbSmRp0Y",
        "outputId": "e47743b9-4ed9-42bd-d73b-a5b7d6c01d5c"
      },
      "execution_count": null,
      "outputs": [
        {
          "output_type": "stream",
          "name": "stdout",
          "text": [
            "valor_critico_de_F:  2.822\n"
          ]
        }
      ]
    },
    {
      "cell_type": "markdown",
      "source": [
        "A partir de los valores de F, R2 y R2 Adj podemos concluir que el modelo\n",
        "es capaz de explicar cerca del 0.148% de la varianza.\n",
        "F es signi\n",
        "cativo (47.222 > 2.822). Luego, se rechaza la hipótesis nula de que los coe\n",
        "cientes de regresiones son iguales a cero, por lo que al menos\n",
        "un coe\n",
        "ciente debe ser distinto de cero.\n"
      ],
      "metadata": {
        "id": "EveM482kU49f"
      }
    },
    {
      "cell_type": "code",
      "execution_count": null,
      "metadata": {
        "colab": {
          "base_uri": "https://localhost:8080/"
        },
        "id": "59-t4tnKPIuS",
        "outputId": "958aad07-ac8e-4921-eee0-852a833b9aa2"
      },
      "outputs": [
        {
          "output_type": "stream",
          "name": "stdout",
          "text": [
            "valor critico de t= 2.02\n"
          ]
        }
      ],
      "source": [
        "alpha= 0.05\n",
        "#estadisticos de prueba, que estan extraidos del modelo, como referencia\n",
        "#tgmat = -1.753\n",
        "#tnpieu = 2.1252\n",
        "#temp = 1.273\n",
        "#tgasto = 3.634\n",
        "#tcalifev = 5.784\n",
        "\n",
        "p= alpha/2\n",
        "obs = 47\n",
        "regresion = 5\n",
        "gdl= obs-regresion-1\n",
        "print(\"valor critico de t=\" ,round(ss.t.ppf(1-p,gdl),3))\n"
      ]
    },
    {
      "cell_type": "markdown",
      "source": [
        "Si se cumple que, <br>\n",
        " el valor del estadistico de prueba ≥ val_cirtico de t<br> Se rechaza la hipotesis nula, y en el caso contrario no se rechaza<br>\n",
        "En los casos donde se cumple la igualdad es con las variables:\n",
        "NPEIU, GASTO Y CALIFEV, por lo que ser rechaza la hipotesis nula para estas variables<br>\n",
        "Para el caso de GMATy EMP acepta la hipótesis nula por lo que su coe\n",
        "ciente de regresión es igual a cero\n"
      ],
      "metadata": {
        "id": "DSqH_6UxWJjX"
      }
    }
  ]
}